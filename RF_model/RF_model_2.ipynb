{
 "cells": [
  {
   "cell_type": "markdown",
   "id": "0b2053d9-df35-407b-adac-4a9f814ea73f",
   "metadata": {},
   "source": [
    "### Importing Libraries"
   ]
  },
  {
   "cell_type": "code",
   "execution_count": 18,
   "id": "41ed8a5f-7679-4d7e-bd81-f06aefe2d13d",
   "metadata": {},
   "outputs": [],
   "source": [
    "import pandas as pd\n",
    "import numpy as np\n",
    "from sklearn.model_selection import train_test_split,cross_val_score\n",
    "from sklearn.ensemble import RandomForestRegressor\n",
    "from sklearn.metrics import mean_absolute_error, mean_squared_error, r2_score\n",
    "from sklearn.impute import SimpleImputer\n",
    "from sklearn.preprocessing import OrdinalEncoder\n",
    "import matplotlib.pyplot as plt\n",
    "import seaborn as sns\n",
    "from scipy import stats\n",
    "import warnings \n",
    "warnings.filterwarnings('ignore')\n"
   ]
  },
  {
   "cell_type": "markdown",
   "id": "3e127316-8d2d-48d6-9038-1bb94c3ce487",
   "metadata": {},
   "source": [
    "### Loading Scraped Data From Flipkart.com\n",
    "https://github.com/Dawood006/Web-Scrape/blob/bd647c7e8254a8f7f33e01f3e15fe3bb2c42fc30/Flipkart%20Laptops/Laptop_web_scrape.ipynb"
   ]
  },
  {
   "cell_type": "code",
   "execution_count": 20,
   "id": "239b3570-8b35-45e3-a4b8-1e6e8158b2b4",
   "metadata": {},
   "outputs": [],
   "source": [
    "file_path = \"lappy2.csv\"  \n",
    "df = pd.read_csv(file_path)"
   ]
  },
  {
   "cell_type": "markdown",
   "id": "e0d24088-e13c-460b-a536-6b5fb47f796d",
   "metadata": {},
   "source": [
    "### 15 key features based on their correlation with the target (Price) variable while maintaining predictive accuracy are Selected \n",
    "##### Converted all the possible and relevant Data to numberic (All the steps mentioned in the below attached file 👇)\n",
    "https://github.com/Dawood006/Laptop-Price-Benchmark-App/blob/506dd8a19f6c541094705f48c8d735e95517ef82/Linear%20model/Data_Cleaning%20%26%20Linear_pred.ipynb"
   ]
  },
  {
   "cell_type": "markdown",
   "id": "074a2231-b330-4022-9da6-87b10ec4d45e",
   "metadata": {},
   "source": [
    "#### Correaltion with Price >>\n",
    "| Feature                                    | Value      |\n",
    "|--------------------------------------------|-----------:|\n",
    "| Finger Print Sensor                        |  0.015237  |\n",
    "| MS Office Provided                         |  0.113146  |\n",
    "| Backlit Keyboard                           |  0.297286  |\n",
    "| Touchscreen                                |  0.197142  |\n",
    "| Face Recognition                           |  0.017621  |\n",
    "| Number of Cores                            |  0.464083  |\n",
    "| Rating                                     |  0.237274  |\n",
    "| Price                                      |  1.000000  |\n",
    "| RAM (GB)                                   |  0.766697  |\n",
    "| RAM Type Rank                              |  0.566023  |\n",
    "| Domestic Warranty_in_year                  |  0.044794  |\n",
    "| SSD (GB)                                   |  0.583948  |\n",
    "| HDD (GB)                                   | -0.057306  |\n",
    "| Expandable Memory (GB)                     | -0.022308  |\n",
    "| ASUS                                       |  0.018461  |\n",
    "| Acer                                       | -0.108780  |\n",
    "| Apple                                      |  0.504877  |\n",
    "| DELL                                       | -0.068857  |\n",
    "| HP                                         | -0.126486  |\n",
    "| Infinix                                    | -0.044831  |\n",
    "| Lenovo                                     | -0.108656  |\n",
    "| MICROSOFT                                  |  0.197851  |\n",
    "| MSI                                        |  0.122633  |\n",
    "| SAMSUNG                                    |  0.089990  |\n",
    "| others                                     | -0.123365  |\n",
    "| Screen Size (Inch)                         | -0.012899  |\n",
    "| drive_HDD                                  | -0.055057  |\n",
    "| drive_Hybrid                               | -0.038043  |\n",
    "| drive_SSD                                  |  0.120951  |\n",
    "| drive_eMMC                                 | -0.109776  |\n",
    "| Processor Generation_intel                 | -0.080597  |\n",
    "| Dedicated Graphic Memory Capacity (GB)     |  0.365869  |\n",
    "| Processor_AMD                              | -0.191014  |\n",
    "| Processor_Apple                            |  0.504877  |\n",
    "| Processor_Intel                            | -0.085611  |\n",
    "| Processor_MediaTek                         | -0.064444  |\n",
    "| Processor_Qualcomm                         |  0.207040  |\n",
    "| Apple_chips                                |  0.536844  |\n",
    "| Processor_variant_new                      |  0.057682  |\n",
    "| Expandable SSD Capacity (GB)               |  0.234964  |\n",
    "| GPU_AMD                                    | -0.236549  |\n",
    "| GPU_Intel                                  | -0.270394  |\n",
    "| GPU_MediaTek                               | -0.064444  |\n",
    "| GPU_NA                                     |  0.390725  |\n",
    "| GPU_NVIDIA                                 |  0.271376  |\n",
    "| GPU_Qualcomm                               |  0.211381  |\n",
    "| Os_Rank                                    |  0.385102  |\n",
    "| Laptop_type                                |  0.286978  |\n",
    "| Screen_res (pixel)                         |  0.751716  |\n"
   ]
  },
  {
   "cell_type": "markdown",
   "id": "e7adf1e3-5fbf-4788-84a5-b3940ce5f326",
   "metadata": {},
   "source": [
    "### All the Feature Engineering and Data Cleaning is Explaines Step by Step in Below file 👇\n",
    "https://github.com/Dawood006/Laptop-Price-Benchmark-App/blob/506dd8a19f6c541094705f48c8d735e95517ef82/Linear%20model/Data_Cleaning%20%26%20Linear_pred.ipynb\n",
    "##### (We are just Repeating the same steps but Only on selected features this time)"
   ]
  },
  {
   "cell_type": "code",
   "execution_count": 24,
   "id": "5553b764-aae3-426d-a87a-5776f8a51a9f",
   "metadata": {},
   "outputs": [],
   "source": [
    "# Drop irrelevant columns\n",
    "drop_columns = [\"Unnamed: 0\", \"index\", \"Link\"]  \n",
    "df_cleaned = df.drop(columns=drop_columns, errors=\"ignore\")"
   ]
  },
  {
   "cell_type": "markdown",
   "id": "6e138718-6b47-4c8c-930f-7e4f44cc2248",
   "metadata": {},
   "source": [
    "#### _Eliminating Duplicates_"
   ]
  },
  {
   "cell_type": "code",
   "execution_count": 26,
   "id": "876c3e8b-d063-4bd5-b60f-9313c10a1ed7",
   "metadata": {},
   "outputs": [],
   "source": [
    "# Remove duplicate rows\n",
    "df_cleaned = df_cleaned.drop_duplicates()"
   ]
  },
  {
   "cell_type": "markdown",
   "id": "b78823bf-3f68-4122-ab28-a4fdf019912f",
   "metadata": {},
   "source": [
    "#### _Price_ (Target)"
   ]
  },
  {
   "cell_type": "code",
   "execution_count": 28,
   "id": "3ff77696-3da1-4975-a468-cf770115eaf4",
   "metadata": {},
   "outputs": [],
   "source": [
    "# Convert price column to numerical format\n",
    "df_cleaned[\"price\"] = df_cleaned[\"price\"].replace(\"[\\u20b9,]\", \"\", regex=True).astype(float)"
   ]
  },
  {
   "cell_type": "markdown",
   "id": "5c315267-c5b5-4d1f-9b28-b5f89406c95a",
   "metadata": {},
   "source": [
    "#### _Cores :_"
   ]
  },
  {
   "cell_type": "code",
   "execution_count": 30,
   "id": "a2a7f47d-a8bd-485b-8f06-ddb9f1b28629",
   "metadata": {},
   "outputs": [],
   "source": [
    "#Fetching Number of cores from Processor Name creating a Function for it\n",
    "def extract_core(x): \n",
    "    \n",
    "    if len(x.split(' '))==2: #for PRO & MAX variant\n",
    "        if 'M3 Pro' in x:\n",
    "            return 12\n",
    "        elif 'M4 Pro' in x:\n",
    "            return 14\n",
    "        elif 'M3 Max' in x or 'M4 Max' in x:\n",
    "            return 16\n",
    "        \n",
    "    x = x.split(' ') #fro AMD & Qualcomm\n",
    "    if 'Hexa' in x:\n",
    "        return 6\n",
    "    elif 'Octa' in x or 'MT8788' in x or 'M1' in x or 'M2' in x or 'M3' in x or 'M4' in x or'MT8183'in x :\n",
    "        return 8\n",
    "    elif 'Quad' in x:\n",
    "        return 4\n",
    "    elif 'Dual' in x:\n",
    "        return 2\n",
    "    elif 'Z1' in x:  \n",
    "        return 10\n",
    "    elif '12' in x or 'Elite' in x: \n",
    "        return 12\n",
    "    \n",
    "   \n",
    "    else:\n",
    "        return 0"
   ]
  },
  {
   "cell_type": "code",
   "execution_count": 31,
   "id": "e86b5d4a-9e22-49c1-986f-dcbbefcc9433",
   "metadata": {},
   "outputs": [],
   "source": [
    "df_cleaned['New_core'] = df_cleaned['Processor Name'].apply(extract_core)\n",
    "df_cleaned.loc[(df_cleaned['New_core'] != df_cleaned['Number of Cores']) & (df_cleaned['New_core'] != 0), 'Number of Cores']=df_cleaned.loc[((df_cleaned['New_core']!=df_cleaned['Number of Cores'])) &(df_cleaned['New_core']!=0)]['New_core']\n",
    "#Imputing New Values into Missing and Incorrect data in the \"Number of Cores\" column\n",
    "df_cleaned['Number of Cores'].fillna(value=4,inplace=True)#we are assuming the mean to be 4 not 6\n"
   ]
  },
  {
   "cell_type": "markdown",
   "id": "a62028cd-1028-4a27-8751-718c65fd44db",
   "metadata": {},
   "source": [
    "#### _RAM :_"
   ]
  },
  {
   "cell_type": "code",
   "execution_count": 33,
   "id": "51c7551c-106f-488a-a7e0-a716f93d285c",
   "metadata": {},
   "outputs": [],
   "source": [
    "df_cleaned['RAM (GB)']=df_cleaned.RAM.apply(lambda x :x.split(' ')[0]) #Converting to Numberic by removing GB from data\n",
    "df_cleaned['RAM (GB)']=df_cleaned['RAM (GB)'].astype(int)"
   ]
  },
  {
   "cell_type": "markdown",
   "id": "67105bd4-0dc2-4b92-8d08-6289c3e22a07",
   "metadata": {},
   "source": [
    "#### _RAM Type :_"
   ]
  },
  {
   "cell_type": "code",
   "execution_count": 35,
   "id": "d0dbe136-2caf-45f6-9b20-d26a6f4837df",
   "metadata": {},
   "outputs": [],
   "source": [
    "Ranking=[['DDR4','LPDDR4','LPDDR4X','DDR5','LPDDR5', 'LPDDR5X','Unified Memory']] #Ranked Apple Higher than others Bcoz they are Expensive & Brand Value\n",
    "df_cleaned['RAM Type Rank']=OrdinalEncoder(categories=Ranking).fit_transform(df_cleaned[['RAM Type']]).astype(int)"
   ]
  },
  {
   "cell_type": "markdown",
   "id": "4bf46050-a423-4ba9-b474-17d86680c3a5",
   "metadata": {},
   "source": [
    "#### _Processor :_"
   ]
  },
  {
   "cell_type": "code",
   "execution_count": 37,
   "id": "48414727-6000-4be3-8209-9a6176b94c91",
   "metadata": {},
   "outputs": [],
   "source": [
    "Processor=pd.get_dummies(df_cleaned['Processor Brand'],prefix='Processor').astype(int)\n",
    "df_cleaned=df_cleaned.join(Processor)"
   ]
  },
  {
   "cell_type": "markdown",
   "id": "7dcf9ba4-d99a-4a62-be50-5f6f5d311e88",
   "metadata": {},
   "source": [
    "#### _Apple Chip :_"
   ]
  },
  {
   "cell_type": "code",
   "execution_count": 39,
   "id": "0d86e161-7499-47c7-8347-20eef9f5bb30",
   "metadata": {},
   "outputs": [],
   "source": [
    "#Extract_apple_chips\n",
    "def extractt(x):\n",
    "    number=''.join(i if i.isdigit() else ' ' for i in x)\n",
    "    sep=number.split()\n",
    "    if len(sep)>=2:\n",
    "        return sep[0]+'.'+sep[1]\n",
    "\n",
    "    else:\n",
    "        return sep[0]"
   ]
  },
  {
   "cell_type": "code",
   "execution_count": 40,
   "id": "86f0ca84-e727-4356-a83c-03faa76d67fe",
   "metadata": {},
   "outputs": [],
   "source": [
    "df_cleaned['Apple_chips']=df_cleaned[df_cleaned['Processor Brand']=='Apple']['Processor Name'].replace(['M3 Pro','M3 Max','M4 Pro','M4 Max'],['3.5','3.75','4.5','4.75']).apply(extractt).astype(float)"
   ]
  },
  {
   "cell_type": "markdown",
   "id": "be894693-828a-4357-a2cf-fe1e4079e728",
   "metadata": {},
   "source": [
    "#### _GPU :_"
   ]
  },
  {
   "cell_type": "code",
   "execution_count": 42,
   "id": "46a38d50-c540-44b4-846b-282211fead72",
   "metadata": {},
   "outputs": [],
   "source": [
    "df_cleaned[(df_cleaned['Graphic Processor'].astype(str).apply(lambda x :x.split(' ')[0])=='NA')&(df_cleaned['Graphic Processor'].astype(str).apply(lambda x :len(x.split(' '))>1))]\n",
    "df_cleaned['Graphic Processor']=df_cleaned['Graphic Processor'].replace(['NA Intel','NA Integrated Graphics','NA Intel UHD Graphics'],['NA','NA','NA'])\n",
    "df_cleaned['Graphic Processor'].fillna(value='NA',inplace=True)\n",
    "df_cleaned['Graphic Processor']=df_cleaned['Graphic Processor'].astype(str).apply(lambda x :x.split(' ')[0])\n",
    "GPU=pd.get_dummies(df['Graphic Processor'].astype(str).apply(lambda x :x.split(' ')[0]),drop_first=False,prefix='GPU').astype(int)\n",
    "df_cleaned=df_cleaned.join(GPU)"
   ]
  },
  {
   "cell_type": "markdown",
   "id": "d2dd86da-bfdf-44c7-99d6-69c1b728272b",
   "metadata": {},
   "source": [
    "#### _Operating System (Ranked) :_"
   ]
  },
  {
   "cell_type": "code",
   "execution_count": 44,
   "id": "99f4590d-25cc-4957-b732-f26989f708c9",
   "metadata": {},
   "outputs": [],
   "source": [
    "os_rank=[['DOS','Prime OS','Chrome','Ubuntu','Windows 10 Home','Windows 10 Pro','Windows 10','Windows 11 Home','Windows 11 Pro','Mac OS Big Sur','macOS Sonoma','macOS Sequoia']]\n",
    "df_cleaned['Os_Rank']=OrdinalEncoder(categories=os_rank).fit_transform(df_cleaned[['Operating System']]).astype(int)"
   ]
  },
  {
   "cell_type": "markdown",
   "id": "810dbcf6-5b7a-41a5-aae0-38f2c77604ca",
   "metadata": {},
   "source": [
    "#### _Laptop Type :_"
   ]
  },
  {
   "cell_type": "code",
   "execution_count": 46,
   "id": "cbfdd314-e2b0-4687-8f47-a44076437a65",
   "metadata": {},
   "outputs": [],
   "source": [
    "type=[['Chromebook', 'Notebook','Laptop','Thin and Light Laptop','Handheld Gaming PC','2 in 1 Laptop','Business Laptop','Gaming Laptop','Dual Screen Laptop']]\n",
    "df_cleaned['Laptop_type']=OrdinalEncoder(categories=type).fit_transform(df_cleaned[['Type']]).astype(int)"
   ]
  },
  {
   "cell_type": "markdown",
   "id": "1dcb69cf-de5d-4fe6-a608-da94b3ed28df",
   "metadata": {},
   "source": [
    "#### _Screen Resolution :_"
   ]
  },
  {
   "cell_type": "code",
   "execution_count": 48,
   "id": "79726a91-83ae-4d7d-bc50-6de16847c947",
   "metadata": {},
   "outputs": [],
   "source": [
    "df_cleaned['Screen_res (pixel)']=df_cleaned['Screen Resolution'].apply(lambda x:''.join(i if i.isdigit() else ' ' for i in x).split())\n",
    "df_cleaned['Screen_res (pixel)']=df_cleaned['Screen_res (pixel)'].apply(lambda x: list(x))\n",
    "df_cleaned['Screen_res (pixel)']=df_cleaned['Screen_res (pixel)'].apply(lambda x:int(x[1])*int(x[0]) if len(x)>=2 else int(x[0])*int(x[0])).astype(int)"
   ]
  },
  {
   "cell_type": "markdown",
   "id": "c2861c90-356a-427a-8bc5-c9b0e91e8b1d",
   "metadata": {},
   "source": [
    "#### _SSD :_"
   ]
  },
  {
   "cell_type": "code",
   "execution_count": 50,
   "id": "5b2bb8a6-bffc-4e25-89c2-be7adef86792",
   "metadata": {},
   "outputs": [],
   "source": [
    "df_cleaned['SSD Capacity'].replace(['1 TB','2 TB',np.nan],['1000 GB','2000 GB','0 GB'],inplace=True) #All the data in GB unit\n",
    "df_cleaned['SSD (GB)']=df_cleaned['SSD Capacity'].astype(str).apply(lambda x : x.split(' ')[0]).astype(int)"
   ]
  },
  {
   "cell_type": "markdown",
   "id": "4a7780ac-0500-4b39-acc2-7fb7e0096736",
   "metadata": {},
   "source": [
    "#### _Expandable SSD_ :"
   ]
  },
  {
   "cell_type": "code",
   "execution_count": 52,
   "id": "f695167f-6363-4f73-8617-48f8d663ef6e",
   "metadata": {},
   "outputs": [],
   "source": [
    "df_cleaned['Expandable SSD Capacity'].fillna(value='0 GB',inplace=True)\n",
    "df_cleaned['Expandable SSD Capacity (GB)']=df_cleaned['Expandable SSD Capacity'].astype(str).apply(lambda x: x.split(' ')[0]).replace(['1','2','4','6'],['1000','2000','4000','6000'])\n",
    "df_cleaned['Expandable SSD Capacity (GB)']=df_cleaned['Expandable SSD Capacity (GB)'].astype(int)"
   ]
  },
  {
   "cell_type": "markdown",
   "id": "ef13c31c-8e6c-4116-8d1c-83b58c0e0e0e",
   "metadata": {},
   "source": [
    "#### _Backlit Keyboard :_"
   ]
  },
  {
   "cell_type": "code",
   "execution_count": 54,
   "id": "6487c9e9-d1c0-4533-8dfe-b3e06f334206",
   "metadata": {},
   "outputs": [],
   "source": [
    "df_cleaned[\"Backlit Keyboard\"].fillna(value='No',inplace=True)\n",
    "df_cleaned[\"Backlit Keyboard\"]=pd.get_dummies(df_cleaned[\"Backlit Keyboard\"],drop_first='No').astype(int)"
   ]
  },
  {
   "cell_type": "markdown",
   "id": "5c526e03-03b8-443c-9e39-b86cfc56c277",
   "metadata": {},
   "source": [
    "#### _Touchscreen :_"
   ]
  },
  {
   "cell_type": "code",
   "execution_count": 56,
   "id": "44a58c61-6baf-431a-9c61-2cad483bf651",
   "metadata": {},
   "outputs": [],
   "source": [
    "df_cleaned['Touchscreen']=pd.get_dummies(df_cleaned['Touchscreen'],drop_first='No').astype(int)"
   ]
  },
  {
   "cell_type": "markdown",
   "id": "0836a594-2db7-4952-b859-5c376a883b89",
   "metadata": {},
   "source": [
    "#### _BRANDs :_"
   ]
  },
  {
   "cell_type": "code",
   "execution_count": 58,
   "id": "55c24bb4-b7c6-45dd-b2cd-dc28d004f64b",
   "metadata": {},
   "outputs": [],
   "source": [
    "df_cleaned['BRAND']=df_cleaned['Names'].apply(lambda x:x.split(' ')[0])\n",
    "other=df_cleaned.groupby(['BRAND']).agg(count=('BRAND','count')).sort_values(by='count',ascending=True).reset_index().head(11)\n",
    "other=list(other.BRAND)\n",
    "df_cleaned['Brand_Names'] = df_cleaned['Names'].apply(lambda x: 'others' if x.split(' ')[0] in other else x.split(' ')[0])\n",
    "dummies = pd.get_dummies(df_cleaned['Brand_Names']).astype(int)\n",
    "df_cleaned = df_cleaned.join(dummies)"
   ]
  },
  {
   "cell_type": "code",
   "execution_count": 59,
   "id": "d2278d72-5e41-45ab-91bf-6c6cb2a135f8",
   "metadata": {},
   "outputs": [],
   "source": [
    "# Selected relevant features based on Co realtion with Target\n",
    "selected_features = [\n",
    "    \"Backlit Keyboard\", \"Touchscreen\", \"Number of Cores\", \"RAM (GB)\",\n",
    "    \"RAM Type Rank\", \"SSD (GB)\", \"Processor_Apple\", \"Processor_Qualcomm\", \"Apple_chips\",\n",
    "    \"Expandable SSD Capacity (GB)\", \"GPU_NVIDIA\", \"Os_Rank\", \"Laptop_type\",'Screen_res (pixel)',\n",
    "    'ASUS',\t'Acer'\t,'Apple'\t,'DELL'\t,'HP'\t,'Infinix'\t,'Lenovo',\t'MICROSOFT',\t'MSI',\t'SAMSUNG',\t'others'\n",
    "]\n"
   ]
  },
  {
   "cell_type": "code",
   "execution_count": 60,
   "id": "4b3b4b34-1cc6-4810-92d0-c4bec8cfd22e",
   "metadata": {},
   "outputs": [
    {
     "name": "stdout",
     "output_type": "stream",
     "text": [
      "<class 'pandas.core.frame.DataFrame'>\n",
      "RangeIndex: 960 entries, 0 to 959\n",
      "Data columns (total 25 columns):\n",
      " #   Column                        Non-Null Count  Dtype  \n",
      "---  ------                        --------------  -----  \n",
      " 0   Backlit Keyboard              960 non-null    int32  \n",
      " 1   Touchscreen                   960 non-null    int32  \n",
      " 2   Number of Cores               960 non-null    float64\n",
      " 3   RAM (GB)                      960 non-null    int32  \n",
      " 4   RAM Type Rank                 960 non-null    int32  \n",
      " 5   SSD (GB)                      960 non-null    int32  \n",
      " 6   Processor_Apple               960 non-null    int32  \n",
      " 7   Processor_Qualcomm            960 non-null    int32  \n",
      " 8   Apple_chips                   27 non-null     float64\n",
      " 9   Expandable SSD Capacity (GB)  960 non-null    int32  \n",
      " 10  GPU_NVIDIA                    960 non-null    int32  \n",
      " 11  Os_Rank                       960 non-null    int32  \n",
      " 12  Laptop_type                   960 non-null    int32  \n",
      " 13  Screen_res (pixel)            960 non-null    int32  \n",
      " 14  ASUS                          960 non-null    int32  \n",
      " 15  Acer                          960 non-null    int32  \n",
      " 16  Apple                         960 non-null    int32  \n",
      " 17  DELL                          960 non-null    int32  \n",
      " 18  HP                            960 non-null    int32  \n",
      " 19  Infinix                       960 non-null    int32  \n",
      " 20  Lenovo                        960 non-null    int32  \n",
      " 21  MICROSOFT                     960 non-null    int32  \n",
      " 22  MSI                           960 non-null    int32  \n",
      " 23  SAMSUNG                       960 non-null    int32  \n",
      " 24  others                        960 non-null    int32  \n",
      "dtypes: float64(2), int32(23)\n",
      "memory usage: 101.4 KB\n"
     ]
    }
   ],
   "source": [
    "df_cleaned[selected_features].info()#checking Data Types"
   ]
  },
  {
   "cell_type": "markdown",
   "id": "9bf7a5b4-1c35-4c26-8bf9-43801568b6fd",
   "metadata": {},
   "source": [
    "#### _DATA_"
   ]
  },
  {
   "cell_type": "code",
   "execution_count": 62,
   "id": "d0c9a269-78e7-4b8c-94f7-168d59ded382",
   "metadata": {},
   "outputs": [],
   "source": [
    "df_ready = df_cleaned[selected_features + [\"price\"]]"
   ]
  },
  {
   "cell_type": "code",
   "execution_count": 63,
   "id": "458e77ec-bfb4-4cfa-bbe8-63d97b335a31",
   "metadata": {},
   "outputs": [],
   "source": [
    "imputer = SimpleImputer(strategy=\"median\") # if any missing values using median imputation\n",
    "df_ready[selected_features] = imputer.fit_transform(df_ready[selected_features])"
   ]
  },
  {
   "cell_type": "markdown",
   "id": "56475b1f-583c-4bf5-a451-346b0a2f92b5",
   "metadata": {},
   "source": [
    "#### _Data Splitting (X and Y)_"
   ]
  },
  {
   "cell_type": "code",
   "execution_count": 65,
   "id": "915057ee-6a38-4249-a64d-57b1bdbcd267",
   "metadata": {},
   "outputs": [],
   "source": [
    "# Define features and target variable\n",
    "X = df_ready[selected_features]\n",
    "y = df_ready[\"price\"]\n"
   ]
  },
  {
   "cell_type": "code",
   "execution_count": 66,
   "id": "ac610230-5900-45e0-b034-c9eaea93fa7f",
   "metadata": {},
   "outputs": [
    {
     "data": {
      "text/html": [
       "<div>\n",
       "<style scoped>\n",
       "    .dataframe tbody tr th:only-of-type {\n",
       "        vertical-align: middle;\n",
       "    }\n",
       "\n",
       "    .dataframe tbody tr th {\n",
       "        vertical-align: top;\n",
       "    }\n",
       "\n",
       "    .dataframe thead th {\n",
       "        text-align: right;\n",
       "    }\n",
       "</style>\n",
       "<table border=\"1\" class=\"dataframe\">\n",
       "  <thead>\n",
       "    <tr style=\"text-align: right;\">\n",
       "      <th></th>\n",
       "      <th>Backlit Keyboard</th>\n",
       "      <th>Touchscreen</th>\n",
       "      <th>Number of Cores</th>\n",
       "      <th>RAM (GB)</th>\n",
       "      <th>RAM Type Rank</th>\n",
       "      <th>SSD (GB)</th>\n",
       "      <th>Processor_Apple</th>\n",
       "      <th>Processor_Qualcomm</th>\n",
       "      <th>Apple_chips</th>\n",
       "      <th>Expandable SSD Capacity (GB)</th>\n",
       "      <th>GPU_NVIDIA</th>\n",
       "      <th>Os_Rank</th>\n",
       "      <th>Laptop_type</th>\n",
       "      <th>Screen_res (pixel)</th>\n",
       "      <th>ASUS</th>\n",
       "      <th>Acer</th>\n",
       "      <th>Apple</th>\n",
       "      <th>DELL</th>\n",
       "      <th>HP</th>\n",
       "      <th>Infinix</th>\n",
       "      <th>Lenovo</th>\n",
       "      <th>MICROSOFT</th>\n",
       "      <th>MSI</th>\n",
       "      <th>SAMSUNG</th>\n",
       "      <th>others</th>\n",
       "    </tr>\n",
       "  </thead>\n",
       "  <tbody>\n",
       "    <tr>\n",
       "      <th>0</th>\n",
       "      <td>0.0</td>\n",
       "      <td>0.0</td>\n",
       "      <td>4.0</td>\n",
       "      <td>8.0</td>\n",
       "      <td>4.0</td>\n",
       "      <td>256.0</td>\n",
       "      <td>0.0</td>\n",
       "      <td>0.0</td>\n",
       "      <td>3.0</td>\n",
       "      <td>0.0</td>\n",
       "      <td>0.0</td>\n",
       "      <td>2.0</td>\n",
       "      <td>0.0</td>\n",
       "      <td>2073600.0</td>\n",
       "      <td>0.0</td>\n",
       "      <td>1.0</td>\n",
       "      <td>0.0</td>\n",
       "      <td>0.0</td>\n",
       "      <td>0.0</td>\n",
       "      <td>0.0</td>\n",
       "      <td>0.0</td>\n",
       "      <td>0.0</td>\n",
       "      <td>0.0</td>\n",
       "      <td>0.0</td>\n",
       "      <td>0.0</td>\n",
       "    </tr>\n",
       "    <tr>\n",
       "      <th>1</th>\n",
       "      <td>1.0</td>\n",
       "      <td>0.0</td>\n",
       "      <td>4.0</td>\n",
       "      <td>16.0</td>\n",
       "      <td>0.0</td>\n",
       "      <td>512.0</td>\n",
       "      <td>0.0</td>\n",
       "      <td>0.0</td>\n",
       "      <td>3.0</td>\n",
       "      <td>0.0</td>\n",
       "      <td>0.0</td>\n",
       "      <td>7.0</td>\n",
       "      <td>3.0</td>\n",
       "      <td>2073600.0</td>\n",
       "      <td>0.0</td>\n",
       "      <td>1.0</td>\n",
       "      <td>0.0</td>\n",
       "      <td>0.0</td>\n",
       "      <td>0.0</td>\n",
       "      <td>0.0</td>\n",
       "      <td>0.0</td>\n",
       "      <td>0.0</td>\n",
       "      <td>0.0</td>\n",
       "      <td>0.0</td>\n",
       "      <td>0.0</td>\n",
       "    </tr>\n",
       "    <tr>\n",
       "      <th>2</th>\n",
       "      <td>0.0</td>\n",
       "      <td>1.0</td>\n",
       "      <td>8.0</td>\n",
       "      <td>4.0</td>\n",
       "      <td>2.0</td>\n",
       "      <td>0.0</td>\n",
       "      <td>0.0</td>\n",
       "      <td>0.0</td>\n",
       "      <td>3.0</td>\n",
       "      <td>0.0</td>\n",
       "      <td>0.0</td>\n",
       "      <td>2.0</td>\n",
       "      <td>0.0</td>\n",
       "      <td>1049088.0</td>\n",
       "      <td>0.0</td>\n",
       "      <td>0.0</td>\n",
       "      <td>0.0</td>\n",
       "      <td>0.0</td>\n",
       "      <td>1.0</td>\n",
       "      <td>0.0</td>\n",
       "      <td>0.0</td>\n",
       "      <td>0.0</td>\n",
       "      <td>0.0</td>\n",
       "      <td>0.0</td>\n",
       "      <td>0.0</td>\n",
       "    </tr>\n",
       "    <tr>\n",
       "      <th>3</th>\n",
       "      <td>0.0</td>\n",
       "      <td>0.0</td>\n",
       "      <td>4.0</td>\n",
       "      <td>16.0</td>\n",
       "      <td>0.0</td>\n",
       "      <td>512.0</td>\n",
       "      <td>0.0</td>\n",
       "      <td>0.0</td>\n",
       "      <td>3.0</td>\n",
       "      <td>0.0</td>\n",
       "      <td>1.0</td>\n",
       "      <td>7.0</td>\n",
       "      <td>7.0</td>\n",
       "      <td>2073600.0</td>\n",
       "      <td>0.0</td>\n",
       "      <td>0.0</td>\n",
       "      <td>0.0</td>\n",
       "      <td>0.0</td>\n",
       "      <td>0.0</td>\n",
       "      <td>0.0</td>\n",
       "      <td>0.0</td>\n",
       "      <td>0.0</td>\n",
       "      <td>1.0</td>\n",
       "      <td>0.0</td>\n",
       "      <td>0.0</td>\n",
       "    </tr>\n",
       "    <tr>\n",
       "      <th>4</th>\n",
       "      <td>0.0</td>\n",
       "      <td>0.0</td>\n",
       "      <td>4.0</td>\n",
       "      <td>8.0</td>\n",
       "      <td>0.0</td>\n",
       "      <td>512.0</td>\n",
       "      <td>0.0</td>\n",
       "      <td>0.0</td>\n",
       "      <td>3.0</td>\n",
       "      <td>0.0</td>\n",
       "      <td>0.0</td>\n",
       "      <td>7.0</td>\n",
       "      <td>3.0</td>\n",
       "      <td>2073600.0</td>\n",
       "      <td>0.0</td>\n",
       "      <td>0.0</td>\n",
       "      <td>0.0</td>\n",
       "      <td>0.0</td>\n",
       "      <td>1.0</td>\n",
       "      <td>0.0</td>\n",
       "      <td>0.0</td>\n",
       "      <td>0.0</td>\n",
       "      <td>0.0</td>\n",
       "      <td>0.0</td>\n",
       "      <td>0.0</td>\n",
       "    </tr>\n",
       "    <tr>\n",
       "      <th>...</th>\n",
       "      <td>...</td>\n",
       "      <td>...</td>\n",
       "      <td>...</td>\n",
       "      <td>...</td>\n",
       "      <td>...</td>\n",
       "      <td>...</td>\n",
       "      <td>...</td>\n",
       "      <td>...</td>\n",
       "      <td>...</td>\n",
       "      <td>...</td>\n",
       "      <td>...</td>\n",
       "      <td>...</td>\n",
       "      <td>...</td>\n",
       "      <td>...</td>\n",
       "      <td>...</td>\n",
       "      <td>...</td>\n",
       "      <td>...</td>\n",
       "      <td>...</td>\n",
       "      <td>...</td>\n",
       "      <td>...</td>\n",
       "      <td>...</td>\n",
       "      <td>...</td>\n",
       "      <td>...</td>\n",
       "      <td>...</td>\n",
       "      <td>...</td>\n",
       "    </tr>\n",
       "    <tr>\n",
       "      <th>955</th>\n",
       "      <td>1.0</td>\n",
       "      <td>0.0</td>\n",
       "      <td>10.0</td>\n",
       "      <td>16.0</td>\n",
       "      <td>2.0</td>\n",
       "      <td>512.0</td>\n",
       "      <td>0.0</td>\n",
       "      <td>0.0</td>\n",
       "      <td>3.0</td>\n",
       "      <td>0.0</td>\n",
       "      <td>0.0</td>\n",
       "      <td>7.0</td>\n",
       "      <td>3.0</td>\n",
       "      <td>2073600.0</td>\n",
       "      <td>0.0</td>\n",
       "      <td>0.0</td>\n",
       "      <td>0.0</td>\n",
       "      <td>0.0</td>\n",
       "      <td>0.0</td>\n",
       "      <td>0.0</td>\n",
       "      <td>0.0</td>\n",
       "      <td>0.0</td>\n",
       "      <td>0.0</td>\n",
       "      <td>1.0</td>\n",
       "      <td>0.0</td>\n",
       "    </tr>\n",
       "    <tr>\n",
       "      <th>956</th>\n",
       "      <td>0.0</td>\n",
       "      <td>0.0</td>\n",
       "      <td>8.0</td>\n",
       "      <td>16.0</td>\n",
       "      <td>0.0</td>\n",
       "      <td>512.0</td>\n",
       "      <td>0.0</td>\n",
       "      <td>0.0</td>\n",
       "      <td>3.0</td>\n",
       "      <td>0.0</td>\n",
       "      <td>0.0</td>\n",
       "      <td>7.0</td>\n",
       "      <td>3.0</td>\n",
       "      <td>2073600.0</td>\n",
       "      <td>0.0</td>\n",
       "      <td>0.0</td>\n",
       "      <td>0.0</td>\n",
       "      <td>0.0</td>\n",
       "      <td>0.0</td>\n",
       "      <td>0.0</td>\n",
       "      <td>1.0</td>\n",
       "      <td>0.0</td>\n",
       "      <td>0.0</td>\n",
       "      <td>0.0</td>\n",
       "      <td>0.0</td>\n",
       "    </tr>\n",
       "    <tr>\n",
       "      <th>957</th>\n",
       "      <td>0.0</td>\n",
       "      <td>0.0</td>\n",
       "      <td>6.0</td>\n",
       "      <td>8.0</td>\n",
       "      <td>0.0</td>\n",
       "      <td>512.0</td>\n",
       "      <td>0.0</td>\n",
       "      <td>0.0</td>\n",
       "      <td>3.0</td>\n",
       "      <td>0.0</td>\n",
       "      <td>0.0</td>\n",
       "      <td>7.0</td>\n",
       "      <td>3.0</td>\n",
       "      <td>2073600.0</td>\n",
       "      <td>0.0</td>\n",
       "      <td>0.0</td>\n",
       "      <td>0.0</td>\n",
       "      <td>0.0</td>\n",
       "      <td>0.0</td>\n",
       "      <td>0.0</td>\n",
       "      <td>1.0</td>\n",
       "      <td>0.0</td>\n",
       "      <td>0.0</td>\n",
       "      <td>0.0</td>\n",
       "      <td>0.0</td>\n",
       "    </tr>\n",
       "    <tr>\n",
       "      <th>958</th>\n",
       "      <td>0.0</td>\n",
       "      <td>0.0</td>\n",
       "      <td>2.0</td>\n",
       "      <td>8.0</td>\n",
       "      <td>0.0</td>\n",
       "      <td>256.0</td>\n",
       "      <td>0.0</td>\n",
       "      <td>0.0</td>\n",
       "      <td>3.0</td>\n",
       "      <td>0.0</td>\n",
       "      <td>0.0</td>\n",
       "      <td>4.0</td>\n",
       "      <td>2.0</td>\n",
       "      <td>2073600.0</td>\n",
       "      <td>0.0</td>\n",
       "      <td>0.0</td>\n",
       "      <td>0.0</td>\n",
       "      <td>0.0</td>\n",
       "      <td>1.0</td>\n",
       "      <td>0.0</td>\n",
       "      <td>0.0</td>\n",
       "      <td>0.0</td>\n",
       "      <td>0.0</td>\n",
       "      <td>0.0</td>\n",
       "      <td>0.0</td>\n",
       "    </tr>\n",
       "    <tr>\n",
       "      <th>959</th>\n",
       "      <td>0.0</td>\n",
       "      <td>0.0</td>\n",
       "      <td>4.0</td>\n",
       "      <td>8.0</td>\n",
       "      <td>0.0</td>\n",
       "      <td>512.0</td>\n",
       "      <td>0.0</td>\n",
       "      <td>0.0</td>\n",
       "      <td>3.0</td>\n",
       "      <td>0.0</td>\n",
       "      <td>0.0</td>\n",
       "      <td>7.0</td>\n",
       "      <td>3.0</td>\n",
       "      <td>2073600.0</td>\n",
       "      <td>1.0</td>\n",
       "      <td>0.0</td>\n",
       "      <td>0.0</td>\n",
       "      <td>0.0</td>\n",
       "      <td>0.0</td>\n",
       "      <td>0.0</td>\n",
       "      <td>0.0</td>\n",
       "      <td>0.0</td>\n",
       "      <td>0.0</td>\n",
       "      <td>0.0</td>\n",
       "      <td>0.0</td>\n",
       "    </tr>\n",
       "  </tbody>\n",
       "</table>\n",
       "<p>960 rows × 25 columns</p>\n",
       "</div>"
      ],
      "text/plain": [
       "     Backlit Keyboard  Touchscreen  Number of Cores  RAM (GB)  RAM Type Rank  \\\n",
       "0                 0.0          0.0              4.0       8.0            4.0   \n",
       "1                 1.0          0.0              4.0      16.0            0.0   \n",
       "2                 0.0          1.0              8.0       4.0            2.0   \n",
       "3                 0.0          0.0              4.0      16.0            0.0   \n",
       "4                 0.0          0.0              4.0       8.0            0.0   \n",
       "..                ...          ...              ...       ...            ...   \n",
       "955               1.0          0.0             10.0      16.0            2.0   \n",
       "956               0.0          0.0              8.0      16.0            0.0   \n",
       "957               0.0          0.0              6.0       8.0            0.0   \n",
       "958               0.0          0.0              2.0       8.0            0.0   \n",
       "959               0.0          0.0              4.0       8.0            0.0   \n",
       "\n",
       "     SSD (GB)  Processor_Apple  Processor_Qualcomm  Apple_chips  \\\n",
       "0       256.0              0.0                 0.0          3.0   \n",
       "1       512.0              0.0                 0.0          3.0   \n",
       "2         0.0              0.0                 0.0          3.0   \n",
       "3       512.0              0.0                 0.0          3.0   \n",
       "4       512.0              0.0                 0.0          3.0   \n",
       "..        ...              ...                 ...          ...   \n",
       "955     512.0              0.0                 0.0          3.0   \n",
       "956     512.0              0.0                 0.0          3.0   \n",
       "957     512.0              0.0                 0.0          3.0   \n",
       "958     256.0              0.0                 0.0          3.0   \n",
       "959     512.0              0.0                 0.0          3.0   \n",
       "\n",
       "     Expandable SSD Capacity (GB)  GPU_NVIDIA  Os_Rank  Laptop_type  \\\n",
       "0                             0.0         0.0      2.0          0.0   \n",
       "1                             0.0         0.0      7.0          3.0   \n",
       "2                             0.0         0.0      2.0          0.0   \n",
       "3                             0.0         1.0      7.0          7.0   \n",
       "4                             0.0         0.0      7.0          3.0   \n",
       "..                            ...         ...      ...          ...   \n",
       "955                           0.0         0.0      7.0          3.0   \n",
       "956                           0.0         0.0      7.0          3.0   \n",
       "957                           0.0         0.0      7.0          3.0   \n",
       "958                           0.0         0.0      4.0          2.0   \n",
       "959                           0.0         0.0      7.0          3.0   \n",
       "\n",
       "     Screen_res (pixel)  ASUS  Acer  Apple  DELL   HP  Infinix  Lenovo  \\\n",
       "0             2073600.0   0.0   1.0    0.0   0.0  0.0      0.0     0.0   \n",
       "1             2073600.0   0.0   1.0    0.0   0.0  0.0      0.0     0.0   \n",
       "2             1049088.0   0.0   0.0    0.0   0.0  1.0      0.0     0.0   \n",
       "3             2073600.0   0.0   0.0    0.0   0.0  0.0      0.0     0.0   \n",
       "4             2073600.0   0.0   0.0    0.0   0.0  1.0      0.0     0.0   \n",
       "..                  ...   ...   ...    ...   ...  ...      ...     ...   \n",
       "955           2073600.0   0.0   0.0    0.0   0.0  0.0      0.0     0.0   \n",
       "956           2073600.0   0.0   0.0    0.0   0.0  0.0      0.0     1.0   \n",
       "957           2073600.0   0.0   0.0    0.0   0.0  0.0      0.0     1.0   \n",
       "958           2073600.0   0.0   0.0    0.0   0.0  1.0      0.0     0.0   \n",
       "959           2073600.0   1.0   0.0    0.0   0.0  0.0      0.0     0.0   \n",
       "\n",
       "     MICROSOFT  MSI  SAMSUNG  others  \n",
       "0          0.0  0.0      0.0     0.0  \n",
       "1          0.0  0.0      0.0     0.0  \n",
       "2          0.0  0.0      0.0     0.0  \n",
       "3          0.0  1.0      0.0     0.0  \n",
       "4          0.0  0.0      0.0     0.0  \n",
       "..         ...  ...      ...     ...  \n",
       "955        0.0  0.0      1.0     0.0  \n",
       "956        0.0  0.0      0.0     0.0  \n",
       "957        0.0  0.0      0.0     0.0  \n",
       "958        0.0  0.0      0.0     0.0  \n",
       "959        0.0  0.0      0.0     0.0  \n",
       "\n",
       "[960 rows x 25 columns]"
      ]
     },
     "execution_count": 66,
     "metadata": {},
     "output_type": "execute_result"
    }
   ],
   "source": [
    "pd.set_option('display.max_columns',None)\n",
    "X\n"
   ]
  },
  {
   "cell_type": "code",
   "execution_count": 67,
   "id": "d90e8520-3a0e-4625-95e4-53a227b3c9f4",
   "metadata": {},
   "outputs": [
    {
     "data": {
      "text/plain": [
       "0      19990.0\n",
       "1      44990.0\n",
       "2      11988.0\n",
       "3      51990.0\n",
       "4      37990.0\n",
       "        ...   \n",
       "955    59990.0\n",
       "956    41990.0\n",
       "957    37000.0\n",
       "958    36990.0\n",
       "959    47890.0\n",
       "Name: price, Length: 960, dtype: float64"
      ]
     },
     "execution_count": 67,
     "metadata": {},
     "output_type": "execute_result"
    }
   ],
   "source": [
    "y"
   ]
  },
  {
   "cell_type": "code",
   "execution_count": 68,
   "id": "e176f62f-9736-42e5-925e-985d212167e0",
   "metadata": {},
   "outputs": [],
   "source": [
    "X_train, X_test, y_train, y_test = train_test_split(X, y, test_size=0.2, random_state=42)"
   ]
  },
  {
   "cell_type": "markdown",
   "id": "cf83753a-04ec-4531-b08b-51490fe58087",
   "metadata": {},
   "source": [
    "#### _Random Forest_"
   ]
  },
  {
   "cell_type": "code",
   "execution_count": 70,
   "id": "d1131062-40a0-4d99-9f04-cd880ad4b55c",
   "metadata": {},
   "outputs": [],
   "source": [
    "rf_model = RandomForestRegressor(n_estimators=100, random_state=42)"
   ]
  },
  {
   "cell_type": "code",
   "execution_count": 71,
   "id": "2510c643-78ba-49c0-97ec-6e695319c8ee",
   "metadata": {},
   "outputs": [],
   "source": [
    "model=rf_model.fit(X_train, y_train)"
   ]
  },
  {
   "cell_type": "code",
   "execution_count": 72,
   "id": "e80d5b14-0d2b-4bcb-8cc0-91b9fbae94b5",
   "metadata": {},
   "outputs": [],
   "source": [
    "y_pred = rf_model.predict(X_test)"
   ]
  },
  {
   "cell_type": "markdown",
   "id": "39ae663d-14ef-4b06-9372-307697e94616",
   "metadata": {},
   "source": [
    "#### _Cross validation_"
   ]
  },
  {
   "cell_type": "code",
   "execution_count": 74,
   "id": "994317dc-8bae-4604-95d7-1b1705263a66",
   "metadata": {},
   "outputs": [
    {
     "name": "stdout",
     "output_type": "stream",
     "text": [
      "Cross-Validation R² Scores: [0.86827924 0.81993487 0.89186907 0.69221583 0.93303475]\n",
      "Mean CV R²: 0.8411 ± 0.0829\n"
     ]
    }
   ],
   "source": [
    "cv_scores = cross_val_score(rf_model, X_train, y_train, cv=5, scoring='r2')\n",
    "\n",
    "print(f\"Cross-Validation R² Scores: {cv_scores}\")\n",
    "print(f\"Mean CV R²: {np.mean(cv_scores):.4f} ± {np.std(cv_scores):.4f}\")"
   ]
  },
  {
   "cell_type": "markdown",
   "id": "1a2c6064-3ece-4638-a7d2-e0839cce9588",
   "metadata": {},
   "source": [
    "#### _Visualizing Model Performance_ 📊"
   ]
  },
  {
   "cell_type": "code",
   "execution_count": 76,
   "id": "3a5d427f-ce6c-41cb-ad46-7b1645114111",
   "metadata": {},
   "outputs": [
    {
     "data": {
      "text/plain": [
       "Text(0.5, 1.0, 'Prediction Performance')"
      ]
     },
     "execution_count": 76,
     "metadata": {},
     "output_type": "execute_result"
    },
    {
     "data": {
      "image/png": "[encoded data removed]",
      "text/plain": [
       "<Figure size 640x480 with 1 Axes>"
      ]
     },
     "metadata": {},
     "output_type": "display_data"
    }
   ],
   "source": [
    "plt.style.use('ggplot')\n",
    "plt.plot(y_test,y_pred,'o',alpha=0.7)\n",
    "plt.plot([(y_test.min()),(y_test.max())],[(y_test.min()),(y_test.max())],color='black')\n",
    "plt.title('Prediction Performance')"
   ]
  },
  {
   "cell_type": "code",
   "execution_count": 77,
   "id": "04815c6c-b7ef-4436-ac58-862484c2453d",
   "metadata": {},
   "outputs": [],
   "source": [
    "#Better than Last time"
   ]
  },
  {
   "cell_type": "markdown",
   "id": "61ebefb9-6fd3-47d0-82fc-85454f5f5b33",
   "metadata": {},
   "source": [
    "#### _Evaluation_"
   ]
  },
  {
   "cell_type": "code",
   "execution_count": 136,
   "id": "2622c0b6-5e30-4c79-8fe4-d0b64d839263",
   "metadata": {},
   "outputs": [
    {
     "name": "stdout",
     "output_type": "stream",
     "text": [
      "*Model Performance*\n",
      "MAE >> 7093.144522091087\n",
      "RMSE >> 12448.018965186924\n",
      "\n",
      "Accuracy 🎯\n",
      "R2 Score >> 0.9150362411613062\n",
      "Adjusted_R2_score >> 0.91\n"
     ]
    }
   ],
   "source": [
    "mae = mean_absolute_error(y_test, y_pred)\n",
    "rmse = mean_squared_error(y_test, y_pred, squared=False)\n",
    "r2 = r2_score(y_test, y_pred)\n",
    "\n",
    "print(\"*Model Performance*\")\n",
    "print(f\"MAE >> {mae}\")\n",
    "print(f\"RMSE >> {rmse}\\n\")\n",
    "print('Accuracy 🎯')\n",
    "print(f\"R2 Score >> {r2}\")\n",
    "print(f'Adjusted_R2_score >> {round(1-((1-r2_score(y_test,y_pred))*len(X_train)-1)/(len(X_train)-len(X.columns)-1),2)}')"
   ]
  },
  {
   "cell_type": "markdown",
   "id": "94e75b1e-871d-4a33-b001-1b1d50b2d551",
   "metadata": {},
   "source": [
    "### Loading the Trained Model for Action!"
   ]
  },
  {
   "cell_type": "code",
   "execution_count": 81,
   "id": "d4055c6c-97a6-42aa-af8b-c5e2f80e3f6b",
   "metadata": {},
   "outputs": [],
   "source": [
    "import pickle\n",
    "with open('laptop_randomf_model.pkl','wb') as file:\n",
    "    pickle.dump(model,file)"
   ]
  },
  {
   "cell_type": "code",
   "execution_count": null,
   "id": "cf463cfc-08b0-4fa1-a66b-283f9109d389",
   "metadata": {},
   "outputs": [],
   "source": []
  },
  {
   "cell_type": "code",
   "execution_count": null,
   "id": "999647b3-bac4-42fb-861d-17d423dd6a3a",
   "metadata": {},
   "outputs": [],
   "source": []
  }
 ],
 "metadata": {
  "kernelspec": {
   "display_name": "Python 3 (ipykernel)",
   "language": "python",
   "name": "python3"
  },
  "language_info": {
   "codemirror_mode": {
    "name": "ipython",
    "version": 3
   },
   "file_extension": ".py",
   "mimetype": "text/x-python",
   "name": "python",
   "nbconvert_exporter": "python",
   "pygments_lexer": "ipython3",
   "version": "3.12.5"
  }
 },
 "nbformat": 4,
 "nbformat_minor": 5
}
