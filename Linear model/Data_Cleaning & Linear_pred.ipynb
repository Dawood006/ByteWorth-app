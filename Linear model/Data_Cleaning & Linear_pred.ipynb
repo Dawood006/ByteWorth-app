{
 "cells": [
  {
   "cell_type": "markdown",
   "id": "b381e511-5e51-40c9-bbed-4fda315354a0",
   "metadata": {},
   "source": [
    "### Importing Libararies"
   ]
  },
  {
   "cell_type": "code",
   "execution_count": 9,
   "id": "d0d991f8-fd11-4d97-b107-5007c5ccb775",
   "metadata": {},
   "outputs": [],
   "source": [
    "import pandas as pd\n",
    "import numpy as np\n",
    "import matplotlib.pyplot as plt\n",
    "plt.style.use('ggplot')\n",
    "import missingno\n",
    "import warnings\n",
    "warnings.filterwarnings('ignore')\n",
    "import seaborn as sns\n",
    "import scipy.stats as stats\n",
    "import re\n",
    "from sklearn.preprocessing import OrdinalEncoder\n",
    "from sklearn.linear_model import LinearRegression\n",
    "from sklearn.model_selection import train_test_split,cross_val_score\n",
    "from sklearn.preprocessing import StandardScaler,MaxAbsScaler,RobustScaler\n",
    "from sklearn.metrics import mean_squared_error,mean_absolute_error,accuracy_score,r2_score"
   ]
  },
  {
   "cell_type": "markdown",
   "id": "dc84add7-e720-4320-ba9d-2f4f21da099b",
   "metadata": {},
   "source": [
    "### Loading Scraped Data From Flipkart.com\n",
    "https://github.com/Dawood006/Laptop-Price-Benchmark-App/blob/baea55f9b83eb685bd465e4185d95bdba2118e57/Web%20Scrape/Laptop_web_scrape.ipynb"
   ]
  },
  {
   "cell_type": "code",
   "execution_count": 11,
   "id": "6bca2a8b-3f64-4165-8c46-bc3efb78ea0c",
   "metadata": {},
   "outputs": [],
   "source": [
    "df=pd.read_csv('lappy2.csv')"
   ]
  },
  {
   "cell_type": "code",
   "execution_count": 12,
   "id": "c1c99eea-f584-4f1d-b162-d0a09c72f699",
   "metadata": {},
   "outputs": [],
   "source": [
    "pd.set_option('display.max_columns',None)"
   ]
  },
  {
   "cell_type": "code",
   "execution_count": 13,
   "id": "68d7a8d8-d6eb-4031-8054-53dad97d4bfb",
   "metadata": {},
   "outputs": [
    {
     "data": {
      "text/html": [
       "<div>\n",
       "<style scoped>\n",
       "    .dataframe tbody tr th:only-of-type {\n",
       "        vertical-align: middle;\n",
       "    }\n",
       "\n",
       "    .dataframe tbody tr th {\n",
       "        vertical-align: top;\n",
       "    }\n",
       "\n",
       "    .dataframe thead th {\n",
       "        text-align: right;\n",
       "    }\n",
       "</style>\n",
       "<table border=\"1\" class=\"dataframe\">\n",
       "  <thead>\n",
       "    <tr style=\"text-align: right;\">\n",
       "      <th></th>\n",
       "      <th>Unnamed: 0</th>\n",
       "      <th>index</th>\n",
       "      <th>Covered in Warranty</th>\n",
       "      <th>Warranty Service Type</th>\n",
       "      <th>Processor Variant</th>\n",
       "      <th>Clock Speed</th>\n",
       "      <th>Finger Print Sensor</th>\n",
       "      <th>MS Office Provided</th>\n",
       "      <th>Weight</th>\n",
       "      <th>Processor Generation</th>\n",
       "      <th>Screen Resolution</th>\n",
       "      <th>Not Covered in Warranty</th>\n",
       "      <th>Speakers</th>\n",
       "      <th>Sales Package</th>\n",
       "      <th>Disk Drive</th>\n",
       "      <th>Suitable For</th>\n",
       "      <th>Backlit Keyboard</th>\n",
       "      <th>Touchscreen</th>\n",
       "      <th>Processor Name</th>\n",
       "      <th>Bluetooth</th>\n",
       "      <th>RAM Type</th>\n",
       "      <th>Screen Type</th>\n",
       "      <th>id</th>\n",
       "      <th>Domestic Warranty</th>\n",
       "      <th>Series</th>\n",
       "      <th>Operating System</th>\n",
       "      <th>Model Number</th>\n",
       "      <th>Screen Size</th>\n",
       "      <th>USB Port</th>\n",
       "      <th>SSD</th>\n",
       "      <th>Processor Brand</th>\n",
       "      <th>Internal Mic</th>\n",
       "      <th>Wireless LAN</th>\n",
       "      <th>Storage Type</th>\n",
       "      <th>Color</th>\n",
       "      <th>Battery Cell</th>\n",
       "      <th>Type</th>\n",
       "      <th>Keyboard</th>\n",
       "      <th>SSD Capacity</th>\n",
       "      <th>Warranty Summary</th>\n",
       "      <th>Model Name</th>\n",
       "      <th>Part Number</th>\n",
       "      <th>RAM</th>\n",
       "      <th>Graphic Processor</th>\n",
       "      <th>Web Camera</th>\n",
       "      <th>Power Supply</th>\n",
       "      <th>HDMI Port</th>\n",
       "      <th>Dimensions</th>\n",
       "      <th>OS Architecture</th>\n",
       "      <th>Face Recognition</th>\n",
       "      <th>Pointer Device</th>\n",
       "      <th>EMMC Storage Capacity</th>\n",
       "      <th>Dedicated Graphic Memory Type</th>\n",
       "      <th>Dedicated Graphic Memory Capacity</th>\n",
       "      <th>Refresh Rate</th>\n",
       "      <th>Battery Backup</th>\n",
       "      <th>Ethernet</th>\n",
       "      <th>Expandable Memory</th>\n",
       "      <th>Expandable SSD Capacity</th>\n",
       "      <th>Supported Operating System</th>\n",
       "      <th>Cache</th>\n",
       "      <th>Number of Cores</th>\n",
       "      <th>Mic In</th>\n",
       "      <th>Additional Features</th>\n",
       "      <th>Memory Slots</th>\n",
       "      <th>RAM Frequency</th>\n",
       "      <th>RJ45</th>\n",
       "      <th>Sound Properties</th>\n",
       "      <th>Lock Port</th>\n",
       "      <th>Security Chip</th>\n",
       "      <th>Chipset</th>\n",
       "      <th>RPM</th>\n",
       "      <th>Multi Card Slot</th>\n",
       "      <th>Hardware Interface</th>\n",
       "      <th>Sound Chip</th>\n",
       "      <th>Included Software</th>\n",
       "      <th>Antivirus</th>\n",
       "      <th>Inbuilt 4G LTE</th>\n",
       "      <th>Stylus Included</th>\n",
       "      <th>NFC Support</th>\n",
       "      <th>Wireless WAN</th>\n",
       "      <th>Laptop Bag</th>\n",
       "      <th>System Architecture</th>\n",
       "      <th>Brightness</th>\n",
       "      <th>RJ11</th>\n",
       "      <th>VGA Port</th>\n",
       "      <th>Color Gamut</th>\n",
       "      <th>TGP</th>\n",
       "      <th>Other Accessories</th>\n",
       "      <th>International Warranty</th>\n",
       "      <th>HDD Capacity</th>\n",
       "      <th>Dock Port</th>\n",
       "      <th>Firewire Port</th>\n",
       "      <th>Read/Write Speed</th>\n",
       "      <th>S-video</th>\n",
       "      <th>Certification</th>\n",
       "      <th>Recovery Options</th>\n",
       "      <th>Optane Memory</th>\n",
       "      <th>Rating</th>\n",
       "      <th>price</th>\n",
       "      <th>Link</th>\n",
       "      <th>Names</th>\n",
       "    </tr>\n",
       "  </thead>\n",
       "  <tbody>\n",
       "    <tr>\n",
       "      <th>0</th>\n",
       "      <td>0</td>\n",
       "      <td>0</td>\n",
       "      <td>Manufacturing Defects</td>\n",
       "      <td>Carry-in</td>\n",
       "      <td>N305</td>\n",
       "      <td>Max Frequency Up to 3.8 GHz</td>\n",
       "      <td>NaN</td>\n",
       "      <td>No</td>\n",
       "      <td>1.43 Kg</td>\n",
       "      <td>NaN</td>\n",
       "      <td>1920 x 1080 Pixel</td>\n",
       "      <td>Physical damage</td>\n",
       "      <td>Yes</td>\n",
       "      <td>Laptop, Power Adaptor, User Guide, Warranty Do...</td>\n",
       "      <td>Not Available</td>\n",
       "      <td>Processing &amp; Multitasking</td>\n",
       "      <td>No</td>\n",
       "      <td>No</td>\n",
       "      <td>Core i3</td>\n",
       "      <td>v5.2</td>\n",
       "      <td>LPDDR5</td>\n",
       "      <td>Full HD IPS LED-backlit LCD Dislpay</td>\n",
       "      <td>0</td>\n",
       "      <td>NaN</td>\n",
       "      <td>Chromebook Plus Google AI</td>\n",
       "      <td>Chrome</td>\n",
       "      <td>CB514-4H-39T7</td>\n",
       "      <td>35.56 cm (14 Inch)</td>\n",
       "      <td>2 x USB 3.2 Gen 1 Type-A port, 2 x USB 3.2 Gen...</td>\n",
       "      <td>Yes</td>\n",
       "      <td>Intel</td>\n",
       "      <td>Yes</td>\n",
       "      <td>Intel Wireless Wi-Fi 6E AX211</td>\n",
       "      <td>SSD</td>\n",
       "      <td>Steel Gray</td>\n",
       "      <td>3 Cell</td>\n",
       "      <td>Chromebook</td>\n",
       "      <td>Acer FineTip keyboard with international langu...</td>\n",
       "      <td>256 GB</td>\n",
       "      <td>1 Year Carry-in Warranty</td>\n",
       "      <td>Chromebook Plus</td>\n",
       "      <td>NX.KUTSI.002</td>\n",
       "      <td>8 GB</td>\n",
       "      <td>Intel Integrated UHD</td>\n",
       "      <td>FHD camera, 1920 x 1080 Resolution, 1080p vide...</td>\n",
       "      <td>45 W</td>\n",
       "      <td>NaN</td>\n",
       "      <td>326.87 x 224.93 x 20.5 mm</td>\n",
       "      <td>NaN</td>\n",
       "      <td>NaN</td>\n",
       "      <td>NaN</td>\n",
       "      <td>NaN</td>\n",
       "      <td>NaN</td>\n",
       "      <td>NaN</td>\n",
       "      <td>NaN</td>\n",
       "      <td>NaN</td>\n",
       "      <td>NaN</td>\n",
       "      <td>NaN</td>\n",
       "      <td>NaN</td>\n",
       "      <td>NaN</td>\n",
       "      <td>NaN</td>\n",
       "      <td>NaN</td>\n",
       "      <td>NaN</td>\n",
       "      <td>NaN</td>\n",
       "      <td>NaN</td>\n",
       "      <td>NaN</td>\n",
       "      <td>NaN</td>\n",
       "      <td>NaN</td>\n",
       "      <td>NaN</td>\n",
       "      <td>NaN</td>\n",
       "      <td>NaN</td>\n",
       "      <td>NaN</td>\n",
       "      <td>NaN</td>\n",
       "      <td>NaN</td>\n",
       "      <td>NaN</td>\n",
       "      <td>NaN</td>\n",
       "      <td>NaN</td>\n",
       "      <td>NaN</td>\n",
       "      <td>NaN</td>\n",
       "      <td>NaN</td>\n",
       "      <td>NaN</td>\n",
       "      <td>NaN</td>\n",
       "      <td>NaN</td>\n",
       "      <td>NaN</td>\n",
       "      <td>NaN</td>\n",
       "      <td>NaN</td>\n",
       "      <td>NaN</td>\n",
       "      <td>NaN</td>\n",
       "      <td>NaN</td>\n",
       "      <td>NaN</td>\n",
       "      <td>NaN</td>\n",
       "      <td>NaN</td>\n",
       "      <td>NaN</td>\n",
       "      <td>NaN</td>\n",
       "      <td>NaN</td>\n",
       "      <td>NaN</td>\n",
       "      <td>NaN</td>\n",
       "      <td>NaN</td>\n",
       "      <td>3.8</td>\n",
       "      <td>₹19,990</td>\n",
       "      <td>https://www.flipkart.com/acer-chromebook-plus-...</td>\n",
       "      <td>Acer Chromebook Plus Google AI Intel Core i3 N...</td>\n",
       "    </tr>\n",
       "  </tbody>\n",
       "</table>\n",
       "</div>"
      ],
      "text/plain": [
       "   Unnamed: 0  index    Covered in Warranty Warranty Service Type  \\\n",
       "0           0      0  Manufacturing Defects              Carry-in   \n",
       "\n",
       "  Processor Variant                  Clock Speed Finger Print Sensor  \\\n",
       "0              N305  Max Frequency Up to 3.8 GHz                 NaN   \n",
       "\n",
       "  MS Office Provided   Weight Processor Generation  Screen Resolution  \\\n",
       "0                 No  1.43 Kg                  NaN  1920 x 1080 Pixel   \n",
       "\n",
       "  Not Covered in Warranty Speakers  \\\n",
       "0         Physical damage      Yes   \n",
       "\n",
       "                                       Sales Package     Disk Drive  \\\n",
       "0  Laptop, Power Adaptor, User Guide, Warranty Do...  Not Available   \n",
       "\n",
       "                Suitable For Backlit Keyboard Touchscreen Processor Name  \\\n",
       "0  Processing & Multitasking               No          No        Core i3   \n",
       "\n",
       "  Bluetooth RAM Type                          Screen Type  id  \\\n",
       "0      v5.2   LPDDR5  Full HD IPS LED-backlit LCD Dislpay   0   \n",
       "\n",
       "  Domestic Warranty                     Series Operating System  \\\n",
       "0               NaN  Chromebook Plus Google AI           Chrome   \n",
       "\n",
       "    Model Number         Screen Size  \\\n",
       "0  CB514-4H-39T7  35.56 cm (14 Inch)   \n",
       "\n",
       "                                            USB Port  SSD Processor Brand  \\\n",
       "0  2 x USB 3.2 Gen 1 Type-A port, 2 x USB 3.2 Gen...  Yes           Intel   \n",
       "\n",
       "  Internal Mic                   Wireless LAN Storage Type       Color  \\\n",
       "0          Yes  Intel Wireless Wi-Fi 6E AX211          SSD  Steel Gray   \n",
       "\n",
       "  Battery Cell        Type                                           Keyboard  \\\n",
       "0       3 Cell  Chromebook  Acer FineTip keyboard with international langu...   \n",
       "\n",
       "  SSD Capacity          Warranty Summary       Model Name   Part Number   RAM  \\\n",
       "0       256 GB  1 Year Carry-in Warranty  Chromebook Plus  NX.KUTSI.002  8 GB   \n",
       "\n",
       "      Graphic Processor                                         Web Camera  \\\n",
       "0  Intel Integrated UHD  FHD camera, 1920 x 1080 Resolution, 1080p vide...   \n",
       "\n",
       "  Power Supply HDMI Port                 Dimensions OS Architecture  \\\n",
       "0         45 W       NaN  326.87 x 224.93 x 20.5 mm             NaN   \n",
       "\n",
       "  Face Recognition Pointer Device EMMC Storage Capacity  \\\n",
       "0              NaN            NaN                   NaN   \n",
       "\n",
       "  Dedicated Graphic Memory Type Dedicated Graphic Memory Capacity  \\\n",
       "0                           NaN                               NaN   \n",
       "\n",
       "  Refresh Rate Battery Backup Ethernet Expandable Memory  \\\n",
       "0          NaN            NaN      NaN               NaN   \n",
       "\n",
       "  Expandable SSD Capacity Supported Operating System Cache  Number of Cores  \\\n",
       "0                     NaN                        NaN   NaN              NaN   \n",
       "\n",
       "  Mic In Additional Features Memory Slots RAM Frequency RJ45 Sound Properties  \\\n",
       "0    NaN                 NaN          NaN           NaN  NaN              NaN   \n",
       "\n",
       "  Lock Port Security Chip Chipset  RPM Multi Card Slot Hardware Interface  \\\n",
       "0       NaN           NaN     NaN  NaN             NaN                NaN   \n",
       "\n",
       "  Sound Chip Included Software Antivirus Inbuilt 4G LTE Stylus Included  \\\n",
       "0        NaN               NaN       NaN            NaN             NaN   \n",
       "\n",
       "  NFC Support Wireless WAN Laptop Bag System Architecture Brightness RJ11  \\\n",
       "0         NaN          NaN        NaN                 NaN        NaN  NaN   \n",
       "\n",
       "  VGA Port Color Gamut  TGP Other Accessories International Warranty  \\\n",
       "0      NaN         NaN  NaN               NaN                    NaN   \n",
       "\n",
       "  HDD Capacity Dock Port Firewire Port Read/Write Speed S-video Certification  \\\n",
       "0          NaN       NaN           NaN              NaN     NaN           NaN   \n",
       "\n",
       "  Recovery Options Optane Memory  Rating    price  \\\n",
       "0              NaN           NaN     3.8  ₹19,990   \n",
       "\n",
       "                                                Link  \\\n",
       "0  https://www.flipkart.com/acer-chromebook-plus-...   \n",
       "\n",
       "                                               Names  \n",
       "0  Acer Chromebook Plus Google AI Intel Core i3 N...  "
      ]
     },
     "execution_count": 13,
     "metadata": {},
     "output_type": "execute_result"
    }
   ],
   "source": [
    "df.head(1)"
   ]
  },
  {
   "cell_type": "markdown",
   "id": "61e93333-1741-481c-9590-25c1ed1e4e36",
   "metadata": {},
   "source": [
    "### Elimanting Duplicates\n"
   ]
  },
  {
   "cell_type": "code",
   "execution_count": 15,
   "id": "3ffd077c-c369-4cc3-9fb6-80aef7f437d0",
   "metadata": {},
   "outputs": [
    {
     "data": {
      "text/plain": [
       "960"
      ]
     },
     "execution_count": 15,
     "metadata": {},
     "output_type": "execute_result"
    }
   ],
   "source": [
    "len(df) # With Repeated Products"
   ]
  },
  {
   "cell_type": "code",
   "execution_count": 16,
   "id": "30d51347-771d-490f-a8d3-8f6f3c0e90f8",
   "metadata": {},
   "outputs": [],
   "source": [
    "df.drop(columns=['Unnamed: 0','index','id','Link'],axis=1,inplace=True) "
   ]
  },
  {
   "cell_type": "code",
   "execution_count": 17,
   "id": "2eebbf2f-4b4c-4419-b325-1bb37abb17e5",
   "metadata": {},
   "outputs": [
    {
     "data": {
      "text/plain": [
       "False    548\n",
       "True     412\n",
       "Name: count, dtype: int64"
      ]
     },
     "execution_count": 17,
     "metadata": {},
     "output_type": "execute_result"
    }
   ],
   "source": [
    "df.duplicated().value_counts() #After dropping Links,index,id"
   ]
  },
  {
   "cell_type": "code",
   "execution_count": 18,
   "id": "6e28ba25-d0e3-47cc-b05d-a70fdaf6dde1",
   "metadata": {},
   "outputs": [
    {
     "data": {
      "text/plain": [
       "548"
      ]
     },
     "execution_count": 18,
     "metadata": {},
     "output_type": "execute_result"
    }
   ],
   "source": [
    "df.drop_duplicates(inplace=True) #Filltered DATA\n",
    "len(df)"
   ]
  },
  {
   "cell_type": "markdown",
   "id": "31c2cb25-774a-4355-9ab1-a0f181395edc",
   "metadata": {},
   "source": [
    "### Checking columns having more than 80% Emptiness (NULL values)"
   ]
  },
  {
   "cell_type": "code",
   "execution_count": 20,
   "id": "fae11007-5130-41c3-8eac-0b28152b58d8",
   "metadata": {},
   "outputs": [
    {
     "name": "stdout",
     "output_type": "stream",
     "text": [
      "Face Recognition >> 88.5\n",
      "EMMC Storage Capacity >> 97.99\n",
      "Refresh Rate >> 88.32\n",
      "Ethernet >> 88.5\n",
      "Expandable Memory >> 81.02\n",
      "Expandable SSD Capacity >> 95.26\n",
      "Memory Slots >> 86.5\n",
      "RJ45 >> 82.66\n",
      "Lock Port >> 95.8\n",
      "Security Chip >> 88.69\n",
      "Chipset >> 89.05\n",
      "RPM >> 92.34\n",
      "Multi Card Slot >> 84.85\n",
      "Hardware Interface >> 81.75\n",
      "Sound Chip >> 92.7\n",
      "Antivirus >> 96.17\n",
      "Inbuilt 4G LTE >> 96.35\n",
      "Stylus Included >> 95.44\n",
      "NFC Support >> 95.44\n",
      "Wireless WAN >> 95.26\n",
      "Laptop Bag >> 89.42\n",
      "System Architecture >> 81.39\n",
      "Brightness >> 95.8\n",
      "RJ11 >> 95.26\n",
      "VGA Port >> 95.26\n",
      "Color Gamut >> 97.08\n",
      "TGP >> 97.63\n",
      "Other Accessories >> 97.81\n",
      "International Warranty >> 97.81\n",
      "HDD Capacity >> 97.08\n",
      "Dock Port >> 97.63\n",
      "Firewire Port >> 97.81\n",
      "Read/Write Speed >> 99.82\n",
      "S-video >> 98.36\n",
      "Certification >> 99.09\n",
      "Recovery Options >> 97.45\n",
      "Optane Memory >> 99.82\n"
     ]
    }
   ],
   "source": [
    "for i in df.columns:\n",
    "    if round(df[i].isna().sum()/len(df)*100,2)>80:\n",
    "        print(f'{i} >> {round(df[i].isna().sum()/len(df)*100,2)}')\n"
   ]
  },
  {
   "cell_type": "markdown",
   "id": "a208ca4f-52a4-43df-a85d-847d1fa89d93",
   "metadata": {},
   "source": [
    "### Dropping \n",
    "#### Empty & Unecessary columns 👇"
   ]
  },
  {
   "cell_type": "code",
   "execution_count": 22,
   "id": "50549c06-2b03-4aee-b538-f5e68b05f089",
   "metadata": {},
   "outputs": [],
   "source": [
    "df.drop(columns=['Refresh Rate','RPM',\n",
    "'Inbuilt 4G LTE',\n",
    "'NFC Support',\n",
    "'Lock Port',\n",
    "'TGP',\n",
    "'Antivirus',\n",
    "'Brightness', \n",
    "'EMMC Storage Capacity',\n",
    "'International Warranty',\n",
    "'Stylus Included',\n",
    "'S-video',\n",
    "'Dock Port',\n",
    "'Firewire Port',\n",
    "'RJ11',\n",
    "'VGA Port',\n",
    "'Read/Write Speed',\n",
    "'Color Gamut',\n",
    "'Recovery Options',\n",
    "'Certification',\n",
    "'Optane Memory',\n",
    "'Refresh Rate',\n",
    "'Ethernet',\n",
    "'Laptop Bag',\n",
    "'Security Chip',\n",
    "'Sound Chip',\n",
    "'Sound Properties',\n",
    "'RJ45',\n",
    "'Multi Card Slot',\n",
    "'Memory Slots',\n",
    "'Hardware Interface',\n",
    "'Battery Backup',\n",
    "'Power Supply',\n",
    "'Mic In',\n",
    "'Pointer Device',\n",
    "'Additional Features',\n",
    "'Battery Cell',\n",
    "'Cache',\n",
    "'Internal Mic',\n",
    "'Keyboard',\n",
    "'Clock Speed',\n",
    "'HDMI Port',\n",
    "'Speakers',\n",
    "'Wireless LAN',\n",
    "'Warranty Service Type','Wireless WAN',  \n",
    "'Not Covered in Warranty',\n",
    "'Disk Drive','Web Camera','Bluetooth','Sales Package','Color','Part Number'],axis=1,inplace=True)\n"
   ]
  },
  {
   "cell_type": "markdown",
   "id": "57d7f3e0-06c1-4cd7-9522-938dfd7448db",
   "metadata": {},
   "source": [
    "## Transforming Data 👇"
   ]
  },
  {
   "cell_type": "markdown",
   "id": "f964dda4-5fb3-4604-900f-f80d9ea8b951",
   "metadata": {},
   "source": [
    "##### (  _We are converting all relevant features in the dataset into numeric formats wherever possible. This transformation is necessary because linear models require numeric input to perform calculations and make predictions. By encoding categorical variables, scaling numerical values, and handling text or datetime features appropriately, we ensure that the data is compatible with linear modeling techniques. This step will help us build a robust and interpretable model._  )"
   ]
  },
  {
   "cell_type": "code",
   "execution_count": 25,
   "id": "4030722e-63ee-4dfb-9a39-c7d04d7289d7",
   "metadata": {},
   "outputs": [
    {
     "data": {
      "text/plain": [
       "Index(['Covered in Warranty', 'Processor Variant', 'Finger Print Sensor',\n",
       "       'MS Office Provided', 'Weight', 'Processor Generation',\n",
       "       'Screen Resolution', 'Suitable For', 'Backlit Keyboard', 'Touchscreen',\n",
       "       'Processor Name', 'RAM Type', 'Screen Type', 'Domestic Warranty',\n",
       "       'Series', 'Operating System', 'Model Number', 'Screen Size', 'USB Port',\n",
       "       'SSD', 'Processor Brand', 'Storage Type', 'Type', 'SSD Capacity',\n",
       "       'Warranty Summary', 'Model Name', 'RAM', 'Graphic Processor',\n",
       "       'Dimensions', 'OS Architecture', 'Face Recognition',\n",
       "       'Dedicated Graphic Memory Type', 'Dedicated Graphic Memory Capacity',\n",
       "       'Expandable Memory', 'Expandable SSD Capacity',\n",
       "       'Supported Operating System', 'Number of Cores', 'RAM Frequency',\n",
       "       'Chipset', 'Included Software', 'System Architecture',\n",
       "       'Other Accessories', 'HDD Capacity', 'Rating', 'price', 'Names'],\n",
       "      dtype='object')"
      ]
     },
     "execution_count": 25,
     "metadata": {},
     "output_type": "execute_result"
    }
   ],
   "source": [
    "df.columns\n"
   ]
  },
  {
   "cell_type": "markdown",
   "id": "0415ed46-db02-4af0-a451-005f05e6b071",
   "metadata": {},
   "source": [
    "#### 1) _Finger Print Sensor_"
   ]
  },
  {
   "cell_type": "code",
   "execution_count": 27,
   "id": "fd4319a3-deb9-41f2-9c06-54ebc3b3f705",
   "metadata": {},
   "outputs": [
    {
     "data": {
      "text/plain": [
       "array([nan, 'No', 'Yes'], dtype=object)"
      ]
     },
     "execution_count": 27,
     "metadata": {},
     "output_type": "execute_result"
    }
   ],
   "source": [
    "df['Finger Print Sensor'].unique()"
   ]
  },
  {
   "cell_type": "code",
   "execution_count": 28,
   "id": "195c6bb5-3b19-426e-9d3b-5261b765cb23",
   "metadata": {},
   "outputs": [
    {
     "name": "stdout",
     "output_type": "stream",
     "text": [
      "NULL values >> 340 (not included 👇)->we will impute this as NO \n",
      "Axes(0.22375,0.11;0.5775x0.77)\n"
     ]
    },
    {
     "data": {
      "image/png": "[encoded data removed]",
      "text/plain": [
       "<Figure size 640x480 with 1 Axes>"
      ]
     },
     "metadata": {},
     "output_type": "display_data"
    }
   ],
   "source": [
    "\n",
    "print(f'NULL values >> {df['Finger Print Sensor'].isnull().sum()} (not included 👇)->we will impute this as NO \\n{df['Finger Print Sensor'].value_counts().plot(kind='pie',autopct='%.2f')}')\n"
   ]
  },
  {
   "cell_type": "code",
   "execution_count": 29,
   "id": "c505d7a5-a67c-4fa9-a69b-64b45c68a843",
   "metadata": {},
   "outputs": [],
   "source": [
    "df['Finger Print Sensor'].fillna(value='No',inplace=True);"
   ]
  },
  {
   "cell_type": "code",
   "execution_count": 30,
   "id": "8bb0e131-6e72-4d55-93c7-cc28ba6f11b9",
   "metadata": {},
   "outputs": [],
   "source": [
    "df['Finger Print Sensor']=pd.get_dummies(df['Finger Print Sensor'],drop_first='No').astype(int)"
   ]
  },
  {
   "cell_type": "code",
   "execution_count": 31,
   "id": "9a9e50f5-8651-4ad6-ab22-b7eb0a23707e",
   "metadata": {},
   "outputs": [
    {
     "data": {
      "text/plain": [
       "Finger Print Sensor\n",
       "0    486\n",
       "1     62\n",
       "Name: count, dtype: int64"
      ]
     },
     "execution_count": 31,
     "metadata": {},
     "output_type": "execute_result"
    }
   ],
   "source": [
    "df['Finger Print Sensor'].value_counts()"
   ]
  },
  {
   "cell_type": "markdown",
   "id": "ddd6c548-5c40-445a-a4c6-32a0aef8b7b7",
   "metadata": {},
   "source": [
    "#### 2) _Face Recognition_"
   ]
  },
  {
   "cell_type": "code",
   "execution_count": 33,
   "id": "a61e9872-162e-442b-b698-2e067732867c",
   "metadata": {},
   "outputs": [
    {
     "data": {
      "text/plain": [
       "array([nan, 'No', 'Yes'], dtype=object)"
      ]
     },
     "execution_count": 33,
     "metadata": {},
     "output_type": "execute_result"
    }
   ],
   "source": [
    "df['Face Recognition'].unique()"
   ]
  },
  {
   "cell_type": "code",
   "execution_count": 34,
   "id": "f59fe269-cf73-4bb9-a7b6-c619aa9c24b1",
   "metadata": {},
   "outputs": [
    {
     "data": {
      "text/plain": [
       "Face Recognition\n",
       "No     58\n",
       "Yes     5\n",
       "Name: count, dtype: int64"
      ]
     },
     "execution_count": 34,
     "metadata": {},
     "output_type": "execute_result"
    }
   ],
   "source": [
    "df['Face Recognition'].value_counts()# Apart from being 80% NULL we will still consider this a Feature"
   ]
  },
  {
   "cell_type": "code",
   "execution_count": 35,
   "id": "940adec1-64b4-4feb-9b9d-e27430268fb3",
   "metadata": {},
   "outputs": [],
   "source": [
    "df['Face Recognition'].fillna('No',inplace=True)"
   ]
  },
  {
   "cell_type": "code",
   "execution_count": 36,
   "id": "9087f6d0-ca81-4b3b-9e07-04b99cd19118",
   "metadata": {},
   "outputs": [],
   "source": [
    "df['Face Recognition']=pd.get_dummies(df['Face Recognition'],drop_first='No').astype(int)"
   ]
  },
  {
   "cell_type": "markdown",
   "id": "625732ed-3280-449e-8afb-b2f101b99982",
   "metadata": {},
   "source": [
    "#### 3) *Price*"
   ]
  },
  {
   "cell_type": "code",
   "execution_count": 38,
   "id": "218126ea-46a6-4d65-81de-83fe0213f7f3",
   "metadata": {},
   "outputs": [
    {
     "data": {
      "text/plain": [
       "269    ₹49,490\n",
       "Name: price, dtype: object"
      ]
     },
     "execution_count": 38,
     "metadata": {},
     "output_type": "execute_result"
    }
   ],
   "source": [
    "df.price.sample() #Removing the currency sign"
   ]
  },
  {
   "cell_type": "code",
   "execution_count": 39,
   "id": "5dc1d630-545f-4ce6-851b-92cb7e1c1080",
   "metadata": {},
   "outputs": [],
   "source": [
    "df['Price']=df.price.apply(lambda x:x.split('₹')[1])\n",
    "df['Price']=df.Price.apply(lambda x :x.split(',')[0]+x.split(',')[1]  if len(x.split(','))<3 else x.split(',')[0]+x.split(',')[1]+x.split(',')[2])\n",
    "df.drop(columns=['price'],axis=1,inplace=True)"
   ]
  },
  {
   "cell_type": "code",
   "execution_count": 40,
   "id": "0f8372f6-c8a1-4003-88cb-2cc91c966f0f",
   "metadata": {},
   "outputs": [],
   "source": [
    "df['Price']=df['Price'].astype(int)"
   ]
  },
  {
   "cell_type": "code",
   "execution_count": 41,
   "id": "203e0029-5ea4-45fd-ac48-5dd7054b97bc",
   "metadata": {},
   "outputs": [
    {
     "data": {
      "text/plain": [
       "209    104990\n",
       "Name: Price, dtype: int32"
      ]
     },
     "execution_count": 41,
     "metadata": {},
     "output_type": "execute_result"
    }
   ],
   "source": [
    "df.Price.sample()"
   ]
  },
  {
   "cell_type": "markdown",
   "id": "fe0180ce-011d-463e-b281-3e33c3135532",
   "metadata": {},
   "source": [
    "#### 4) *RAM*"
   ]
  },
  {
   "cell_type": "code",
   "execution_count": 43,
   "id": "b594882e-7813-4ec9-b044-c0412162c5a3",
   "metadata": {},
   "outputs": [],
   "source": [
    "df['RAM (GB)']=df.RAM.apply(lambda x :x.split(' ')[0]) #Converting to Numberic by removing GB from data\n",
    "df['RAM (GB)']=df['RAM (GB)'].astype(int)"
   ]
  },
  {
   "cell_type": "code",
   "execution_count": 44,
   "id": "bddd8d57-5354-4739-b11a-16a5aefc8928",
   "metadata": {},
   "outputs": [
    {
     "data": {
      "text/plain": [
       "array([ 8, 16,  4, 32, 24, 12, 18, 36, 64])"
      ]
     },
     "execution_count": 44,
     "metadata": {},
     "output_type": "execute_result"
    }
   ],
   "source": [
    "df['RAM (GB)'].unique()\n"
   ]
  },
  {
   "cell_type": "markdown",
   "id": "ded2891b-d86a-4b4e-8382-decaccfc4d46",
   "metadata": {},
   "source": [
    "#### 5.) *Cores*"
   ]
  },
  {
   "cell_type": "code",
   "execution_count": 46,
   "id": "30fe9bc1-2f34-48b3-b6b0-7f0239cc209b",
   "metadata": {},
   "outputs": [
    {
     "data": {
      "text/plain": [
       "'Data Filled>> 194 Empty >> 354'"
      ]
     },
     "execution_count": 46,
     "metadata": {},
     "output_type": "execute_result"
    }
   ],
   "source": [
    "f'Data Filled>> {df['Number of Cores'].value_counts().sum()} Empty >> {df['Number of Cores'].isna().sum()}'"
   ]
  },
  {
   "cell_type": "code",
   "execution_count": 47,
   "id": "ba87b7bd-dbb8-4df9-a952-e84e7dba6340",
   "metadata": {},
   "outputs": [
    {
     "data": {
      "text/plain": [
       "Number of Cores\n",
       "2.0     46\n",
       "6.0     38\n",
       "4.0     32\n",
       "10.0    29\n",
       "8.0     28\n",
       "14.0     7\n",
       "16.0     7\n",
       "12.0     7\n",
       "Name: count, dtype: int64"
      ]
     },
     "execution_count": 47,
     "metadata": {},
     "output_type": "execute_result"
    }
   ],
   "source": [
    "df['Number of Cores'].value_counts() #This are Cores which are Mentioned & we already have"
   ]
  },
  {
   "cell_type": "code",
   "execution_count": 48,
   "id": "23ef6a19-a84b-4766-8d00-343d9e48b54e",
   "metadata": {},
   "outputs": [
    {
     "data": {
      "text/plain": [
       "0   NaN\n",
       "1   NaN\n",
       "2   NaN\n",
       "3   NaN\n",
       "4   NaN\n",
       "5   NaN\n",
       "Name: Number of Cores, dtype: float64"
      ]
     },
     "execution_count": 48,
     "metadata": {},
     "output_type": "execute_result"
    }
   ],
   "source": [
    "df['Number of Cores'].head(6) # we will check at last that all the data below is filled correctly"
   ]
  },
  {
   "cell_type": "code",
   "execution_count": 49,
   "id": "c3156135-b849-4f6a-a7a9-6df540675895",
   "metadata": {},
   "outputs": [
    {
     "data": {
      "text/plain": [
       "array(['Core i3', 'Core i5', 'MT8183', 'Celeron Dual Core', 'Core i9',\n",
       "       'Snapdragon X Plus', 'Ryzen 3 Quad Core', 'Core Ultra 5',\n",
       "       'Snapdragon X Elite', 'Ryzen 7 Octa Core', 'Ryzen 5 Hexa Core',\n",
       "       'Ryzen 5 Quad Core', 'Core i7', 'Athlon Dual Core', 'M3',\n",
       "       'Ryzen 5 Dual Core', 'M2', 'Core Ultra 7', 'MediaTek MT8788',\n",
       "       'Core 5', 'Pentium Gold', 'M1', 'Core 7', 'Dual Core',\n",
       "       'Ryzen 3 Dual Core', 'Core Ultra 9', 'Celeron Quad Core', 'M3 Pro',\n",
       "       'M3 Max', 'Ryzen AI 9 12 Core', 'M4 Max', 'M4 Pro', 'M4',\n",
       "       'AMD Ryzen Z1 Extreme', 'Pentium Quad Core'], dtype=object)"
      ]
     },
     "execution_count": 49,
     "metadata": {},
     "output_type": "execute_result"
    }
   ],
   "source": [
    "df['Processor Name'].unique() # Cores are mentioned in Name itself for some of the Brands like eg.AMD"
   ]
  },
  {
   "cell_type": "code",
   "execution_count": 50,
   "id": "27e384e4-8b1e-4872-9a39-d94b98eca314",
   "metadata": {},
   "outputs": [],
   "source": [
    "#Fetching Number of cores from Processor Name\n",
    "\n",
    "def extract_core(x): \n",
    "    \n",
    "    if len(x.split(' '))==2: #for PRO & MAX variant\n",
    "        if 'M3 Pro' in x:\n",
    "            return 12\n",
    "        elif 'M4 Pro' in x:\n",
    "            return 14\n",
    "        elif 'M3 Max' in x or 'M4 Max' in x:\n",
    "            return 16\n",
    "        \n",
    "    x = x.split(' ') #fro AMD & Qualcomm\n",
    "    if 'Hexa' in x:\n",
    "        return 6\n",
    "    elif 'Octa' in x or 'MT8788' in x or 'M1' in x or 'M2' in x or 'M3' in x or 'M4' in x or'MT8183'in x :\n",
    "        return 8\n",
    "    elif 'Quad' in x:\n",
    "        return 4\n",
    "    elif 'Dual' in x:\n",
    "        return 2\n",
    "    elif 'Z1' in x:  \n",
    "        return 10\n",
    "    elif '12' in x or 'Elite' in x: \n",
    "        return 12\n",
    "    \n",
    "   \n",
    "    else:\n",
    "        return 0  \n"
   ]
  },
  {
   "cell_type": "code",
   "execution_count": 51,
   "id": "49d7a7e9-4792-4790-aa7d-66b0c849bae6",
   "metadata": {},
   "outputs": [],
   "source": [
    "df['New_core'] = df['Processor Name'].apply(extract_core)"
   ]
  },
  {
   "cell_type": "code",
   "execution_count": 52,
   "id": "72c4f6cf-f46b-44f1-acbe-675a8c76988b",
   "metadata": {},
   "outputs": [
    {
     "data": {
      "text/plain": [
       "New_core\n",
       "0     347\n",
       "4      50\n",
       "8      49\n",
       "2      44\n",
       "6      41\n",
       "12     11\n",
       "16      4\n",
       "14      1\n",
       "10      1\n",
       "Name: count, dtype: int64"
      ]
     },
     "execution_count": 52,
     "metadata": {},
     "output_type": "execute_result"
    }
   ],
   "source": [
    "df['New_core'].value_counts() #new data for Cores"
   ]
  },
  {
   "cell_type": "code",
   "execution_count": 53,
   "id": "385c1869-fdc9-499a-99cc-5b93e98c86c2",
   "metadata": {},
   "outputs": [
    {
     "data": {
      "text/html": [
       "<div>\n",
       "<style scoped>\n",
       "    .dataframe tbody tr th:only-of-type {\n",
       "        vertical-align: middle;\n",
       "    }\n",
       "\n",
       "    .dataframe tbody tr th {\n",
       "        vertical-align: top;\n",
       "    }\n",
       "\n",
       "    .dataframe thead th {\n",
       "        text-align: right;\n",
       "    }\n",
       "</style>\n",
       "<table border=\"1\" class=\"dataframe\">\n",
       "  <thead>\n",
       "    <tr style=\"text-align: right;\">\n",
       "      <th></th>\n",
       "      <th>Number of Cores</th>\n",
       "      <th>New_core</th>\n",
       "    </tr>\n",
       "  </thead>\n",
       "  <tbody>\n",
       "    <tr>\n",
       "      <th>2</th>\n",
       "      <td>NaN</td>\n",
       "      <td>8</td>\n",
       "    </tr>\n",
       "    <tr>\n",
       "      <th>5</th>\n",
       "      <td>NaN</td>\n",
       "      <td>2</td>\n",
       "    </tr>\n",
       "    <tr>\n",
       "      <th>15</th>\n",
       "      <td>NaN</td>\n",
       "      <td>4</td>\n",
       "    </tr>\n",
       "    <tr>\n",
       "      <th>18</th>\n",
       "      <td>NaN</td>\n",
       "      <td>4</td>\n",
       "    </tr>\n",
       "    <tr>\n",
       "      <th>20</th>\n",
       "      <td>NaN</td>\n",
       "      <td>12</td>\n",
       "    </tr>\n",
       "    <tr>\n",
       "      <th>...</th>\n",
       "      <td>...</td>\n",
       "      <td>...</td>\n",
       "    </tr>\n",
       "    <tr>\n",
       "      <th>898</th>\n",
       "      <td>NaN</td>\n",
       "      <td>6</td>\n",
       "    </tr>\n",
       "    <tr>\n",
       "      <th>924</th>\n",
       "      <td>NaN</td>\n",
       "      <td>2</td>\n",
       "    </tr>\n",
       "    <tr>\n",
       "      <th>925</th>\n",
       "      <td>NaN</td>\n",
       "      <td>2</td>\n",
       "    </tr>\n",
       "    <tr>\n",
       "      <th>935</th>\n",
       "      <td>NaN</td>\n",
       "      <td>8</td>\n",
       "    </tr>\n",
       "    <tr>\n",
       "      <th>941</th>\n",
       "      <td>NaN</td>\n",
       "      <td>8</td>\n",
       "    </tr>\n",
       "  </tbody>\n",
       "</table>\n",
       "<p>127 rows × 2 columns</p>\n",
       "</div>"
      ],
      "text/plain": [
       "     Number of Cores  New_core\n",
       "2                NaN         8\n",
       "5                NaN         2\n",
       "15               NaN         4\n",
       "18               NaN         4\n",
       "20               NaN        12\n",
       "..               ...       ...\n",
       "898              NaN         6\n",
       "924              NaN         2\n",
       "925              NaN         2\n",
       "935              NaN         8\n",
       "941              NaN         8\n",
       "\n",
       "[127 rows x 2 columns]"
      ]
     },
     "execution_count": 53,
     "metadata": {},
     "output_type": "execute_result"
    }
   ],
   "source": [
    "df[((df['New_core']!=df['Number of Cores'])) &(df['New_core']!=0)][['Number of Cores','New_core']]\n",
    "      #Incorrect    vs Correct data"
   ]
  },
  {
   "cell_type": "code",
   "execution_count": 54,
   "id": "00f9fa47-721e-4eb1-bad9-20f6c3409fbe",
   "metadata": {},
   "outputs": [
    {
     "data": {
      "text/plain": [
       "2      8\n",
       "5      2\n",
       "15     4\n",
       "18     4\n",
       "20    12\n",
       "Name: New_core, dtype: int64"
      ]
     },
     "execution_count": 54,
     "metadata": {},
     "output_type": "execute_result"
    }
   ],
   "source": [
    "df.loc[((df['New_core']!=df['Number of Cores'])) &(df['New_core']!=0)]['New_core'].head(5) #Data which is Completely NEW\n"
   ]
  },
  {
   "cell_type": "code",
   "execution_count": 55,
   "id": "a7317c75-9359-426e-b0d7-5425c70b16d1",
   "metadata": {},
   "outputs": [],
   "source": [
    "df.loc[(df['New_core'] != df['Number of Cores']) & (df['New_core'] != 0), 'Number of Cores']=df.loc[((df['New_core']!=df['Number of Cores'])) &(df['New_core']!=0)]['New_core']\n",
    "#Imputing New Values into Missing and Incorrect data in the \"Number of Cores\" column"
   ]
  },
  {
   "cell_type": "code",
   "execution_count": 56,
   "id": "35ac66c2-e4c0-43b0-8f11-8595ae559579",
   "metadata": {},
   "outputs": [
    {
     "data": {
      "text/plain": [
       "Series([], Name: Number of Cores, dtype: float64)"
      ]
     },
     "execution_count": 56,
     "metadata": {},
     "output_type": "execute_result"
    }
   ],
   "source": [
    "df.loc[((df['New_core']!=df['Number of Cores'])) &(df['New_core']!=0)]['Number of Cores']#if empty replaced sucessfully"
   ]
  },
  {
   "cell_type": "code",
   "execution_count": 57,
   "id": "6093a8e6-8284-484e-b106-452d453f609c",
   "metadata": {},
   "outputs": [],
   "source": [
    "#Imputing Mean for rest of The Remaining data\n",
    "\n",
    "# core_mean=df['Number of Cores'].mean()\n",
    "df['Number of Cores'].fillna(value=4,inplace=True)#we are assuming the mean to be 4 not 6"
   ]
  },
  {
   "cell_type": "code",
   "execution_count": 58,
   "id": "90bf1b7b-9cc7-462c-9a11-443f53a6de37",
   "metadata": {},
   "outputs": [],
   "source": [
    "df['Number of Cores']=df['Number of Cores'].astype(int)#d_type=> Numberic"
   ]
  },
  {
   "cell_type": "code",
   "execution_count": 59,
   "id": "2c5ac4a6-75cc-45fe-b67a-3a3ddd3df5d2",
   "metadata": {},
   "outputs": [
    {
     "data": {
      "text/plain": [
       "0    4\n",
       "1    4\n",
       "2    8\n",
       "3    4\n",
       "4    4\n",
       "5    2\n",
       "Name: Number of Cores, dtype: int32"
      ]
     },
     "execution_count": 59,
     "metadata": {},
     "output_type": "execute_result"
    }
   ],
   "source": [
    "df['Number of Cores'].head(6) #we can observe that  mean and new fetched values are sucessfully replaced"
   ]
  },
  {
   "cell_type": "code",
   "execution_count": 60,
   "id": "2d5753bb-dd1d-4aac-9640-c5dfa58f5d52",
   "metadata": {},
   "outputs": [],
   "source": [
    "df.drop(columns=['New_core'],axis=1,inplace=True)# Dropping the same column"
   ]
  },
  {
   "cell_type": "code",
   "execution_count": 61,
   "id": "873e42fa-0a35-432c-81e1-d5f74452e8a3",
   "metadata": {},
   "outputs": [
    {
     "data": {
      "text/plain": [
       "Number of Cores\n",
       "4     297\n",
       "2      65\n",
       "6      62\n",
       "8      58\n",
       "10     30\n",
       "12     17\n",
       "16     11\n",
       "14      8\n",
       "Name: count, dtype: int64"
      ]
     },
     "execution_count": 61,
     "metadata": {},
     "output_type": "execute_result"
    }
   ],
   "source": [
    "df['Number of Cores'].value_counts()"
   ]
  },
  {
   "cell_type": "markdown",
   "id": "93f8c122-4d6a-4fba-9fd0-0376400f8923",
   "metadata": {},
   "source": [
    "#### 6) _'MS Office Provided'_"
   ]
  },
  {
   "cell_type": "code",
   "execution_count": 63,
   "id": "d6c5b557-50ac-43d4-a224-0f75af2cd41f",
   "metadata": {},
   "outputs": [
    {
     "data": {
      "text/plain": [
       "MS Office Provided\n",
       "Yes    296\n",
       "No     252\n",
       "Name: count, dtype: int64"
      ]
     },
     "execution_count": 63,
     "metadata": {},
     "output_type": "execute_result"
    }
   ],
   "source": [
    "df['MS Office Provided'].value_counts()"
   ]
  },
  {
   "cell_type": "markdown",
   "id": "6dc5808e-b63b-4ab6-9005-24e285221759",
   "metadata": {},
   "source": [
    "Filled Yes to Apple products bcoz they got their own 🙃"
   ]
  },
  {
   "cell_type": "code",
   "execution_count": 65,
   "id": "cd503c52-fdd2-4ea7-b843-800f947b3b94",
   "metadata": {},
   "outputs": [],
   "source": [
    "\n",
    "df.loc[df['Processor Brand'] == 'Apple', 'MS Office Provided'] = df.loc[df['Processor Brand'] == 'Apple', 'MS Office Provided'].fillna(value='Yes',inplace=True)\n",
    "df[df['Processor Brand']=='Apple']['MS Office Provided'].fillna(value='Yes',inplace=True);\n"
   ]
  },
  {
   "cell_type": "code",
   "execution_count": 66,
   "id": "8858d315-a7d8-401c-82fc-ea8dd539a9d4",
   "metadata": {},
   "outputs": [],
   "source": [
    "df['MS Office Provided'].fillna(value='Yes',inplace=True);"
   ]
  },
  {
   "cell_type": "code",
   "execution_count": 67,
   "id": "8ae939ee-c67e-473d-bdd5-c0c08edec454",
   "metadata": {},
   "outputs": [],
   "source": [
    "df['MS Office Provided']=pd.get_dummies(df['MS Office Provided'],drop_first='No').astype(int)"
   ]
  },
  {
   "cell_type": "markdown",
   "id": "5968277c-3c17-4dcb-991e-6d7db5ce29f8",
   "metadata": {},
   "source": [
    "#### 7) _RAM Type_"
   ]
  },
  {
   "cell_type": "code",
   "execution_count": 69,
   "id": "c6090b4c-49f0-435b-aa65-f6919c83f3ca",
   "metadata": {},
   "outputs": [
    {
     "data": {
      "text/plain": [
       "array(['LPDDR5', 'DDR4', 'LPDDR4X', 'DDR5', 'LPDDR5X', 'LPDDR4',\n",
       "       'Unified Memory'], dtype=object)"
      ]
     },
     "execution_count": 69,
     "metadata": {},
     "output_type": "execute_result"
    }
   ],
   "source": [
    "df['RAM Type'].unique() #Unified is for Apple Products"
   ]
  },
  {
   "cell_type": "code",
   "execution_count": 70,
   "id": "799f60a2-91fd-4116-b0f3-0f2776031aba",
   "metadata": {},
   "outputs": [
    {
     "data": {
      "text/plain": [
       "1"
      ]
     },
     "execution_count": 70,
     "metadata": {},
     "output_type": "execute_result"
    }
   ],
   "source": [
    "Ranking=[['DDR4','LPDDR4','LPDDR4X','DDR5','LPDDR5', 'LPDDR5X','Unified Memory']] #Ranked Apple Higher than others Bcoz they are Expensive & Brand Value\n",
    "len(Ranking ) "
   ]
  },
  {
   "cell_type": "code",
   "execution_count": 71,
   "id": "dde3eb16-7e83-4f1d-9cdf-f8b06652fd12",
   "metadata": {},
   "outputs": [],
   "source": [
    "df['RAM Type Rank']=OrdinalEncoder(categories=Ranking).fit_transform(df[['RAM Type']]).astype(int)"
   ]
  },
  {
   "cell_type": "code",
   "execution_count": 72,
   "id": "2e750ca0-8ce2-49dc-89b7-f07b9766ec43",
   "metadata": {},
   "outputs": [
    {
     "data": {
      "text/plain": [
       "array([4, 0, 2, 3, 5, 1, 6])"
      ]
     },
     "execution_count": 72,
     "metadata": {},
     "output_type": "execute_result"
    }
   ],
   "source": [
    "df['RAM Type Rank'].unique() # Transformed"
   ]
  },
  {
   "cell_type": "markdown",
   "id": "c0ee6c9f-dc4c-4dcd-8a40-90fabb934660",
   "metadata": {},
   "source": [
    "#### 8) _Backlit Keyboard_"
   ]
  },
  {
   "cell_type": "code",
   "execution_count": 74,
   "id": "3bbf85b9-5b31-4546-94ec-f74dd09a0b61",
   "metadata": {},
   "outputs": [
    {
     "data": {
      "text/plain": [
       "array(['No', 'Yes', nan], dtype=object)"
      ]
     },
     "execution_count": 74,
     "metadata": {},
     "output_type": "execute_result"
    }
   ],
   "source": [
    "df['Backlit Keyboard'].unique()"
   ]
  },
  {
   "cell_type": "code",
   "execution_count": 75,
   "id": "dfa9744b-3796-44b0-ad0d-8d07ce16ab07",
   "metadata": {},
   "outputs": [],
   "source": [
    "df['Backlit Keyboard'].fillna(value='No',inplace=True)"
   ]
  },
  {
   "cell_type": "code",
   "execution_count": 76,
   "id": "606be6ee-519e-4918-9b0f-c29302ad2e8d",
   "metadata": {},
   "outputs": [],
   "source": [
    "df['Backlit Keyboard']=pd.get_dummies(df['Backlit Keyboard'],drop_first='No').astype(int)"
   ]
  },
  {
   "cell_type": "code",
   "execution_count": 77,
   "id": "04a4be15-e312-4661-aada-f03619a53f71",
   "metadata": {},
   "outputs": [
    {
     "data": {
      "text/plain": [
       "array([0, 1])"
      ]
     },
     "execution_count": 77,
     "metadata": {},
     "output_type": "execute_result"
    }
   ],
   "source": [
    "df['Backlit Keyboard'].unique()#Transformed"
   ]
  },
  {
   "cell_type": "markdown",
   "id": "99b6f0f4-9703-4498-aa99-1c2e7152a928",
   "metadata": {},
   "source": [
    "#### 9) _Touchscreen'_"
   ]
  },
  {
   "cell_type": "code",
   "execution_count": 79,
   "id": "7efc4d7d-07e7-427c-9f4a-61775bff5f7d",
   "metadata": {},
   "outputs": [
    {
     "data": {
      "text/plain": [
       "array(['No', 'Yes'], dtype=object)"
      ]
     },
     "execution_count": 79,
     "metadata": {},
     "output_type": "execute_result"
    }
   ],
   "source": [
    "df['Touchscreen'].unique()"
   ]
  },
  {
   "cell_type": "code",
   "execution_count": 80,
   "id": "f501f69b-e45b-405f-b849-906e72a7dfac",
   "metadata": {},
   "outputs": [
    {
     "data": {
      "text/plain": [
       "0"
      ]
     },
     "execution_count": 80,
     "metadata": {},
     "output_type": "execute_result"
    }
   ],
   "source": [
    "df['Touchscreen'].isna().sum()"
   ]
  },
  {
   "cell_type": "code",
   "execution_count": 81,
   "id": "03903ce0-7649-4115-ba9c-598f74813dda",
   "metadata": {},
   "outputs": [],
   "source": [
    "df['Touchscreen']=pd.get_dummies(df['Touchscreen'],drop_first='No').astype(int)"
   ]
  },
  {
   "cell_type": "code",
   "execution_count": 82,
   "id": "cd901a6b-5bce-4240-8ec7-f7703eea21db",
   "metadata": {},
   "outputs": [
    {
     "data": {
      "text/plain": [
       "array([0, 1])"
      ]
     },
     "execution_count": 82,
     "metadata": {},
     "output_type": "execute_result"
    }
   ],
   "source": [
    "df['Touchscreen'].unique()"
   ]
  },
  {
   "cell_type": "markdown",
   "id": "72f84d84-0a00-4fce-8a52-e45b19efb83d",
   "metadata": {},
   "source": [
    "#### 10) _Domestic Warranty_"
   ]
  },
  {
   "cell_type": "code",
   "execution_count": 84,
   "id": "cb8ac536-bc9d-4d09-83ba-b544952ce061",
   "metadata": {},
   "outputs": [
    {
     "data": {
      "text/plain": [
       "291"
      ]
     },
     "execution_count": 84,
     "metadata": {},
     "output_type": "execute_result"
    }
   ],
   "source": [
    "df['Domestic Warranty'].isna().sum() # we might delete this column later due to less info"
   ]
  },
  {
   "cell_type": "code",
   "execution_count": 85,
   "id": "38070b58-8d1f-4c1e-8182-76a183e2c94d",
   "metadata": {},
   "outputs": [],
   "source": [
    "df['Domestic Warranty'].fillna(value='0',inplace=True)\n",
    "df['Domestic Warranty'].replace(['12 Months'],['1 Year'],inplace=True)"
   ]
  },
  {
   "cell_type": "code",
   "execution_count": 86,
   "id": "74c67405-cd60-4d89-bbb9-8b0d89e1acae",
   "metadata": {},
   "outputs": [],
   "source": [
    "df['Domestic Warranty_in_year']=df['Domestic Warranty'].apply(lambda x:x.split(' ')[0]).astype(int)"
   ]
  },
  {
   "cell_type": "code",
   "execution_count": 87,
   "id": "464c813c-a1f0-4528-a7df-7b43a31cb6e2",
   "metadata": {},
   "outputs": [
    {
     "data": {
      "text/plain": [
       "291"
      ]
     },
     "execution_count": 87,
     "metadata": {},
     "output_type": "execute_result"
    }
   ],
   "source": [
    "len(df[df['Domestic Warranty_in_year']==0])"
   ]
  },
  {
   "cell_type": "code",
   "execution_count": null,
   "id": "a37ba882-8e4c-46a1-9a19-a716a4c516ef",
   "metadata": {},
   "outputs": [],
   "source": []
  },
  {
   "cell_type": "markdown",
   "id": "806d61d3-3f3a-4a5f-808f-364775892de2",
   "metadata": {},
   "source": [
    "#### 11) _SSD_"
   ]
  },
  {
   "cell_type": "code",
   "execution_count": 89,
   "id": "65b8e46a-a982-4795-be54-3721cb0466c2",
   "metadata": {},
   "outputs": [
    {
     "data": {
      "text/plain": [
       "array(['256 GB', '512 GB', nan, '1 TB', '2 TB', '128 GB'], dtype=object)"
      ]
     },
     "execution_count": 89,
     "metadata": {},
     "output_type": "execute_result"
    }
   ],
   "source": [
    "df['SSD Capacity'].unique()"
   ]
  },
  {
   "cell_type": "code",
   "execution_count": 90,
   "id": "c5b4e17d-6049-4206-bc94-cec7f1607e06",
   "metadata": {},
   "outputs": [],
   "source": [
    "df['SSD Capacity'].replace(['1 TB','2 TB',np.nan],['1000 GB','2000 GB','0 GB'],inplace=True) #All the data in GB unit"
   ]
  },
  {
   "cell_type": "code",
   "execution_count": 91,
   "id": "bf00ec96-d00c-4f10-911c-91d04272577f",
   "metadata": {},
   "outputs": [],
   "source": [
    "df['SSD (GB)']=df['SSD Capacity'].astype(str).apply(lambda x : x.split(' ')[0]).astype(int)"
   ]
  },
  {
   "cell_type": "code",
   "execution_count": 92,
   "id": "98021183-d29f-48de-bbda-7f2741956c7b",
   "metadata": {},
   "outputs": [
    {
     "data": {
      "text/plain": [
       "array([ 256,  512,    0, 1000, 2000,  128])"
      ]
     },
     "execution_count": 92,
     "metadata": {},
     "output_type": "execute_result"
    }
   ],
   "source": [
    "df['SSD (GB)'].unique()"
   ]
  },
  {
   "cell_type": "markdown",
   "id": "c75f61a0-1f12-4481-8f26-57499afa51cc",
   "metadata": {},
   "source": [
    "#### 12) _HDD_"
   ]
  },
  {
   "cell_type": "code",
   "execution_count": 94,
   "id": "fa1cb2b2-91ba-4270-a806-6ef43b63acdb",
   "metadata": {},
   "outputs": [
    {
     "data": {
      "text/plain": [
       "array([nan, '1 TB', '500 GB'], dtype=object)"
      ]
     },
     "execution_count": 94,
     "metadata": {},
     "output_type": "execute_result"
    }
   ],
   "source": [
    "df['HDD Capacity'].unique()"
   ]
  },
  {
   "cell_type": "code",
   "execution_count": 95,
   "id": "1d15f87b-ab43-4a9b-9556-eefff165baf1",
   "metadata": {},
   "outputs": [],
   "source": [
    "df['HDD Capacity'].replace(['1 TB',np.nan],['1000 GB','0 GB'],inplace=True)"
   ]
  },
  {
   "cell_type": "code",
   "execution_count": 96,
   "id": "802a78fc-1136-48b0-ab64-10a344dc93af",
   "metadata": {},
   "outputs": [],
   "source": [
    "df['HDD (GB)']=df['HDD Capacity'].astype(str).apply(lambda x : x.split(' ')[0]).astype(int)"
   ]
  },
  {
   "cell_type": "code",
   "execution_count": 97,
   "id": "53a8f5ee-f270-49b5-9647-b7b41d39c1ff",
   "metadata": {},
   "outputs": [
    {
     "data": {
      "text/plain": [
       "array([   0, 1000,  500])"
      ]
     },
     "execution_count": 97,
     "metadata": {},
     "output_type": "execute_result"
    }
   ],
   "source": [
    "df['HDD (GB)'].unique()#Transformed"
   ]
  },
  {
   "cell_type": "markdown",
   "id": "3171dc63-eec1-4f58-af72-ce31c2ace52d",
   "metadata": {},
   "source": [
    "#### 13) _Expandable Memory_"
   ]
  },
  {
   "cell_type": "code",
   "execution_count": 99,
   "id": "8c5dbce0-5d5b-46d0-bec4-22351347c99c",
   "metadata": {},
   "outputs": [
    {
     "data": {
      "text/plain": [
       "Expandable Memory\n",
       "16 GB                                        21\n",
       "32 GB                                        12\n",
       "32                                           11\n",
       "16                                            8\n",
       "Upto 16 GB                                    7\n",
       "Upto 32 GB                                    6\n",
       "64 GB                                         6\n",
       "Upto 64 GB                                    5\n",
       "16GB                                          4\n",
       "8                                             4\n",
       "8 GB                                          3\n",
       "Upto 12 GB                                    2\n",
       "32GB                                          2\n",
       "1tb                                           1\n",
       "Upto 1 TB                                     1\n",
       "Yes                                           1\n",
       "12                                            1\n",
       "Upto 24 GB                                    1\n",
       "up to 512 GB                                  1\n",
       "Non Upgradable                                1\n",
       "No                                            1\n",
       "40                                            1\n",
       "Up to 64 GB                                   1\n",
       "128 GB                                        1\n",
       "64GB                                          1\n",
       "dual-channel capable upgradable upto 40GB     1\n",
       "Name: count, dtype: int64"
      ]
     },
     "execution_count": 99,
     "metadata": {},
     "output_type": "execute_result"
    }
   ],
   "source": [
    "df['Expandable Memory'].value_counts() #Extracting all the Numbers Possible 👇"
   ]
  },
  {
   "cell_type": "code",
   "execution_count": 100,
   "id": "3a46f701-1842-4efd-9fdf-a36fe376d5ec",
   "metadata": {},
   "outputs": [
    {
     "data": {
      "text/plain": [
       "165    HP 15s AMD Ryzen 3 Quad Core 5300U - (8 GB/512...\n",
       "Name: Names, dtype: object"
      ]
     },
     "execution_count": 100,
     "metadata": {},
     "output_type": "execute_result"
    }
   ],
   "source": [
    "df[df['Expandable Memory']=='Yes']['Names']"
   ]
  },
  {
   "cell_type": "code",
   "execution_count": 101,
   "id": "904cf9f6-00f9-417e-8d2c-aba4adbbfdd1",
   "metadata": {},
   "outputs": [],
   "source": [
    "df['Expandable Memory'].replace(['Non Upgradable','No','Yes','Upto 1 TB','1tb'],['0 GB','0 GB','8 GB','1000 GB','1000 GB'],inplace=True)#Replacing no as a 0 GB input"
   ]
  },
  {
   "cell_type": "code",
   "execution_count": 102,
   "id": "cd303b93-ab50-49b8-a0da-eefd65d62010",
   "metadata": {},
   "outputs": [],
   "source": [
    "x=df['Expandable Memory'].astype(str).apply(lambda x: (''.join(i  if i.isdigit() else ' ' for i in x).split()))#Fetching only Numbers/digits"
   ]
  },
  {
   "cell_type": "code",
   "execution_count": 103,
   "id": "6dc120a7-b3a2-4c58-97d9-c5ef55caa574",
   "metadata": {},
   "outputs": [],
   "source": [
    "df['Expandable Memory (GB)']=[i[0] if len(i)>=1 else np.nan for i in x]"
   ]
  },
  {
   "cell_type": "code",
   "execution_count": 104,
   "id": "e959c40f-db78-4bc1-a166-cb7f1a39a289",
   "metadata": {},
   "outputs": [],
   "source": [
    "df['Expandable Memory (GB)'].fillna(value=0,inplace=True)"
   ]
  },
  {
   "cell_type": "code",
   "execution_count": 105,
   "id": "23bb449c-b569-460a-a4ce-80eaeb2181c8",
   "metadata": {},
   "outputs": [],
   "source": [
    "df['Expandable Memory (GB)']=df['Expandable Memory (GB)'].astype(int)"
   ]
  },
  {
   "cell_type": "code",
   "execution_count": 106,
   "id": "1ba6decc-f336-4c31-afb2-56b801dfa0e1",
   "metadata": {},
   "outputs": [
    {
     "data": {
      "text/plain": [
       "Expandable Memory (GB)\n",
       "0       446\n",
       "16       40\n",
       "32       31\n",
       "64       13\n",
       "8         8\n",
       "12        3\n",
       "1000      2\n",
       "40        2\n",
       "24        1\n",
       "512       1\n",
       "128       1\n",
       "Name: count, dtype: int64"
      ]
     },
     "execution_count": 106,
     "metadata": {},
     "output_type": "execute_result"
    }
   ],
   "source": [
    "df['Expandable Memory (GB)'].value_counts()"
   ]
  },
  {
   "cell_type": "markdown",
   "id": "d346c99b-b9c3-4895-aeae-17bb9e623d53",
   "metadata": {},
   "source": [
    "#### 14) _BRAND NAMES_"
   ]
  },
  {
   "cell_type": "code",
   "execution_count": 108,
   "id": "5a0463ac-d917-4650-9829-fbdc6cc32944",
   "metadata": {},
   "outputs": [
    {
     "data": {
      "text/plain": [
       "Names\n",
       "HP           116\n",
       "Lenovo       106\n",
       "ASUS          91\n",
       "Acer          70\n",
       "MSI           48\n",
       "DELL          41\n",
       "Apple         23\n",
       "Infinix       13\n",
       "MICROSOFT     10\n",
       "SAMSUNG        8\n",
       "CHUWI          4\n",
       "Colorful       3\n",
       "Ultimus        3\n",
       "Thomson        2\n",
       "ZEBRONICS      2\n",
       "WINGS          2\n",
       "Avita          2\n",
       "GIGABYTE       1\n",
       "Primebook      1\n",
       "FUTOPIA        1\n",
       "AXL            1\n",
       "Name: count, dtype: int64"
      ]
     },
     "execution_count": 108,
     "metadata": {},
     "output_type": "execute_result"
    }
   ],
   "source": [
    "df['Names'].apply(lambda x:x.split(' ')[0]).value_counts()#Every Product starts from Brand Name each Name holds value"
   ]
  },
  {
   "cell_type": "code",
   "execution_count": 109,
   "id": "a702d2a4-2445-4759-96a2-03004c5cc43a",
   "metadata": {},
   "outputs": [],
   "source": [
    "df['BRAND']=df['Names'].apply(lambda x:x.split(' ')[0])"
   ]
  },
  {
   "cell_type": "markdown",
   "id": "bc087a34-2c2a-4991-830e-11e32d3cb1cd",
   "metadata": {},
   "source": [
    "##### **Brands that have less products/Laptops are considered under \"Others\"**"
   ]
  },
  {
   "cell_type": "code",
   "execution_count": 111,
   "id": "50f1e628-53e5-46bb-a6d0-74f40a96eaf0",
   "metadata": {},
   "outputs": [],
   "source": [
    "other=df.groupby(['BRAND']).agg(count=('BRAND','count')).sort_values(by='count',ascending=True).reset_index().head(11)\n",
    "other=list(other.BRAND)\n"
   ]
  },
  {
   "cell_type": "code",
   "execution_count": 112,
   "id": "263b20f7-eeae-478f-9ce6-8ca4ad9e32de",
   "metadata": {},
   "outputs": [],
   "source": [
    "df['Brand_Names'] = df['Names'].apply(lambda x: 'others' if x.split(' ')[0] in other else x.split(' ')[0])\n"
   ]
  },
  {
   "cell_type": "code",
   "execution_count": 113,
   "id": "175afcc7-7ca9-4d2e-bdb7-63ce7d1509a3",
   "metadata": {},
   "outputs": [
    {
     "data": {
      "text/plain": [
       "array(['Acer', 'HP', 'MSI', 'Lenovo', 'ASUS', 'others', 'DELL',\n",
       "       'MICROSOFT', 'Infinix', 'Apple', 'SAMSUNG'], dtype=object)"
      ]
     },
     "execution_count": 113,
     "metadata": {},
     "output_type": "execute_result"
    }
   ],
   "source": [
    "df['Brand_Names'].unique()"
   ]
  },
  {
   "cell_type": "code",
   "execution_count": 114,
   "id": "1dd078b3-0a0a-4649-a86d-46927ea99c90",
   "metadata": {},
   "outputs": [],
   "source": [
    "# pd.get_dummies(df['BRAND']).astype(int)\n",
    "dummies = pd.get_dummies(df['Brand_Names']).astype(int)\n",
    "df = df.join(dummies)\n"
   ]
  },
  {
   "cell_type": "markdown",
   "id": "744c43b3-2499-4875-abb9-35ff0cb7b07f",
   "metadata": {},
   "source": [
    "#### 15) _'Screen Size_"
   ]
  },
  {
   "cell_type": "code",
   "execution_count": 116,
   "id": "2afc691b-6502-4f5c-9f6f-2e34b8a5f290",
   "metadata": {},
   "outputs": [
    {
     "data": {
      "text/plain": [
       "0"
      ]
     },
     "execution_count": 116,
     "metadata": {},
     "output_type": "execute_result"
    }
   ],
   "source": [
    "df['Screen Size'].isnull().sum()"
   ]
  },
  {
   "cell_type": "code",
   "execution_count": 117,
   "id": "0874b971-5455-4e9c-82e9-e3b5fe9fae76",
   "metadata": {},
   "outputs": [
    {
     "data": {
      "text/plain": [
       "250    40.64 cm (16 inch)\n",
       "Name: Screen Size, dtype: object"
      ]
     },
     "execution_count": 117,
     "metadata": {},
     "output_type": "execute_result"
    }
   ],
   "source": [
    "df['Screen Size'].sample()#we will deal with inch as it easy to take from User"
   ]
  },
  {
   "cell_type": "code",
   "execution_count": 118,
   "id": "baa6028d-0043-4573-beea-ec93b9766dd2",
   "metadata": {},
   "outputs": [],
   "source": [
    "df['Screen Size (Inch)']=df['Screen Size'].apply(lambda x: x.split('(')[1].split(')')[0] if '(' in x else None)\n"
   ]
  },
  {
   "cell_type": "code",
   "execution_count": 119,
   "id": "cb7c1ad7-e5e7-4e7c-979b-24a66eea2ea5",
   "metadata": {},
   "outputs": [],
   "source": [
    "df['Screen Size (Inch)']=df['Screen Size (Inch)'].apply(lambda x:x.split(' ')[0]).astype(float)"
   ]
  },
  {
   "cell_type": "code",
   "execution_count": 120,
   "id": "a9cc5d93-d759-41ed-81aa-5d724bd6a037",
   "metadata": {},
   "outputs": [
    {
     "data": {
      "text/plain": [
       "650    15.6\n",
       "Name: Screen Size (Inch), dtype: float64"
      ]
     },
     "execution_count": 120,
     "metadata": {},
     "output_type": "execute_result"
    }
   ],
   "source": [
    "df['Screen Size (Inch)'].sample() #Inches"
   ]
  },
  {
   "cell_type": "markdown",
   "id": "b90a0ca6-e937-4fa7-bf84-2f93ad67ab90",
   "metadata": {},
   "source": [
    "#### 16) _Storage_"
   ]
  },
  {
   "cell_type": "code",
   "execution_count": 122,
   "id": "50ebe1ea-0ddc-4ff9-bf67-cf09eebaa2b5",
   "metadata": {},
   "outputs": [
    {
     "data": {
      "text/plain": [
       "Storage Type\n",
       "SSD       529\n",
       "eMMC        7\n",
       "HDD         7\n",
       "Hybrid      5\n",
       "Name: count, dtype: int64"
      ]
     },
     "execution_count": 122,
     "metadata": {},
     "output_type": "execute_result"
    }
   ],
   "source": [
    "df['Storage Type'].value_counts()"
   ]
  },
  {
   "cell_type": "code",
   "execution_count": 123,
   "id": "f8160255-4ff5-4713-b69f-3853badadc0e",
   "metadata": {},
   "outputs": [],
   "source": [
    "Storage=pd.get_dummies(df['Storage Type'],prefix='drive').astype(int)"
   ]
  },
  {
   "cell_type": "code",
   "execution_count": 124,
   "id": "25c16b61-0885-4cf1-b62e-0a2edc0bf8b7",
   "metadata": {},
   "outputs": [],
   "source": [
    "df=df.join(Storage)"
   ]
  },
  {
   "cell_type": "markdown",
   "id": "af05fad1-3c38-4ad0-9657-c5fe2af974dd",
   "metadata": {},
   "source": [
    "#### 17) _Processor Generation_"
   ]
  },
  {
   "cell_type": "code",
   "execution_count": 126,
   "id": "51ec6eb4-375c-41e9-80e4-3a13d68e6397",
   "metadata": {},
   "outputs": [
    {
     "data": {
      "text/plain": [
       "array([nan, '12th Gen', '13th Gen', '11th Gen', '10th Gen', '7th Gen',\n",
       "       '14th Gen', '5th Gen', '4th Gen', '1st Gen', '3rd Gen', '8th Gen',\n",
       "       '9th Gen'], dtype=object)"
      ]
     },
     "execution_count": 126,
     "metadata": {},
     "output_type": "execute_result"
    }
   ],
   "source": [
    "df['Processor Generation'].unique() #these are ONLY Intel Generation we might delete this column afterwards"
   ]
  },
  {
   "cell_type": "code",
   "execution_count": 127,
   "id": "8f5f846e-e665-485a-b8f4-f7b4c614eedd",
   "metadata": {},
   "outputs": [],
   "source": [
    "pg=df['Processor Generation'].astype(str).apply(lambda x : ''.join(i if i.isdigit() else ' ' for i in x).split())"
   ]
  },
  {
   "cell_type": "code",
   "execution_count": 128,
   "id": "0a46f82e-bda9-45bd-9ada-435daec47e3d",
   "metadata": {},
   "outputs": [],
   "source": [
    "df['Processor Generation_intel']=[i[0] if len(i)>=1 else 0 for i in pg]"
   ]
  },
  {
   "cell_type": "code",
   "execution_count": 129,
   "id": "b6e7667b-0456-4944-9325-7053079ca2c2",
   "metadata": {},
   "outputs": [],
   "source": [
    "df['Processor Generation_intel']=df['Processor Generation_intel'].astype(int)"
   ]
  },
  {
   "cell_type": "code",
   "execution_count": 130,
   "id": "6e776ad0-3dcd-43e4-9898-33fa380235cf",
   "metadata": {
    "scrolled": true
   },
   "outputs": [
    {
     "data": {
      "text/plain": [
       "0       0\n",
       "1      12\n",
       "2       0\n",
       "3      12\n",
       "4      12\n",
       "       ..\n",
       "950    12\n",
       "951    12\n",
       "955    12\n",
       "958     0\n",
       "959    13\n",
       "Name: Processor Generation_intel, Length: 548, dtype: int32"
      ]
     },
     "execution_count": 130,
     "metadata": {},
     "output_type": "execute_result"
    }
   ],
   "source": [
    "df['Processor Generation_intel']"
   ]
  },
  {
   "cell_type": "markdown",
   "id": "db3c3e4b-cfe3-4fb8-b85a-0eaa925c5899",
   "metadata": {},
   "source": [
    "#### 18) _Dedicated Graphic Memory Capacity_"
   ]
  },
  {
   "cell_type": "code",
   "execution_count": 132,
   "id": "25025569-fa74-40ff-b955-dd48b57bbb26",
   "metadata": {},
   "outputs": [
    {
     "data": {
      "text/plain": [
       "Dedicated Graphic Memory Capacity\n",
       "4 GB      60\n",
       "6 GB      40\n",
       "8 GB      23\n",
       "2 GB       3\n",
       "1 GB       2\n",
       "512 MB     1\n",
       "128 MB     1\n",
       "12 GB      1\n",
       "Name: count, dtype: int64"
      ]
     },
     "execution_count": 132,
     "metadata": {},
     "output_type": "execute_result"
    }
   ],
   "source": [
    "df['Dedicated Graphic Memory Capacity'].value_counts() # Mostly they dont offer Graphic memory Capacity which is why it makes Product Expensive "
   ]
  },
  {
   "cell_type": "code",
   "execution_count": 133,
   "id": "c4e987b0-9ae9-44f8-b2f0-660759d36db5",
   "metadata": {},
   "outputs": [
    {
     "data": {
      "text/plain": [
       "901    MSI\n",
       "Name: BRAND, dtype: object"
      ]
     },
     "execution_count": 133,
     "metadata": {},
     "output_type": "execute_result"
    }
   ],
   "source": [
    "df[df['Dedicated Graphic Memory Capacity']=='12 GB']['BRAND']"
   ]
  },
  {
   "cell_type": "code",
   "execution_count": 134,
   "id": "7b452c72-69eb-4cc0-8f89-27999253fe5e",
   "metadata": {},
   "outputs": [
    {
     "data": {
      "text/plain": [
       "array([nan, '4 GB', '8 GB', '6 GB', '1 GB', '2 GB', '512 MB', '128 MB',\n",
       "       '12 GB'], dtype=object)"
      ]
     },
     "execution_count": 134,
     "metadata": {},
     "output_type": "execute_result"
    }
   ],
   "source": [
    "df['Dedicated Graphic Memory Capacity'].unique()"
   ]
  },
  {
   "cell_type": "code",
   "execution_count": 135,
   "id": "21eb0b46-a24f-4725-90da-d8bb4c718e0f",
   "metadata": {},
   "outputs": [],
   "source": [
    "df['Dedicated Graphic Memory Capacity'].replace(['512 MB', '128 MB',np.nan],['0.512 GB','0.128 GB','0 GB'],inplace=True)#All the data in GB unit"
   ]
  },
  {
   "cell_type": "code",
   "execution_count": 136,
   "id": "79b1af61-5532-4177-a0aa-a17e99130813",
   "metadata": {},
   "outputs": [],
   "source": [
    "df['Dedicated Graphic Memory Capacity (GB)']=df['Dedicated Graphic Memory Capacity'].apply(lambda x : x.split(' ')[0]).astype(float)"
   ]
  },
  {
   "cell_type": "code",
   "execution_count": 137,
   "id": "0f582bb5-4667-45ce-bc57-814e2cef8aa3",
   "metadata": {},
   "outputs": [
    {
     "data": {
      "text/plain": [
       "Dedicated Graphic Memory Capacity (GB)\n",
       "0.000     417\n",
       "4.000      60\n",
       "6.000      40\n",
       "8.000      23\n",
       "2.000       3\n",
       "1.000       2\n",
       "0.512       1\n",
       "0.128       1\n",
       "12.000      1\n",
       "Name: count, dtype: int64"
      ]
     },
     "execution_count": 137,
     "metadata": {},
     "output_type": "execute_result"
    }
   ],
   "source": [
    "df['Dedicated Graphic Memory Capacity (GB)'].value_counts()"
   ]
  },
  {
   "cell_type": "markdown",
   "id": "c18c475e-0641-4fd4-bfdd-585b0b6df5da",
   "metadata": {},
   "source": [
    "#### 19) _Processor Brand_"
   ]
  },
  {
   "cell_type": "code",
   "execution_count": 139,
   "id": "ea885f91-0630-487c-80ea-4b9ef15d1053",
   "metadata": {},
   "outputs": [
    {
     "data": {
      "text/plain": [
       "0"
      ]
     },
     "execution_count": 139,
     "metadata": {},
     "output_type": "execute_result"
    }
   ],
   "source": [
    "df['Processor Brand'].isna().sum()"
   ]
  },
  {
   "cell_type": "code",
   "execution_count": 140,
   "id": "4f7e6fad-d1d6-44c1-97fb-a7030345d70e",
   "metadata": {},
   "outputs": [
    {
     "data": {
      "text/plain": [
       "array(['Intel', 'MediaTek', 'Qualcomm', 'AMD', 'Apple'], dtype=object)"
      ]
     },
     "execution_count": 140,
     "metadata": {},
     "output_type": "execute_result"
    }
   ],
   "source": [
    "df['Processor Brand'].unique()"
   ]
  },
  {
   "cell_type": "code",
   "execution_count": 141,
   "id": "5e87a9bb-d06d-4dfa-95da-f281c57d7e69",
   "metadata": {},
   "outputs": [],
   "source": [
    "Processor=pd.get_dummies(df['Processor Brand'],prefix='Processor').astype(int)"
   ]
  },
  {
   "cell_type": "code",
   "execution_count": 142,
   "id": "3fcba605-431e-46b2-8cb5-97cef6873255",
   "metadata": {},
   "outputs": [
    {
     "data": {
      "text/plain": [
       "Processor Brand\n",
       "Intel       372\n",
       "AMD         142\n",
       "Apple        23\n",
       "Qualcomm      9\n",
       "MediaTek      2\n",
       "Name: count, dtype: int64"
      ]
     },
     "execution_count": 142,
     "metadata": {},
     "output_type": "execute_result"
    }
   ],
   "source": [
    "df['Processor Brand'].value_counts()"
   ]
  },
  {
   "cell_type": "code",
   "execution_count": 143,
   "id": "3a0f4986-2df1-4a69-b6af-a5db1b0bbdfa",
   "metadata": {},
   "outputs": [],
   "source": [
    "df=df.join(Processor)\n"
   ]
  },
  {
   "cell_type": "markdown",
   "id": "2fbd80ef-74e8-49c5-8690-47f2b9bd3c8d",
   "metadata": {},
   "source": [
    "#### 20) _Apple chip_"
   ]
  },
  {
   "cell_type": "code",
   "execution_count": 145,
   "id": "198ce3d3-a762-4ae0-98d5-adff6d3fa115",
   "metadata": {},
   "outputs": [
    {
     "data": {
      "text/plain": [
       "array(['M3', 'M2', 'M1', 'M3 Pro', 'M3 Max', 'M4 Max', 'M4 Pro', 'M4'],\n",
       "      dtype=object)"
      ]
     },
     "execution_count": 145,
     "metadata": {},
     "output_type": "execute_result"
    }
   ],
   "source": [
    "df[df['Processor Brand']=='Apple']['Processor Name'].unique()# Each variant holds significant growth in Price and ingeneral in performance like Generation in Intel"
   ]
  },
  {
   "cell_type": "code",
   "execution_count": 146,
   "id": "70c862a9-bde8-4dfe-8bf6-45602be4ec6d",
   "metadata": {},
   "outputs": [],
   "source": [
    "def extractt(x):\n",
    "    number=''.join(i if i.isdigit() else ' ' for i in x)\n",
    "    sep=number.split()\n",
    "    if len(sep)>=2:\n",
    "        return sep[0]+'.'+sep[1]\n",
    "\n",
    "    else:\n",
    "        return sep[0]"
   ]
  },
  {
   "cell_type": "code",
   "execution_count": 147,
   "id": "6575c0d0-3731-4721-b79e-e5b83f4ea24d",
   "metadata": {
    "scrolled": true
   },
   "outputs": [
    {
     "data": {
      "text/plain": [
       "118    3.00\n",
       "161    2.00\n",
       "358    1.00\n",
       "565    3.00\n",
       "568    3.50\n",
       "575    3.00\n",
       "578    3.50\n",
       "591    3.00\n",
       "638    3.00\n",
       "644    3.00\n",
       "651    3.75\n",
       "654    3.75\n",
       "661    3.50\n",
       "674    3.50\n",
       "681    3.75\n",
       "725    4.75\n",
       "729    4.50\n",
       "731    3.00\n",
       "744    4.00\n",
       "768    4.00\n",
       "774    3.00\n",
       "781    3.00\n",
       "935    3.00\n",
       "Name: Processor Name, dtype: float64"
      ]
     },
     "execution_count": 147,
     "metadata": {},
     "output_type": "execute_result"
    }
   ],
   "source": [
    "df[df['Processor Brand']=='Apple']['Processor Name'].replace(['M3 Pro','M3 Max','M4 Pro','M4 Max'],['3.5','3.75','4.5','4.75']).apply(extractt).astype(float)"
   ]
  },
  {
   "cell_type": "code",
   "execution_count": 148,
   "id": "19b61f5b-c976-4fc9-9afd-ecee15eccc3c",
   "metadata": {},
   "outputs": [],
   "source": [
    "df['Apple_chips']=df[df['Processor Brand']=='Apple']['Processor Name'].replace(['M3 Pro','M3 Max','M4 Pro','M4 Max'],['3.5','3.75','4.5','4.75']).apply(extractt).astype(float)"
   ]
  },
  {
   "cell_type": "code",
   "execution_count": 149,
   "id": "ad693db7-ecb6-4b25-8b90-1ce5803cf18e",
   "metadata": {},
   "outputs": [],
   "source": [
    "df['Apple_chips'].fillna(value=0,inplace=True)"
   ]
  },
  {
   "cell_type": "code",
   "execution_count": null,
   "id": "b1233aee-c1ad-4ba9-a252-611073a66d2d",
   "metadata": {},
   "outputs": [],
   "source": []
  },
  {
   "cell_type": "markdown",
   "id": "cf02c007-0248-4be4-8661-66eb02f76004",
   "metadata": {},
   "source": [
    "#### 21) _Variant processor_"
   ]
  },
  {
   "cell_type": "code",
   "execution_count": 151,
   "id": "6d48f3f7-59ae-4151-87c3-3ba0c3d78459",
   "metadata": {},
   "outputs": [
    {
     "data": {
      "text/plain": [
       "array(['N305', '1235U', nan, '12450H', '1215U', 'N4020', '1334U',\n",
       "       '13980HX', '13500H', 'X1P 42 100', '7320U', '13420H', '125H',\n",
       "       'X1E 78 100', '5700U', '5500U', '7535HS', '7730U', '7520U',\n",
       "       '1315U', '7435HS', '1305U', '1115G4', '7735HS', '5625U', '1255U',\n",
       "       '12650H', '7840HS', '7430U', '12 gen', '7330U', '5300U', '11260H',\n",
       "       '11400H', '7120U', '12500H', '7530U', '125U', '1355U', '3500u',\n",
       "       '155H', '1035G7', 'N4500', '13620H', '1335U', '13700H', '12450HX',\n",
       "       '13700HX', '7235HS', 'MT8788', '120U', '4500u',\n",
       "       '1315U Turbo Boost with Finger Print', '1340P',\n",
       "       'AMD Ryzen 5 5500U', 'Intel Core i3-1215U', '12700H', '5600H',\n",
       "       '1165G7', '1005G1', '7505', '10210U', '1360P', 'Apple M1 Chip',\n",
       "       '150U', '14700HX', 'Core i5', 'Upto 2.8GHz', 'Core™ i3-1115G4',\n",
       "       '3250U', '185H', '8845HS', '1260P', '7535U',\n",
       "       '13th Generation Intel® Core™ i7-1355U Processor (12MB Cache, up to 5.00 GHz)',\n",
       "       '1340p', '13650HX', '4417U', '3050U', 'AMD R5-5500U', 'N100',\n",
       "       '10110U', 'N4120', '1155G7', '14650HX', '1135G7', '3500U', '5600U',\n",
       "       '13900H', '1220P', 'Neo', '11800H', 'I7-1355U', 'HX 370', '4500U',\n",
       "       '1335U with 3 year Warranty', '8265U', '5800H', '1035G1',\n",
       "       'AMD R5-4500U', 'AMD Ryzen™ 5 5625U', '6800H', 'AMD R5-5600H',\n",
       "       '5500H', '7840U', '11300H', '13450HX', '1240P', '2500U',\n",
       "       'AMD Athlon™ Silver 3050U', '1125G4', '1065G7', 'AMD R3-3250U',\n",
       "       'AMD R7-5800H', 'Ryzen 3 5300U', '14900HX', '1213U', 'N5030',\n",
       "       '7735U'], dtype=object)"
      ]
     },
     "execution_count": 151,
     "metadata": {},
     "output_type": "execute_result"
    }
   ],
   "source": [
    "df['Processor Variant'].unique()"
   ]
  },
  {
   "cell_type": "code",
   "execution_count": 152,
   "id": "6e103b69-2c81-4614-88fa-e8eb742cdc31",
   "metadata": {},
   "outputs": [],
   "source": [
    "# H-series is for HIGH performance, U-series is Balanced & N-series is Entry level\n",
    "def extract_variant(x):\n",
    "    x = str(x)\n",
    "    if 'U' in x:\n",
    "        return 2\n",
    "    elif 'H'in x or 'HX'in x or'HS'in x:\n",
    "        return 3\n",
    "    elif 'N' in x:\n",
    "        return 1\n",
    "    else:\n",
    "        return 0"
   ]
  },
  {
   "cell_type": "code",
   "execution_count": 153,
   "id": "b1ab784b-6177-4bfc-9fa9-00928235b107",
   "metadata": {},
   "outputs": [],
   "source": [
    "df['Processor_variant_new']=df['Processor Variant'].astype(str).apply(lambda x : ''.join(i if i.isalpha() else ' ' for i in x).split()).apply(extract_variant)"
   ]
  },
  {
   "cell_type": "code",
   "execution_count": 154,
   "id": "5d004dbb-973a-4979-8ad5-0f80da0bc42e",
   "metadata": {},
   "outputs": [
    {
     "data": {
      "text/plain": [
       "array([1, 2, 0, 3], dtype=int64)"
      ]
     },
     "execution_count": 154,
     "metadata": {},
     "output_type": "execute_result"
    }
   ],
   "source": [
    "df['Processor_variant_new'].unique() #Transformed"
   ]
  },
  {
   "cell_type": "code",
   "execution_count": null,
   "id": "675447c0-366a-47e5-ac89-5c777c27b42c",
   "metadata": {},
   "outputs": [],
   "source": []
  },
  {
   "cell_type": "code",
   "execution_count": null,
   "id": "22495f8a-542d-4601-b0ce-2db314b30de5",
   "metadata": {},
   "outputs": [],
   "source": []
  },
  {
   "cell_type": "markdown",
   "id": "4bffac2e-75e6-4d3f-8928-f38a7e182f82",
   "metadata": {},
   "source": [
    "#### 22) _Expandable SSD Capacity_"
   ]
  },
  {
   "cell_type": "code",
   "execution_count": 156,
   "id": "1acdb06e-20dc-412b-a34b-b9e3ab84ff02",
   "metadata": {},
   "outputs": [
    {
     "data": {
      "text/plain": [
       "Expandable SSD Capacity\n",
       "1 TB      14\n",
       "2 TB       8\n",
       "512 GB     2\n",
       "4 TB       1\n",
       "6 TB       1\n",
       "Name: count, dtype: int64"
      ]
     },
     "execution_count": 156,
     "metadata": {},
     "output_type": "execute_result"
    }
   ],
   "source": [
    "df['Expandable SSD Capacity'].value_counts()#90% null still makes big differnce in Price"
   ]
  },
  {
   "cell_type": "code",
   "execution_count": 157,
   "id": "83018323-3bf5-4a42-9c16-f8fd458cb336",
   "metadata": {},
   "outputs": [],
   "source": [
    "df['Expandable SSD Capacity'].fillna(value='0 GB',inplace=True)\n",
    "df['Expandable SSD Capacity (GB)']=df['Expandable SSD Capacity'].astype(str).apply(lambda x: x.split(' ')[0]).replace(['1','2','4','6'],['1000','2000','4000','6000'])"
   ]
  },
  {
   "cell_type": "code",
   "execution_count": 158,
   "id": "be08fbeb-7708-413c-83c9-cbcfef31fd34",
   "metadata": {},
   "outputs": [],
   "source": [
    "df['Expandable SSD Capacity (GB)']=df['Expandable SSD Capacity (GB)'].astype(int)"
   ]
  },
  {
   "cell_type": "code",
   "execution_count": null,
   "id": "8e14967a-3d08-46a2-bccd-50fbeaa0b14b",
   "metadata": {},
   "outputs": [],
   "source": []
  },
  {
   "cell_type": "markdown",
   "id": "09a9918c-845c-4b9c-bbe5-69863a370819",
   "metadata": {},
   "source": [
    "#### 23) _Graphic Processor Companies_"
   ]
  },
  {
   "cell_type": "code",
   "execution_count": 160,
   "id": "f9e8508a-3a65-47bf-ae8e-573dbe75a98f",
   "metadata": {},
   "outputs": [
    {
     "data": {
      "text/plain": [
       "array(['Intel Integrated UHD', 'Intel Integrated Intel Graphics',\n",
       "       'MediaTek Integrated ARM Mali G72 MP3 Graphics',\n",
       "       'NVIDIA GeForce RTX 2050',\n",
       "       'Intel Integrated Integrated Intel® UHD Graphics',\n",
       "       'NVIDIA GeForce RTX 4060', 'Intel Integrated Iris Xe', nan,\n",
       "       'AMD Radeon AMD', 'Intel Integrated Arc Graphics',\n",
       "       'Intel Integrated Integrated', 'NVIDIA GeForce RTX 3050',\n",
       "       'Intel Integrated Arc', 'AMD Radeon AMD RADEON',\n",
       "       'AMD Radeon AMD Radeon™ Graphics', 'NA Intel',\n",
       "       'NVIDIA GeForce RTX 4050', 'AMD Radeon 610M', 'Intel Integrated',\n",
       "       'Intel Integrated AMD', 'Intel Integrated UHD Graphics',\n",
       "       'Intel Integrated Graphics', 'AMD Radeon Radeon',\n",
       "       'Intel Integrated Not Available',\n",
       "       'MediaTek Integrated ARM Mali G72',\n",
       "       'Intel Integrated Intel IrisXe Graphics',\n",
       "       'Intel Integrated NVIDIA', 'Intel Integrated Intel UHD Graphics',\n",
       "       'Intel Integrated Intel Hd', 'AMD Radeon UHD',\n",
       "       'AMD Radeon Radeon Graphics',\n",
       "       'Qualcomm Snapdragon X Elite - X1E80100 - Qualcomm Adreno GPU (12 Core)',\n",
       "       'AMD Radeon Ryzen 3 Quad Core',\n",
       "       'Intel Integrated UHD Graphics 600', 'Intel Integrated Intel Arc',\n",
       "       'Intel Integrated Intel® UHD Graphics', 'AMD Radeon 780M',\n",
       "       'Qualcomm Snapdragon X Elite - X1P64100 - Qualcomm Adreno GPU (10 Core)',\n",
       "       'NVIDIA Quadro T550', 'AMD Radeon AMD Radeon 610M Graphics',\n",
       "       'Intel Integrated Intel® Iris Xe Graphics',\n",
       "       'Intel Integrated Intel Iris Xe Graphics',\n",
       "       'Intel Integrated Intel HD', 'Intel Integrated Intel Integrated',\n",
       "       'NVIDIA GeForce RTX 4070', 'Intel Integrated Iris Plus',\n",
       "       'Intel Integrated HD 610', 'Intel Integrated FHD Graphics',\n",
       "       'NVIDIA GeForce MX550', 'AMD Radeon Vega 8 Graphics',\n",
       "       'NVIDIA GeForce RTX 3050A', 'AMD Radeon AMD Radeon Graphics',\n",
       "       'AMD Radeon', 'AMD Radeon RX 6500M',\n",
       "       'AMD Radeon AMD Radeon Integrated',\n",
       "       'Intel Integrated Iris Xe Graphics', 'NVIDIA GeForce RTX 3070',\n",
       "       'Intel Integrated UHD 600', 'NVIDIA GeForce RTX 3060',\n",
       "       'AMD Radeon Vega 8', 'NVIDIA GeForce GTX 1650',\n",
       "       'NVIDIA GeForce RTX RTX 3050 4GB Graphics',\n",
       "       'Intel Integrated Intel Iris Graphics', 'AMD Radeon RADEON',\n",
       "       'NVIDIA GeForce RTX NVIDIA® GeForce RTX™ 4050',\n",
       "       'Intel Integrated 96EU Iris Xe', 'AMD Radeon R3',\n",
       "       'NVIDIA GeForce RTX 3050 Ti',\n",
       "       'AMD Radeon AMD Radeon 780M Graphics', 'NVIDIA GeForce RTX NVIDIA',\n",
       "       'AMD Radeon VEGA 8', 'NVIDIA GeForce MX350',\n",
       "       'Intel Integrated INTEL INTEGRATED UHD', 'AMD Radeon 15s',\n",
       "       'AMD Radeon RX 6600M', 'AMD Radeon AMD Ryzen 3',\n",
       "       'Intel Integrated INTEL UHD', 'Intel Integrated UHD 605',\n",
       "       'NA Intel UHD Graphics', 'NVIDIA GeForce RTX 4080',\n",
       "       'AMD Radeon Vega 6', 'Intel Integrated i3-1215U',\n",
       "       'NA Integerated Graphics', 'NVIDIA GeForce RTX GEFORCE RTX 3050',\n",
       "       'NVIDIA GeForce RTX 3050Ti'], dtype=object)"
      ]
     },
     "execution_count": 160,
     "metadata": {},
     "output_type": "execute_result"
    }
   ],
   "source": [
    "df['Graphic Processor'].unique() #we will consider only Brand Names for GPU which can be easily fetch as it is at the Start especially NVIDIA"
   ]
  },
  {
   "cell_type": "code",
   "execution_count": 161,
   "id": "1b6ba912-77ee-4aa4-a6a3-b2493f006e52",
   "metadata": {},
   "outputs": [
    {
     "data": {
      "text/html": [
       "<div>\n",
       "<style scoped>\n",
       "    .dataframe tbody tr th:only-of-type {\n",
       "        vertical-align: middle;\n",
       "    }\n",
       "\n",
       "    .dataframe tbody tr th {\n",
       "        vertical-align: top;\n",
       "    }\n",
       "\n",
       "    .dataframe thead th {\n",
       "        text-align: right;\n",
       "    }\n",
       "</style>\n",
       "<table border=\"1\" class=\"dataframe\">\n",
       "  <thead>\n",
       "    <tr style=\"text-align: right;\">\n",
       "      <th></th>\n",
       "      <th>Covered in Warranty</th>\n",
       "      <th>Processor Variant</th>\n",
       "      <th>Finger Print Sensor</th>\n",
       "      <th>MS Office Provided</th>\n",
       "      <th>Weight</th>\n",
       "      <th>Processor Generation</th>\n",
       "      <th>Screen Resolution</th>\n",
       "      <th>Suitable For</th>\n",
       "      <th>Backlit Keyboard</th>\n",
       "      <th>Touchscreen</th>\n",
       "      <th>Processor Name</th>\n",
       "      <th>RAM Type</th>\n",
       "      <th>Screen Type</th>\n",
       "      <th>Domestic Warranty</th>\n",
       "      <th>Series</th>\n",
       "      <th>Operating System</th>\n",
       "      <th>Model Number</th>\n",
       "      <th>Screen Size</th>\n",
       "      <th>USB Port</th>\n",
       "      <th>SSD</th>\n",
       "      <th>Processor Brand</th>\n",
       "      <th>Storage Type</th>\n",
       "      <th>Type</th>\n",
       "      <th>SSD Capacity</th>\n",
       "      <th>Warranty Summary</th>\n",
       "      <th>Model Name</th>\n",
       "      <th>RAM</th>\n",
       "      <th>Graphic Processor</th>\n",
       "      <th>Dimensions</th>\n",
       "      <th>OS Architecture</th>\n",
       "      <th>Face Recognition</th>\n",
       "      <th>Dedicated Graphic Memory Type</th>\n",
       "      <th>Dedicated Graphic Memory Capacity</th>\n",
       "      <th>Expandable Memory</th>\n",
       "      <th>Expandable SSD Capacity</th>\n",
       "      <th>Supported Operating System</th>\n",
       "      <th>Number of Cores</th>\n",
       "      <th>RAM Frequency</th>\n",
       "      <th>Chipset</th>\n",
       "      <th>Included Software</th>\n",
       "      <th>System Architecture</th>\n",
       "      <th>Other Accessories</th>\n",
       "      <th>HDD Capacity</th>\n",
       "      <th>Rating</th>\n",
       "      <th>Names</th>\n",
       "      <th>Price</th>\n",
       "      <th>RAM (GB)</th>\n",
       "      <th>RAM Type Rank</th>\n",
       "      <th>Domestic Warranty_in_year</th>\n",
       "      <th>SSD (GB)</th>\n",
       "      <th>HDD (GB)</th>\n",
       "      <th>Expandable Memory (GB)</th>\n",
       "      <th>BRAND</th>\n",
       "      <th>Brand_Names</th>\n",
       "      <th>ASUS</th>\n",
       "      <th>Acer</th>\n",
       "      <th>Apple</th>\n",
       "      <th>DELL</th>\n",
       "      <th>HP</th>\n",
       "      <th>Infinix</th>\n",
       "      <th>Lenovo</th>\n",
       "      <th>MICROSOFT</th>\n",
       "      <th>MSI</th>\n",
       "      <th>SAMSUNG</th>\n",
       "      <th>others</th>\n",
       "      <th>Screen Size (Inch)</th>\n",
       "      <th>drive_HDD</th>\n",
       "      <th>drive_Hybrid</th>\n",
       "      <th>drive_SSD</th>\n",
       "      <th>drive_eMMC</th>\n",
       "      <th>Processor Generation_intel</th>\n",
       "      <th>Dedicated Graphic Memory Capacity (GB)</th>\n",
       "      <th>Processor_AMD</th>\n",
       "      <th>Processor_Apple</th>\n",
       "      <th>Processor_Intel</th>\n",
       "      <th>Processor_MediaTek</th>\n",
       "      <th>Processor_Qualcomm</th>\n",
       "      <th>Apple_chips</th>\n",
       "      <th>Processor_variant_new</th>\n",
       "      <th>Expandable SSD Capacity (GB)</th>\n",
       "    </tr>\n",
       "  </thead>\n",
       "  <tbody>\n",
       "    <tr>\n",
       "      <th>55</th>\n",
       "      <td>Manufacturing Defects</td>\n",
       "      <td>NaN</td>\n",
       "      <td>0</td>\n",
       "      <td>0</td>\n",
       "      <td>NaN</td>\n",
       "      <td>NaN</td>\n",
       "      <td>Full HD (1080p) pixel</td>\n",
       "      <td>Entertainment</td>\n",
       "      <td>0</td>\n",
       "      <td>0</td>\n",
       "      <td>Celeron Dual Core</td>\n",
       "      <td>DDR4</td>\n",
       "      <td>NaN</td>\n",
       "      <td>0</td>\n",
       "      <td>NaN</td>\n",
       "      <td>Windows 11 Pro</td>\n",
       "      <td>5470 ULTRA SLIM</td>\n",
       "      <td>35.56 cm (14 inch)</td>\n",
       "      <td>NaN</td>\n",
       "      <td>Yes</td>\n",
       "      <td>Intel</td>\n",
       "      <td>SSD</td>\n",
       "      <td>Thin and Light Laptop</td>\n",
       "      <td>256 GB</td>\n",
       "      <td>1 Year</td>\n",
       "      <td>DELL ???? 5470 (ULTRA SLIM)</td>\n",
       "      <td>4 GB</td>\n",
       "      <td>NA Intel</td>\n",
       "      <td>NaN</td>\n",
       "      <td>NaN</td>\n",
       "      <td>0</td>\n",
       "      <td>NaN</td>\n",
       "      <td>0 GB</td>\n",
       "      <td>NaN</td>\n",
       "      <td>0 GB</td>\n",
       "      <td>NaN</td>\n",
       "      <td>2</td>\n",
       "      <td>NaN</td>\n",
       "      <td>NaN</td>\n",
       "      <td>NaN</td>\n",
       "      <td>NaN</td>\n",
       "      <td>NaN</td>\n",
       "      <td>0 GB</td>\n",
       "      <td>NaN</td>\n",
       "      <td>DELL Intel Celeron Dual Core - (4 GB/256 GB SS...</td>\n",
       "      <td>18890</td>\n",
       "      <td>4</td>\n",
       "      <td>0</td>\n",
       "      <td>0</td>\n",
       "      <td>256</td>\n",
       "      <td>0</td>\n",
       "      <td>0</td>\n",
       "      <td>DELL</td>\n",
       "      <td>DELL</td>\n",
       "      <td>0</td>\n",
       "      <td>0</td>\n",
       "      <td>0</td>\n",
       "      <td>1</td>\n",
       "      <td>0</td>\n",
       "      <td>0</td>\n",
       "      <td>0</td>\n",
       "      <td>0</td>\n",
       "      <td>0</td>\n",
       "      <td>0</td>\n",
       "      <td>0</td>\n",
       "      <td>14.0</td>\n",
       "      <td>0</td>\n",
       "      <td>0</td>\n",
       "      <td>1</td>\n",
       "      <td>0</td>\n",
       "      <td>0</td>\n",
       "      <td>0.0</td>\n",
       "      <td>0</td>\n",
       "      <td>0</td>\n",
       "      <td>1</td>\n",
       "      <td>0</td>\n",
       "      <td>0</td>\n",
       "      <td>0.0</td>\n",
       "      <td>0</td>\n",
       "      <td>0</td>\n",
       "    </tr>\n",
       "    <tr>\n",
       "      <th>900</th>\n",
       "      <td>all parts</td>\n",
       "      <td>1115G4</td>\n",
       "      <td>0</td>\n",
       "      <td>0</td>\n",
       "      <td>NaN</td>\n",
       "      <td>11th Gen</td>\n",
       "      <td>1920x1080$$Pixels pixel</td>\n",
       "      <td>Performance</td>\n",
       "      <td>0</td>\n",
       "      <td>0</td>\n",
       "      <td>Core i3</td>\n",
       "      <td>DDR4</td>\n",
       "      <td>NaN</td>\n",
       "      <td>0</td>\n",
       "      <td>Thinkpad E series</td>\n",
       "      <td>DOS</td>\n",
       "      <td>TPE14G2</td>\n",
       "      <td>35.56 cm (14 inch)</td>\n",
       "      <td>NaN</td>\n",
       "      <td>Yes</td>\n",
       "      <td>Intel</td>\n",
       "      <td>SSD</td>\n",
       "      <td>Business Laptop</td>\n",
       "      <td>512 GB</td>\n",
       "      <td>3 Years Domestic Warranty</td>\n",
       "      <td>20TAS0XH00</td>\n",
       "      <td>8 GB</td>\n",
       "      <td>NA Intel UHD Graphics</td>\n",
       "      <td>NaN</td>\n",
       "      <td>NaN</td>\n",
       "      <td>0</td>\n",
       "      <td>NaN</td>\n",
       "      <td>0 GB</td>\n",
       "      <td>NaN</td>\n",
       "      <td>0 GB</td>\n",
       "      <td>NaN</td>\n",
       "      <td>4</td>\n",
       "      <td>NaN</td>\n",
       "      <td>NaN</td>\n",
       "      <td>NaN</td>\n",
       "      <td>NaN</td>\n",
       "      <td>NaN</td>\n",
       "      <td>0 GB</td>\n",
       "      <td>NaN</td>\n",
       "      <td>Lenovo Thinkpad E series Intel Core i3 11th Ge...</td>\n",
       "      <td>46499</td>\n",
       "      <td>8</td>\n",
       "      <td>0</td>\n",
       "      <td>0</td>\n",
       "      <td>512</td>\n",
       "      <td>0</td>\n",
       "      <td>0</td>\n",
       "      <td>Lenovo</td>\n",
       "      <td>Lenovo</td>\n",
       "      <td>0</td>\n",
       "      <td>0</td>\n",
       "      <td>0</td>\n",
       "      <td>0</td>\n",
       "      <td>0</td>\n",
       "      <td>0</td>\n",
       "      <td>1</td>\n",
       "      <td>0</td>\n",
       "      <td>0</td>\n",
       "      <td>0</td>\n",
       "      <td>0</td>\n",
       "      <td>14.0</td>\n",
       "      <td>0</td>\n",
       "      <td>0</td>\n",
       "      <td>1</td>\n",
       "      <td>0</td>\n",
       "      <td>11</td>\n",
       "      <td>0.0</td>\n",
       "      <td>0</td>\n",
       "      <td>0</td>\n",
       "      <td>1</td>\n",
       "      <td>0</td>\n",
       "      <td>0</td>\n",
       "      <td>0.0</td>\n",
       "      <td>0</td>\n",
       "      <td>0</td>\n",
       "    </tr>\n",
       "    <tr>\n",
       "      <th>925</th>\n",
       "      <td>Performance Issue</td>\n",
       "      <td>NaN</td>\n",
       "      <td>0</td>\n",
       "      <td>0</td>\n",
       "      <td>NaN</td>\n",
       "      <td>NaN</td>\n",
       "      <td>1366 x 768$$Pixels pixel</td>\n",
       "      <td>Everyday Use, Entertainment, Learning</td>\n",
       "      <td>0</td>\n",
       "      <td>0</td>\n",
       "      <td>Ryzen 3 Dual Core</td>\n",
       "      <td>DDR4</td>\n",
       "      <td>NaN</td>\n",
       "      <td>0</td>\n",
       "      <td>255 G9 841W6pa</td>\n",
       "      <td>DOS</td>\n",
       "      <td>6E3Z0PA</td>\n",
       "      <td>39.62 cm (15.6 inch)</td>\n",
       "      <td>NaN</td>\n",
       "      <td>Yes</td>\n",
       "      <td>AMD</td>\n",
       "      <td>SSD</td>\n",
       "      <td>Laptop</td>\n",
       "      <td>512 GB</td>\n",
       "      <td>1 Year Domestic Warrenty</td>\n",
       "      <td>255 G8</td>\n",
       "      <td>8 GB</td>\n",
       "      <td>NA Integerated Graphics</td>\n",
       "      <td>NaN</td>\n",
       "      <td>NaN</td>\n",
       "      <td>0</td>\n",
       "      <td>NaN</td>\n",
       "      <td>0 GB</td>\n",
       "      <td>NaN</td>\n",
       "      <td>0 GB</td>\n",
       "      <td>NO WINDOWS SOFTWARE INSIDE</td>\n",
       "      <td>2</td>\n",
       "      <td>NaN</td>\n",
       "      <td>NaN</td>\n",
       "      <td>NaN</td>\n",
       "      <td>NaN</td>\n",
       "      <td>NaN</td>\n",
       "      <td>0 GB</td>\n",
       "      <td>3.8</td>\n",
       "      <td>HP 255 G9 841W6pa AMD Ryzen 3 Dual Core - (8 G...</td>\n",
       "      <td>26800</td>\n",
       "      <td>8</td>\n",
       "      <td>0</td>\n",
       "      <td>0</td>\n",
       "      <td>512</td>\n",
       "      <td>0</td>\n",
       "      <td>0</td>\n",
       "      <td>HP</td>\n",
       "      <td>HP</td>\n",
       "      <td>0</td>\n",
       "      <td>0</td>\n",
       "      <td>0</td>\n",
       "      <td>0</td>\n",
       "      <td>1</td>\n",
       "      <td>0</td>\n",
       "      <td>0</td>\n",
       "      <td>0</td>\n",
       "      <td>0</td>\n",
       "      <td>0</td>\n",
       "      <td>0</td>\n",
       "      <td>15.6</td>\n",
       "      <td>0</td>\n",
       "      <td>0</td>\n",
       "      <td>1</td>\n",
       "      <td>0</td>\n",
       "      <td>0</td>\n",
       "      <td>0.0</td>\n",
       "      <td>1</td>\n",
       "      <td>0</td>\n",
       "      <td>0</td>\n",
       "      <td>0</td>\n",
       "      <td>0</td>\n",
       "      <td>0.0</td>\n",
       "      <td>0</td>\n",
       "      <td>0</td>\n",
       "    </tr>\n",
       "  </tbody>\n",
       "</table>\n",
       "</div>"
      ],
      "text/plain": [
       "       Covered in Warranty Processor Variant  Finger Print Sensor  \\\n",
       "55   Manufacturing Defects               NaN                    0   \n",
       "900              all parts            1115G4                    0   \n",
       "925      Performance Issue               NaN                    0   \n",
       "\n",
       "     MS Office Provided Weight Processor Generation         Screen Resolution  \\\n",
       "55                    0    NaN                  NaN     Full HD (1080p) pixel   \n",
       "900                   0    NaN             11th Gen   1920x1080$$Pixels pixel   \n",
       "925                   0    NaN                  NaN  1366 x 768$$Pixels pixel   \n",
       "\n",
       "                              Suitable For  Backlit Keyboard  Touchscreen  \\\n",
       "55                           Entertainment                 0            0   \n",
       "900                            Performance                 0            0   \n",
       "925  Everyday Use, Entertainment, Learning                 0            0   \n",
       "\n",
       "        Processor Name RAM Type Screen Type Domestic Warranty  \\\n",
       "55   Celeron Dual Core     DDR4         NaN                 0   \n",
       "900            Core i3     DDR4         NaN                 0   \n",
       "925  Ryzen 3 Dual Core     DDR4         NaN                 0   \n",
       "\n",
       "                Series Operating System     Model Number  \\\n",
       "55                 NaN   Windows 11 Pro  5470 ULTRA SLIM   \n",
       "900  Thinkpad E series              DOS          TPE14G2   \n",
       "925     255 G9 841W6pa              DOS          6E3Z0PA   \n",
       "\n",
       "              Screen Size USB Port  SSD Processor Brand Storage Type  \\\n",
       "55     35.56 cm (14 inch)      NaN  Yes           Intel          SSD   \n",
       "900    35.56 cm (14 inch)      NaN  Yes           Intel          SSD   \n",
       "925  39.62 cm (15.6 inch)      NaN  Yes             AMD          SSD   \n",
       "\n",
       "                      Type SSD Capacity           Warranty Summary  \\\n",
       "55   Thin and Light Laptop       256 GB                     1 Year   \n",
       "900        Business Laptop       512 GB  3 Years Domestic Warranty   \n",
       "925                 Laptop       512 GB   1 Year Domestic Warrenty   \n",
       "\n",
       "                      Model Name   RAM        Graphic Processor Dimensions  \\\n",
       "55   DELL ???? 5470 (ULTRA SLIM)  4 GB                 NA Intel        NaN   \n",
       "900                   20TAS0XH00  8 GB    NA Intel UHD Graphics        NaN   \n",
       "925                       255 G8  8 GB  NA Integerated Graphics        NaN   \n",
       "\n",
       "    OS Architecture  Face Recognition Dedicated Graphic Memory Type  \\\n",
       "55              NaN                 0                           NaN   \n",
       "900             NaN                 0                           NaN   \n",
       "925             NaN                 0                           NaN   \n",
       "\n",
       "    Dedicated Graphic Memory Capacity Expandable Memory  \\\n",
       "55                               0 GB               NaN   \n",
       "900                              0 GB               NaN   \n",
       "925                              0 GB               NaN   \n",
       "\n",
       "    Expandable SSD Capacity  Supported Operating System  Number of Cores  \\\n",
       "55                     0 GB                         NaN                2   \n",
       "900                    0 GB                         NaN                4   \n",
       "925                    0 GB  NO WINDOWS SOFTWARE INSIDE                2   \n",
       "\n",
       "    RAM Frequency Chipset Included Software System Architecture  \\\n",
       "55            NaN     NaN               NaN                 NaN   \n",
       "900           NaN     NaN               NaN                 NaN   \n",
       "925           NaN     NaN               NaN                 NaN   \n",
       "\n",
       "    Other Accessories HDD Capacity  Rating  \\\n",
       "55                NaN         0 GB     NaN   \n",
       "900               NaN         0 GB     NaN   \n",
       "925               NaN         0 GB     3.8   \n",
       "\n",
       "                                                 Names  Price  RAM (GB)  \\\n",
       "55   DELL Intel Celeron Dual Core - (4 GB/256 GB SS...  18890         4   \n",
       "900  Lenovo Thinkpad E series Intel Core i3 11th Ge...  46499         8   \n",
       "925  HP 255 G9 841W6pa AMD Ryzen 3 Dual Core - (8 G...  26800         8   \n",
       "\n",
       "     RAM Type Rank  Domestic Warranty_in_year  SSD (GB)  HDD (GB)  \\\n",
       "55               0                          0       256         0   \n",
       "900              0                          0       512         0   \n",
       "925              0                          0       512         0   \n",
       "\n",
       "     Expandable Memory (GB)   BRAND Brand_Names  ASUS  Acer  Apple  DELL  HP  \\\n",
       "55                        0    DELL        DELL     0     0      0     1   0   \n",
       "900                       0  Lenovo      Lenovo     0     0      0     0   0   \n",
       "925                       0      HP          HP     0     0      0     0   1   \n",
       "\n",
       "     Infinix  Lenovo  MICROSOFT  MSI  SAMSUNG  others  Screen Size (Inch)  \\\n",
       "55         0       0          0    0        0       0                14.0   \n",
       "900        0       1          0    0        0       0                14.0   \n",
       "925        0       0          0    0        0       0                15.6   \n",
       "\n",
       "     drive_HDD  drive_Hybrid  drive_SSD  drive_eMMC  \\\n",
       "55           0             0          1           0   \n",
       "900          0             0          1           0   \n",
       "925          0             0          1           0   \n",
       "\n",
       "     Processor Generation_intel  Dedicated Graphic Memory Capacity (GB)  \\\n",
       "55                            0                                     0.0   \n",
       "900                          11                                     0.0   \n",
       "925                           0                                     0.0   \n",
       "\n",
       "     Processor_AMD  Processor_Apple  Processor_Intel  Processor_MediaTek  \\\n",
       "55               0                0                1                   0   \n",
       "900              0                0                1                   0   \n",
       "925              1                0                0                   0   \n",
       "\n",
       "     Processor_Qualcomm  Apple_chips  Processor_variant_new  \\\n",
       "55                    0          0.0                      0   \n",
       "900                   0          0.0                      0   \n",
       "925                   0          0.0                      0   \n",
       "\n",
       "     Expandable SSD Capacity (GB)  \n",
       "55                              0  \n",
       "900                             0  \n",
       "925                             0  "
      ]
     },
     "execution_count": 161,
     "metadata": {},
     "output_type": "execute_result"
    }
   ],
   "source": [
    "df[(df['Graphic Processor'].astype(str).apply(lambda x :x.split(' ')[0])=='NA')&(df['Graphic Processor'].astype(str).apply(lambda x :len(x.split(' '))>1))]"
   ]
  },
  {
   "cell_type": "code",
   "execution_count": 162,
   "id": "66617ec2-b39e-4d48-a1b2-3e743529816e",
   "metadata": {},
   "outputs": [],
   "source": [
    "#as there are less values problematic we will replace it manually\n",
    "#NA= 'Not Avialble' i think"
   ]
  },
  {
   "cell_type": "code",
   "execution_count": 163,
   "id": "8966e0a7-a5d4-40d7-bc3f-456c57e53e14",
   "metadata": {},
   "outputs": [],
   "source": [
    "df['Graphic Processor']=df['Graphic Processor'].replace(['NA Intel','NA Integrated Graphics','NA Intel UHD Graphics'],['NA','NA','NA'])"
   ]
  },
  {
   "cell_type": "code",
   "execution_count": 164,
   "id": "c1598500-3735-4cac-a385-140f1151a4b6",
   "metadata": {},
   "outputs": [],
   "source": [
    "df['Graphic Processor'].fillna(value='NA',inplace=True)"
   ]
  },
  {
   "cell_type": "code",
   "execution_count": 165,
   "id": "e4721219-2749-41f9-9a50-0b6951658801",
   "metadata": {},
   "outputs": [],
   "source": [
    "df['Graphic Processor']=df['Graphic Processor'].astype(str).apply(lambda x :x.split(' ')[0])"
   ]
  },
  {
   "cell_type": "code",
   "execution_count": 166,
   "id": "aa4f48a0-5dc9-42bb-b4e9-b0606193ee81",
   "metadata": {},
   "outputs": [
    {
     "data": {
      "text/plain": [
       "Graphic Processor\n",
       "Intel       277\n",
       "NVIDIA      122\n",
       "AMD         105\n",
       "NA           35\n",
       "Qualcomm      7\n",
       "MediaTek      2\n",
       "Name: count, dtype: int64"
      ]
     },
     "execution_count": 166,
     "metadata": {},
     "output_type": "execute_result"
    }
   ],
   "source": [
    "df['Graphic Processor'].value_counts() "
   ]
  },
  {
   "cell_type": "code",
   "execution_count": 167,
   "id": "15b1b0f4-e867-4713-ac25-9be0406bb700",
   "metadata": {},
   "outputs": [],
   "source": [
    "GPU=pd.get_dummies(df['Graphic Processor'].astype(str).apply(lambda x :x.split(' ')[0]),drop_first=False,prefix='GPU').astype(int)\n",
    "# GPU.drop(columns=['GPU_MediaTek'],inplace=True)"
   ]
  },
  {
   "cell_type": "code",
   "execution_count": 168,
   "id": "46fc32bd-8fdd-4c3e-854c-19163572c7a5",
   "metadata": {},
   "outputs": [],
   "source": [
    "df=df.join(GPU)"
   ]
  },
  {
   "cell_type": "code",
   "execution_count": 169,
   "id": "83642e67-e76b-409b-975d-8fe4b02a60ef",
   "metadata": {},
   "outputs": [
    {
     "data": {
      "text/html": [
       "<div>\n",
       "<style scoped>\n",
       "    .dataframe tbody tr th:only-of-type {\n",
       "        vertical-align: middle;\n",
       "    }\n",
       "\n",
       "    .dataframe tbody tr th {\n",
       "        vertical-align: top;\n",
       "    }\n",
       "\n",
       "    .dataframe thead th {\n",
       "        text-align: right;\n",
       "    }\n",
       "</style>\n",
       "<table border=\"1\" class=\"dataframe\">\n",
       "  <thead>\n",
       "    <tr style=\"text-align: right;\">\n",
       "      <th></th>\n",
       "      <th>Covered in Warranty</th>\n",
       "      <th>Processor Variant</th>\n",
       "      <th>Finger Print Sensor</th>\n",
       "      <th>MS Office Provided</th>\n",
       "      <th>Weight</th>\n",
       "      <th>Processor Generation</th>\n",
       "      <th>Screen Resolution</th>\n",
       "      <th>Suitable For</th>\n",
       "      <th>Backlit Keyboard</th>\n",
       "      <th>Touchscreen</th>\n",
       "      <th>Processor Name</th>\n",
       "      <th>RAM Type</th>\n",
       "      <th>Screen Type</th>\n",
       "      <th>Domestic Warranty</th>\n",
       "      <th>Series</th>\n",
       "      <th>Operating System</th>\n",
       "      <th>Model Number</th>\n",
       "      <th>Screen Size</th>\n",
       "      <th>USB Port</th>\n",
       "      <th>SSD</th>\n",
       "      <th>Processor Brand</th>\n",
       "      <th>Storage Type</th>\n",
       "      <th>Type</th>\n",
       "      <th>SSD Capacity</th>\n",
       "      <th>Warranty Summary</th>\n",
       "      <th>Model Name</th>\n",
       "      <th>RAM</th>\n",
       "      <th>Graphic Processor</th>\n",
       "      <th>Dimensions</th>\n",
       "      <th>OS Architecture</th>\n",
       "      <th>Face Recognition</th>\n",
       "      <th>Dedicated Graphic Memory Type</th>\n",
       "      <th>Dedicated Graphic Memory Capacity</th>\n",
       "      <th>Expandable Memory</th>\n",
       "      <th>Expandable SSD Capacity</th>\n",
       "      <th>Supported Operating System</th>\n",
       "      <th>Number of Cores</th>\n",
       "      <th>RAM Frequency</th>\n",
       "      <th>Chipset</th>\n",
       "      <th>Included Software</th>\n",
       "      <th>System Architecture</th>\n",
       "      <th>Other Accessories</th>\n",
       "      <th>HDD Capacity</th>\n",
       "      <th>Rating</th>\n",
       "      <th>Names</th>\n",
       "      <th>Price</th>\n",
       "      <th>RAM (GB)</th>\n",
       "      <th>RAM Type Rank</th>\n",
       "      <th>Domestic Warranty_in_year</th>\n",
       "      <th>SSD (GB)</th>\n",
       "      <th>HDD (GB)</th>\n",
       "      <th>Expandable Memory (GB)</th>\n",
       "      <th>BRAND</th>\n",
       "      <th>Brand_Names</th>\n",
       "      <th>ASUS</th>\n",
       "      <th>Acer</th>\n",
       "      <th>Apple</th>\n",
       "      <th>DELL</th>\n",
       "      <th>HP</th>\n",
       "      <th>Infinix</th>\n",
       "      <th>Lenovo</th>\n",
       "      <th>MICROSOFT</th>\n",
       "      <th>MSI</th>\n",
       "      <th>SAMSUNG</th>\n",
       "      <th>others</th>\n",
       "      <th>Screen Size (Inch)</th>\n",
       "      <th>drive_HDD</th>\n",
       "      <th>drive_Hybrid</th>\n",
       "      <th>drive_SSD</th>\n",
       "      <th>drive_eMMC</th>\n",
       "      <th>Processor Generation_intel</th>\n",
       "      <th>Dedicated Graphic Memory Capacity (GB)</th>\n",
       "      <th>Processor_AMD</th>\n",
       "      <th>Processor_Apple</th>\n",
       "      <th>Processor_Intel</th>\n",
       "      <th>Processor_MediaTek</th>\n",
       "      <th>Processor_Qualcomm</th>\n",
       "      <th>Apple_chips</th>\n",
       "      <th>Processor_variant_new</th>\n",
       "      <th>Expandable SSD Capacity (GB)</th>\n",
       "      <th>GPU_AMD</th>\n",
       "      <th>GPU_Intel</th>\n",
       "      <th>GPU_MediaTek</th>\n",
       "      <th>GPU_NA</th>\n",
       "      <th>GPU_NVIDIA</th>\n",
       "      <th>GPU_Qualcomm</th>\n",
       "    </tr>\n",
       "  </thead>\n",
       "  <tbody>\n",
       "    <tr>\n",
       "      <th>43</th>\n",
       "      <td>Manufacturing Defects</td>\n",
       "      <td>1215U</td>\n",
       "      <td>0</td>\n",
       "      <td>1</td>\n",
       "      <td>1.63 Kg</td>\n",
       "      <td>12th Gen</td>\n",
       "      <td>1920 x 1080 Pixel</td>\n",
       "      <td>Processing &amp; Multitasking, Entertainment, Ever...</td>\n",
       "      <td>0</td>\n",
       "      <td>0</td>\n",
       "      <td>Core i3</td>\n",
       "      <td>DDR4</td>\n",
       "      <td>Full HD TN 250nits Anti-glare</td>\n",
       "      <td>0</td>\n",
       "      <td>IdeaPad Slim 3</td>\n",
       "      <td>Windows 11 Home</td>\n",
       "      <td>15IAU7</td>\n",
       "      <td>39.62 cm (15.6 inch)</td>\n",
       "      <td>1 x USB 3.2 Gen 1, 1 x USB 3.2 Gen 1 (Always O...</td>\n",
       "      <td>Yes</td>\n",
       "      <td>Intel</td>\n",
       "      <td>SSD</td>\n",
       "      <td>Thin and Light Laptop</td>\n",
       "      <td>512 GB</td>\n",
       "      <td>1 Yr. Onsite + 1 Yr. Accidental Damage Protection</td>\n",
       "      <td>15IAU7</td>\n",
       "      <td>8 GB</td>\n",
       "      <td>Intel</td>\n",
       "      <td>NaN</td>\n",
       "      <td>NaN</td>\n",
       "      <td>0</td>\n",
       "      <td>NaN</td>\n",
       "      <td>0 GB</td>\n",
       "      <td>16GB</td>\n",
       "      <td>0 GB</td>\n",
       "      <td>NaN</td>\n",
       "      <td>4</td>\n",
       "      <td>NaN</td>\n",
       "      <td>NaN</td>\n",
       "      <td>NaN</td>\n",
       "      <td>NaN</td>\n",
       "      <td>NaN</td>\n",
       "      <td>0 GB</td>\n",
       "      <td>4.3</td>\n",
       "      <td>Lenovo IdeaPad Slim 3 Intel Core i3 12th Gen 1...</td>\n",
       "      <td>34550</td>\n",
       "      <td>8</td>\n",
       "      <td>0</td>\n",
       "      <td>0</td>\n",
       "      <td>512</td>\n",
       "      <td>0</td>\n",
       "      <td>16</td>\n",
       "      <td>Lenovo</td>\n",
       "      <td>Lenovo</td>\n",
       "      <td>0</td>\n",
       "      <td>0</td>\n",
       "      <td>0</td>\n",
       "      <td>0</td>\n",
       "      <td>0</td>\n",
       "      <td>0</td>\n",
       "      <td>1</td>\n",
       "      <td>0</td>\n",
       "      <td>0</td>\n",
       "      <td>0</td>\n",
       "      <td>0</td>\n",
       "      <td>15.6</td>\n",
       "      <td>0</td>\n",
       "      <td>0</td>\n",
       "      <td>1</td>\n",
       "      <td>0</td>\n",
       "      <td>12</td>\n",
       "      <td>0.0</td>\n",
       "      <td>0</td>\n",
       "      <td>0</td>\n",
       "      <td>1</td>\n",
       "      <td>0</td>\n",
       "      <td>0</td>\n",
       "      <td>0.0</td>\n",
       "      <td>2</td>\n",
       "      <td>0</td>\n",
       "      <td>0</td>\n",
       "      <td>1</td>\n",
       "      <td>0</td>\n",
       "      <td>0</td>\n",
       "      <td>0</td>\n",
       "      <td>0</td>\n",
       "    </tr>\n",
       "  </tbody>\n",
       "</table>\n",
       "</div>"
      ],
      "text/plain": [
       "      Covered in Warranty Processor Variant  Finger Print Sensor  \\\n",
       "43  Manufacturing Defects             1215U                    0   \n",
       "\n",
       "    MS Office Provided   Weight Processor Generation  Screen Resolution  \\\n",
       "43                   1  1.63 Kg             12th Gen  1920 x 1080 Pixel   \n",
       "\n",
       "                                         Suitable For  Backlit Keyboard  \\\n",
       "43  Processing & Multitasking, Entertainment, Ever...                 0   \n",
       "\n",
       "    Touchscreen Processor Name RAM Type                    Screen Type  \\\n",
       "43            0        Core i3     DDR4  Full HD TN 250nits Anti-glare   \n",
       "\n",
       "   Domestic Warranty          Series Operating System Model Number  \\\n",
       "43                 0  IdeaPad Slim 3  Windows 11 Home       15IAU7   \n",
       "\n",
       "             Screen Size                                           USB Port  \\\n",
       "43  39.62 cm (15.6 inch)  1 x USB 3.2 Gen 1, 1 x USB 3.2 Gen 1 (Always O...   \n",
       "\n",
       "    SSD Processor Brand Storage Type                   Type SSD Capacity  \\\n",
       "43  Yes           Intel          SSD  Thin and Light Laptop       512 GB   \n",
       "\n",
       "                                     Warranty Summary Model Name   RAM  \\\n",
       "43  1 Yr. Onsite + 1 Yr. Accidental Damage Protection     15IAU7  8 GB   \n",
       "\n",
       "   Graphic Processor Dimensions OS Architecture  Face Recognition  \\\n",
       "43             Intel        NaN             NaN                 0   \n",
       "\n",
       "   Dedicated Graphic Memory Type Dedicated Graphic Memory Capacity  \\\n",
       "43                           NaN                              0 GB   \n",
       "\n",
       "   Expandable Memory Expandable SSD Capacity Supported Operating System  \\\n",
       "43              16GB                    0 GB                        NaN   \n",
       "\n",
       "    Number of Cores RAM Frequency Chipset Included Software  \\\n",
       "43                4           NaN     NaN               NaN   \n",
       "\n",
       "   System Architecture Other Accessories HDD Capacity  Rating  \\\n",
       "43                 NaN               NaN         0 GB     4.3   \n",
       "\n",
       "                                                Names  Price  RAM (GB)  \\\n",
       "43  Lenovo IdeaPad Slim 3 Intel Core i3 12th Gen 1...  34550         8   \n",
       "\n",
       "    RAM Type Rank  Domestic Warranty_in_year  SSD (GB)  HDD (GB)  \\\n",
       "43              0                          0       512         0   \n",
       "\n",
       "    Expandable Memory (GB)   BRAND Brand_Names  ASUS  Acer  Apple  DELL  HP  \\\n",
       "43                      16  Lenovo      Lenovo     0     0      0     0   0   \n",
       "\n",
       "    Infinix  Lenovo  MICROSOFT  MSI  SAMSUNG  others  Screen Size (Inch)  \\\n",
       "43        0       1          0    0        0       0                15.6   \n",
       "\n",
       "    drive_HDD  drive_Hybrid  drive_SSD  drive_eMMC  \\\n",
       "43          0             0          1           0   \n",
       "\n",
       "    Processor Generation_intel  Dedicated Graphic Memory Capacity (GB)  \\\n",
       "43                          12                                     0.0   \n",
       "\n",
       "    Processor_AMD  Processor_Apple  Processor_Intel  Processor_MediaTek  \\\n",
       "43              0                0                1                   0   \n",
       "\n",
       "    Processor_Qualcomm  Apple_chips  Processor_variant_new  \\\n",
       "43                   0          0.0                      2   \n",
       "\n",
       "    Expandable SSD Capacity (GB)  GPU_AMD  GPU_Intel  GPU_MediaTek  GPU_NA  \\\n",
       "43                             0        0          1             0       0   \n",
       "\n",
       "    GPU_NVIDIA  GPU_Qualcomm  \n",
       "43           0             0  "
      ]
     },
     "execution_count": 169,
     "metadata": {},
     "output_type": "execute_result"
    }
   ],
   "source": [
    "df.sample()"
   ]
  },
  {
   "cell_type": "markdown",
   "id": "c27100bc-583a-4412-ac14-16629dea4880",
   "metadata": {},
   "source": [
    "#### 24) _Operating System_"
   ]
  },
  {
   "cell_type": "code",
   "execution_count": 171,
   "id": "7e4d99d4-f192-4797-9613-87bba5510de5",
   "metadata": {},
   "outputs": [
    {
     "data": {
      "text/plain": [
       "0"
      ]
     },
     "execution_count": 171,
     "metadata": {},
     "output_type": "execute_result"
    }
   ],
   "source": [
    "df['Operating System'].isna().sum()"
   ]
  },
  {
   "cell_type": "code",
   "execution_count": 172,
   "id": "af7ec981-0531-4c1e-950a-d56ccaba773c",
   "metadata": {},
   "outputs": [
    {
     "data": {
      "text/plain": [
       "array(['Chrome', 'Windows 11 Home', 'Windows 11 Pro', 'macOS Sequoia',\n",
       "       'Windows 10 Home', 'Ubuntu', 'Prime OS', 'DOS', 'Windows 10 Pro',\n",
       "       'Mac OS Big Sur', 'macOS Sonoma', 'Windows 10'], dtype=object)"
      ]
     },
     "execution_count": 172,
     "metadata": {},
     "output_type": "execute_result"
    }
   ],
   "source": [
    "df['Operating System'].unique()"
   ]
  },
  {
   "cell_type": "code",
   "execution_count": 173,
   "id": "0bc53a29-74c1-4ab8-9b3e-ee4340195826",
   "metadata": {},
   "outputs": [],
   "source": [
    "os_rank=[['DOS','Prime OS','Chrome','Ubuntu','Windows 10 Home','Windows 10 Pro','Windows 10','Windows 11 Home','Windows 11 Pro','Mac OS Big Sur','macOS Sonoma','macOS Sequoia']]"
   ]
  },
  {
   "cell_type": "code",
   "execution_count": 174,
   "id": "5e37de45-ce81-4456-858f-c3500bfb0d50",
   "metadata": {},
   "outputs": [],
   "source": [
    "df['Os_Rank']=OrdinalEncoder(categories=os_rank).fit_transform(df[['Operating System']]).astype(int)"
   ]
  },
  {
   "cell_type": "code",
   "execution_count": 175,
   "id": "382e1dfa-68fa-422c-a175-262268db82cf",
   "metadata": {},
   "outputs": [
    {
     "data": {
      "text/plain": [
       "array([ 2,  7,  8, 11,  4,  3,  1,  0,  5,  9, 10,  6])"
      ]
     },
     "execution_count": 175,
     "metadata": {},
     "output_type": "execute_result"
    }
   ],
   "source": [
    "df['Os_Rank'].unique()"
   ]
  },
  {
   "cell_type": "markdown",
   "id": "76d8269d-538a-428f-80a7-59d136abf24f",
   "metadata": {},
   "source": [
    "#### 25) _Laptop TYPE_"
   ]
  },
  {
   "cell_type": "code",
   "execution_count": 177,
   "id": "3866dd88-517e-4d90-bf82-25e46d6be1b9",
   "metadata": {},
   "outputs": [
    {
     "data": {
      "text/plain": [
       "0"
      ]
     },
     "execution_count": 177,
     "metadata": {},
     "output_type": "execute_result"
    }
   ],
   "source": [
    "df['Type'].isna().sum()"
   ]
  },
  {
   "cell_type": "code",
   "execution_count": 178,
   "id": "dfa1e262-6504-4621-a2b1-608842723c91",
   "metadata": {},
   "outputs": [
    {
     "data": {
      "text/plain": [
       "array(['Chromebook', 'Thin and Light Laptop', 'Gaming Laptop', 'Notebook',\n",
       "       'Business Laptop', '2 in 1 Laptop', 'Laptop', 'Dual Screen Laptop',\n",
       "       'Handheld Gaming PC'], dtype=object)"
      ]
     },
     "execution_count": 178,
     "metadata": {},
     "output_type": "execute_result"
    }
   ],
   "source": [
    "df['Type'].unique()"
   ]
  },
  {
   "cell_type": "code",
   "execution_count": 179,
   "id": "1d5e6515-a7a0-41c9-8f15-76e9c920b976",
   "metadata": {},
   "outputs": [],
   "source": [
    "type=[['Chromebook', 'Notebook','Laptop','Thin and Light Laptop','Handheld Gaming PC','2 in 1 Laptop','Business Laptop','Gaming Laptop','Dual Screen Laptop']]"
   ]
  },
  {
   "cell_type": "code",
   "execution_count": 180,
   "id": "7881333e-736e-4406-b2bc-3ab7d26d284c",
   "metadata": {},
   "outputs": [],
   "source": [
    "df['Laptop_type']=OrdinalEncoder(categories=type).fit_transform(df[['Type']]).astype(int)\n",
    "\n",
    "#Found Avg price of each cateogry from Internet & Squential Arranged it from LEAST TO MOST Valueale"
   ]
  },
  {
   "cell_type": "code",
   "execution_count": 181,
   "id": "35def36c-c6e1-45e6-b6fe-b575a4bc6972",
   "metadata": {},
   "outputs": [
    {
     "data": {
      "text/plain": [
       "array([0, 3, 7, 1, 6, 5, 2, 8, 4])"
      ]
     },
     "execution_count": 181,
     "metadata": {},
     "output_type": "execute_result"
    }
   ],
   "source": [
    "df['Laptop_type'].unique()"
   ]
  },
  {
   "cell_type": "code",
   "execution_count": null,
   "id": "74661be4-412a-47a5-87bb-8d0182d46e1c",
   "metadata": {},
   "outputs": [],
   "source": []
  },
  {
   "cell_type": "markdown",
   "id": "f439f499-e513-4bbe-9843-08ec4641c4fb",
   "metadata": {},
   "source": [
    "#### 26) _Pixel_"
   ]
  },
  {
   "cell_type": "code",
   "execution_count": 183,
   "id": "11dea2ca-ea0b-431d-a729-2cf8ed090a80",
   "metadata": {},
   "outputs": [
    {
     "data": {
      "text/plain": [
       "Screen Resolution\n",
       "1920 x 1080 Pixel     218\n",
       "1920 x 1080 Pixels     54\n",
       "1920 x 1200 Pixel      46\n",
       "1920 x 1080 pixel      43\n",
       "1920 X 1080 Pixel      30\n",
       "Name: count, dtype: int64"
      ]
     },
     "execution_count": 183,
     "metadata": {},
     "output_type": "execute_result"
    }
   ],
   "source": [
    "df['Screen Resolution'].value_counts().head() #we are Multiplying it to get it in single column which reduces Dimensionality"
   ]
  },
  {
   "cell_type": "code",
   "execution_count": 184,
   "id": "c86e042e-e5f9-4355-84b2-ac44ee77da88",
   "metadata": {},
   "outputs": [],
   "source": [
    "df['Screen_res (pixel)']=df['Screen Resolution'].apply(lambda x:''.join(i if i.isdigit() else ' ' for i in x).split())\n",
    "df['Screen_res (pixel)']=df['Screen_res (pixel)'].apply(lambda x: list(x))\n"
   ]
  },
  {
   "cell_type": "code",
   "execution_count": 185,
   "id": "df6c3cf7-7f23-452b-8270-604f51a2826b",
   "metadata": {},
   "outputs": [],
   "source": [
    "df['Screen_res (pixel)']=df['Screen_res (pixel)'].apply(lambda x:int(x[1])*int(x[0]) if len(x)>=2 else int(x[0])*int(x[0])).astype(int)"
   ]
  },
  {
   "cell_type": "code",
   "execution_count": 186,
   "id": "ddebd6ef-1ea5-484d-9b14-3b778675a24c",
   "metadata": {},
   "outputs": [
    {
     "data": {
      "text/plain": [
       "Screen_res (pixel)\n",
       "2073600    365\n",
       "2304000     59\n",
       "1049088     44\n",
       "5184000     14\n",
       "4096000     12\n",
       "Name: count, dtype: int64"
      ]
     },
     "execution_count": 186,
     "metadata": {},
     "output_type": "execute_result"
    }
   ],
   "source": [
    "df['Screen_res (pixel)'].value_counts().head()"
   ]
  },
  {
   "cell_type": "code",
   "execution_count": 187,
   "id": "f262457c-3ae8-4028-9dbe-3975da84efc2",
   "metadata": {},
   "outputs": [
    {
     "data": {
      "text/html": [
       "<div>\n",
       "<style scoped>\n",
       "    .dataframe tbody tr th:only-of-type {\n",
       "        vertical-align: middle;\n",
       "    }\n",
       "\n",
       "    .dataframe tbody tr th {\n",
       "        vertical-align: top;\n",
       "    }\n",
       "\n",
       "    .dataframe thead th {\n",
       "        text-align: right;\n",
       "    }\n",
       "</style>\n",
       "<table border=\"1\" class=\"dataframe\">\n",
       "  <thead>\n",
       "    <tr style=\"text-align: right;\">\n",
       "      <th></th>\n",
       "      <th>Covered in Warranty</th>\n",
       "      <th>Processor Variant</th>\n",
       "      <th>Finger Print Sensor</th>\n",
       "      <th>MS Office Provided</th>\n",
       "      <th>Weight</th>\n",
       "      <th>Processor Generation</th>\n",
       "      <th>Screen Resolution</th>\n",
       "      <th>Suitable For</th>\n",
       "      <th>Backlit Keyboard</th>\n",
       "      <th>Touchscreen</th>\n",
       "      <th>Processor Name</th>\n",
       "      <th>RAM Type</th>\n",
       "      <th>Screen Type</th>\n",
       "      <th>Domestic Warranty</th>\n",
       "      <th>Series</th>\n",
       "      <th>Operating System</th>\n",
       "      <th>Model Number</th>\n",
       "      <th>Screen Size</th>\n",
       "      <th>USB Port</th>\n",
       "      <th>SSD</th>\n",
       "      <th>Processor Brand</th>\n",
       "      <th>Storage Type</th>\n",
       "      <th>Type</th>\n",
       "      <th>SSD Capacity</th>\n",
       "      <th>Warranty Summary</th>\n",
       "      <th>Model Name</th>\n",
       "      <th>RAM</th>\n",
       "      <th>Graphic Processor</th>\n",
       "      <th>Dimensions</th>\n",
       "      <th>OS Architecture</th>\n",
       "      <th>Face Recognition</th>\n",
       "      <th>Dedicated Graphic Memory Type</th>\n",
       "      <th>Dedicated Graphic Memory Capacity</th>\n",
       "      <th>Expandable Memory</th>\n",
       "      <th>Expandable SSD Capacity</th>\n",
       "      <th>Supported Operating System</th>\n",
       "      <th>Number of Cores</th>\n",
       "      <th>RAM Frequency</th>\n",
       "      <th>Chipset</th>\n",
       "      <th>Included Software</th>\n",
       "      <th>System Architecture</th>\n",
       "      <th>Other Accessories</th>\n",
       "      <th>HDD Capacity</th>\n",
       "      <th>Rating</th>\n",
       "      <th>Names</th>\n",
       "      <th>Price</th>\n",
       "      <th>RAM (GB)</th>\n",
       "      <th>RAM Type Rank</th>\n",
       "      <th>Domestic Warranty_in_year</th>\n",
       "      <th>SSD (GB)</th>\n",
       "      <th>HDD (GB)</th>\n",
       "      <th>Expandable Memory (GB)</th>\n",
       "      <th>BRAND</th>\n",
       "      <th>Brand_Names</th>\n",
       "      <th>ASUS</th>\n",
       "      <th>Acer</th>\n",
       "      <th>Apple</th>\n",
       "      <th>DELL</th>\n",
       "      <th>HP</th>\n",
       "      <th>Infinix</th>\n",
       "      <th>Lenovo</th>\n",
       "      <th>MICROSOFT</th>\n",
       "      <th>MSI</th>\n",
       "      <th>SAMSUNG</th>\n",
       "      <th>others</th>\n",
       "      <th>Screen Size (Inch)</th>\n",
       "      <th>drive_HDD</th>\n",
       "      <th>drive_Hybrid</th>\n",
       "      <th>drive_SSD</th>\n",
       "      <th>drive_eMMC</th>\n",
       "      <th>Processor Generation_intel</th>\n",
       "      <th>Dedicated Graphic Memory Capacity (GB)</th>\n",
       "      <th>Processor_AMD</th>\n",
       "      <th>Processor_Apple</th>\n",
       "      <th>Processor_Intel</th>\n",
       "      <th>Processor_MediaTek</th>\n",
       "      <th>Processor_Qualcomm</th>\n",
       "      <th>Apple_chips</th>\n",
       "      <th>Processor_variant_new</th>\n",
       "      <th>Expandable SSD Capacity (GB)</th>\n",
       "      <th>GPU_AMD</th>\n",
       "      <th>GPU_Intel</th>\n",
       "      <th>GPU_MediaTek</th>\n",
       "      <th>GPU_NA</th>\n",
       "      <th>GPU_NVIDIA</th>\n",
       "      <th>GPU_Qualcomm</th>\n",
       "      <th>Os_Rank</th>\n",
       "      <th>Laptop_type</th>\n",
       "      <th>Screen_res (pixel)</th>\n",
       "    </tr>\n",
       "  </thead>\n",
       "  <tbody>\n",
       "    <tr>\n",
       "      <th>691</th>\n",
       "      <td>Manufacturer Defect</td>\n",
       "      <td>NaN</td>\n",
       "      <td>0</td>\n",
       "      <td>1</td>\n",
       "      <td>NaN</td>\n",
       "      <td>13th Gen</td>\n",
       "      <td>1920 x 1080 pixel</td>\n",
       "      <td>Processing &amp; Multitasking</td>\n",
       "      <td>0</td>\n",
       "      <td>0</td>\n",
       "      <td>Core i3</td>\n",
       "      <td>DDR4</td>\n",
       "      <td>NaN</td>\n",
       "      <td>0</td>\n",
       "      <td>NaN</td>\n",
       "      <td>Windows 11 Home</td>\n",
       "      <td>X1504VA-NJ322WS</td>\n",
       "      <td>39.62 cm (15.6 inch)</td>\n",
       "      <td>NaN</td>\n",
       "      <td>Yes</td>\n",
       "      <td>Intel</td>\n",
       "      <td>SSD</td>\n",
       "      <td>Laptop</td>\n",
       "      <td>512 GB</td>\n",
       "      <td>1 year Domestic Warranty</td>\n",
       "      <td>Vivobook 15</td>\n",
       "      <td>8 GB</td>\n",
       "      <td>Intel</td>\n",
       "      <td>NaN</td>\n",
       "      <td>NaN</td>\n",
       "      <td>0</td>\n",
       "      <td>NaN</td>\n",
       "      <td>0 GB</td>\n",
       "      <td>NaN</td>\n",
       "      <td>0 GB</td>\n",
       "      <td>NaN</td>\n",
       "      <td>4</td>\n",
       "      <td>NaN</td>\n",
       "      <td>NaN</td>\n",
       "      <td>NaN</td>\n",
       "      <td>NaN</td>\n",
       "      <td>NaN</td>\n",
       "      <td>0 GB</td>\n",
       "      <td>3.9</td>\n",
       "      <td>ASUS Intel Core i3 13th Gen - (8 GB/512 GB SSD...</td>\n",
       "      <td>38490</td>\n",
       "      <td>8</td>\n",
       "      <td>0</td>\n",
       "      <td>0</td>\n",
       "      <td>512</td>\n",
       "      <td>0</td>\n",
       "      <td>0</td>\n",
       "      <td>ASUS</td>\n",
       "      <td>ASUS</td>\n",
       "      <td>1</td>\n",
       "      <td>0</td>\n",
       "      <td>0</td>\n",
       "      <td>0</td>\n",
       "      <td>0</td>\n",
       "      <td>0</td>\n",
       "      <td>0</td>\n",
       "      <td>0</td>\n",
       "      <td>0</td>\n",
       "      <td>0</td>\n",
       "      <td>0</td>\n",
       "      <td>15.6</td>\n",
       "      <td>0</td>\n",
       "      <td>0</td>\n",
       "      <td>1</td>\n",
       "      <td>0</td>\n",
       "      <td>13</td>\n",
       "      <td>0.0</td>\n",
       "      <td>0</td>\n",
       "      <td>0</td>\n",
       "      <td>1</td>\n",
       "      <td>0</td>\n",
       "      <td>0</td>\n",
       "      <td>0.0</td>\n",
       "      <td>0</td>\n",
       "      <td>0</td>\n",
       "      <td>0</td>\n",
       "      <td>1</td>\n",
       "      <td>0</td>\n",
       "      <td>0</td>\n",
       "      <td>0</td>\n",
       "      <td>0</td>\n",
       "      <td>7</td>\n",
       "      <td>2</td>\n",
       "      <td>2073600</td>\n",
       "    </tr>\n",
       "  </tbody>\n",
       "</table>\n",
       "</div>"
      ],
      "text/plain": [
       "     Covered in Warranty Processor Variant  Finger Print Sensor  \\\n",
       "691  Manufacturer Defect               NaN                    0   \n",
       "\n",
       "     MS Office Provided Weight Processor Generation  Screen Resolution  \\\n",
       "691                   1    NaN             13th Gen  1920 x 1080 pixel   \n",
       "\n",
       "                  Suitable For  Backlit Keyboard  Touchscreen Processor Name  \\\n",
       "691  Processing & Multitasking                 0            0        Core i3   \n",
       "\n",
       "    RAM Type Screen Type Domestic Warranty Series Operating System  \\\n",
       "691     DDR4         NaN                 0    NaN  Windows 11 Home   \n",
       "\n",
       "        Model Number           Screen Size USB Port  SSD Processor Brand  \\\n",
       "691  X1504VA-NJ322WS  39.62 cm (15.6 inch)      NaN  Yes           Intel   \n",
       "\n",
       "    Storage Type    Type SSD Capacity          Warranty Summary   Model Name  \\\n",
       "691          SSD  Laptop       512 GB  1 year Domestic Warranty  Vivobook 15   \n",
       "\n",
       "      RAM Graphic Processor Dimensions OS Architecture  Face Recognition  \\\n",
       "691  8 GB             Intel        NaN             NaN                 0   \n",
       "\n",
       "    Dedicated Graphic Memory Type Dedicated Graphic Memory Capacity  \\\n",
       "691                           NaN                              0 GB   \n",
       "\n",
       "    Expandable Memory Expandable SSD Capacity Supported Operating System  \\\n",
       "691               NaN                    0 GB                        NaN   \n",
       "\n",
       "     Number of Cores RAM Frequency Chipset Included Software  \\\n",
       "691                4           NaN     NaN               NaN   \n",
       "\n",
       "    System Architecture Other Accessories HDD Capacity  Rating  \\\n",
       "691                 NaN               NaN         0 GB     3.9   \n",
       "\n",
       "                                                 Names  Price  RAM (GB)  \\\n",
       "691  ASUS Intel Core i3 13th Gen - (8 GB/512 GB SSD...  38490         8   \n",
       "\n",
       "     RAM Type Rank  Domestic Warranty_in_year  SSD (GB)  HDD (GB)  \\\n",
       "691              0                          0       512         0   \n",
       "\n",
       "     Expandable Memory (GB) BRAND Brand_Names  ASUS  Acer  Apple  DELL  HP  \\\n",
       "691                       0  ASUS        ASUS     1     0      0     0   0   \n",
       "\n",
       "     Infinix  Lenovo  MICROSOFT  MSI  SAMSUNG  others  Screen Size (Inch)  \\\n",
       "691        0       0          0    0        0       0                15.6   \n",
       "\n",
       "     drive_HDD  drive_Hybrid  drive_SSD  drive_eMMC  \\\n",
       "691          0             0          1           0   \n",
       "\n",
       "     Processor Generation_intel  Dedicated Graphic Memory Capacity (GB)  \\\n",
       "691                          13                                     0.0   \n",
       "\n",
       "     Processor_AMD  Processor_Apple  Processor_Intel  Processor_MediaTek  \\\n",
       "691              0                0                1                   0   \n",
       "\n",
       "     Processor_Qualcomm  Apple_chips  Processor_variant_new  \\\n",
       "691                   0          0.0                      0   \n",
       "\n",
       "     Expandable SSD Capacity (GB)  GPU_AMD  GPU_Intel  GPU_MediaTek  GPU_NA  \\\n",
       "691                             0        0          1             0       0   \n",
       "\n",
       "     GPU_NVIDIA  GPU_Qualcomm  Os_Rank  Laptop_type  Screen_res (pixel)  \n",
       "691           0             0        7            2             2073600  "
      ]
     },
     "execution_count": 187,
     "metadata": {},
     "output_type": "execute_result"
    }
   ],
   "source": [
    "df.sample()"
   ]
  },
  {
   "cell_type": "markdown",
   "id": "1b7dfc3c-1d59-45f8-b926-cc31266e1552",
   "metadata": {},
   "source": [
    "# **PRICE PREDICTION MODEL**"
   ]
  },
  {
   "cell_type": "markdown",
   "id": "ba1a1150-f3de-4bca-8b0a-249df9c838d4",
   "metadata": {},
   "source": [
    "## Linear Regression 📈"
   ]
  },
  {
   "cell_type": "markdown",
   "id": "20953bf0-550a-47fa-b2df-cfd9681160fb",
   "metadata": {},
   "source": [
    "##### _Numberic Columns_:"
   ]
  },
  {
   "cell_type": "code",
   "execution_count": 191,
   "id": "65c9e385-a14a-4cf9-b907-03f528215bec",
   "metadata": {},
   "outputs": [
    {
     "data": {
      "text/html": [
       "<div>\n",
       "<style scoped>\n",
       "    .dataframe tbody tr th:only-of-type {\n",
       "        vertical-align: middle;\n",
       "    }\n",
       "\n",
       "    .dataframe tbody tr th {\n",
       "        vertical-align: top;\n",
       "    }\n",
       "\n",
       "    .dataframe thead th {\n",
       "        text-align: right;\n",
       "    }\n",
       "</style>\n",
       "<table border=\"1\" class=\"dataframe\">\n",
       "  <thead>\n",
       "    <tr style=\"text-align: right;\">\n",
       "      <th></th>\n",
       "      <th>Finger Print Sensor</th>\n",
       "      <th>MS Office Provided</th>\n",
       "      <th>Backlit Keyboard</th>\n",
       "      <th>Touchscreen</th>\n",
       "      <th>Face Recognition</th>\n",
       "      <th>Number of Cores</th>\n",
       "      <th>Rating</th>\n",
       "      <th>Price</th>\n",
       "      <th>RAM (GB)</th>\n",
       "      <th>RAM Type Rank</th>\n",
       "      <th>Domestic Warranty_in_year</th>\n",
       "      <th>SSD (GB)</th>\n",
       "      <th>HDD (GB)</th>\n",
       "      <th>Expandable Memory (GB)</th>\n",
       "      <th>ASUS</th>\n",
       "      <th>Acer</th>\n",
       "      <th>Apple</th>\n",
       "      <th>DELL</th>\n",
       "      <th>HP</th>\n",
       "      <th>Infinix</th>\n",
       "      <th>Lenovo</th>\n",
       "      <th>MICROSOFT</th>\n",
       "      <th>MSI</th>\n",
       "      <th>SAMSUNG</th>\n",
       "      <th>others</th>\n",
       "      <th>Screen Size (Inch)</th>\n",
       "      <th>drive_HDD</th>\n",
       "      <th>drive_Hybrid</th>\n",
       "      <th>drive_SSD</th>\n",
       "      <th>drive_eMMC</th>\n",
       "      <th>Processor Generation_intel</th>\n",
       "      <th>Dedicated Graphic Memory Capacity (GB)</th>\n",
       "      <th>Processor_AMD</th>\n",
       "      <th>Processor_Apple</th>\n",
       "      <th>Processor_Intel</th>\n",
       "      <th>Processor_MediaTek</th>\n",
       "      <th>Processor_Qualcomm</th>\n",
       "      <th>Apple_chips</th>\n",
       "      <th>Processor_variant_new</th>\n",
       "      <th>Expandable SSD Capacity (GB)</th>\n",
       "      <th>GPU_AMD</th>\n",
       "      <th>GPU_Intel</th>\n",
       "      <th>GPU_MediaTek</th>\n",
       "      <th>GPU_NA</th>\n",
       "      <th>GPU_NVIDIA</th>\n",
       "      <th>GPU_Qualcomm</th>\n",
       "      <th>Os_Rank</th>\n",
       "      <th>Laptop_type</th>\n",
       "      <th>Screen_res (pixel)</th>\n",
       "    </tr>\n",
       "  </thead>\n",
       "  <tbody>\n",
       "    <tr>\n",
       "      <th>0</th>\n",
       "      <td>0</td>\n",
       "      <td>0</td>\n",
       "      <td>0</td>\n",
       "      <td>0</td>\n",
       "      <td>0</td>\n",
       "      <td>4</td>\n",
       "      <td>3.8</td>\n",
       "      <td>19990</td>\n",
       "      <td>8</td>\n",
       "      <td>4</td>\n",
       "      <td>0</td>\n",
       "      <td>256</td>\n",
       "      <td>0</td>\n",
       "      <td>0</td>\n",
       "      <td>0</td>\n",
       "      <td>1</td>\n",
       "      <td>0</td>\n",
       "      <td>0</td>\n",
       "      <td>0</td>\n",
       "      <td>0</td>\n",
       "      <td>0</td>\n",
       "      <td>0</td>\n",
       "      <td>0</td>\n",
       "      <td>0</td>\n",
       "      <td>0</td>\n",
       "      <td>14.0</td>\n",
       "      <td>0</td>\n",
       "      <td>0</td>\n",
       "      <td>1</td>\n",
       "      <td>0</td>\n",
       "      <td>0</td>\n",
       "      <td>0.0</td>\n",
       "      <td>0</td>\n",
       "      <td>0</td>\n",
       "      <td>1</td>\n",
       "      <td>0</td>\n",
       "      <td>0</td>\n",
       "      <td>0.0</td>\n",
       "      <td>1</td>\n",
       "      <td>0</td>\n",
       "      <td>0</td>\n",
       "      <td>1</td>\n",
       "      <td>0</td>\n",
       "      <td>0</td>\n",
       "      <td>0</td>\n",
       "      <td>0</td>\n",
       "      <td>2</td>\n",
       "      <td>0</td>\n",
       "      <td>2073600</td>\n",
       "    </tr>\n",
       "    <tr>\n",
       "      <th>1</th>\n",
       "      <td>0</td>\n",
       "      <td>0</td>\n",
       "      <td>1</td>\n",
       "      <td>0</td>\n",
       "      <td>0</td>\n",
       "      <td>4</td>\n",
       "      <td>4.1</td>\n",
       "      <td>44990</td>\n",
       "      <td>16</td>\n",
       "      <td>0</td>\n",
       "      <td>0</td>\n",
       "      <td>512</td>\n",
       "      <td>0</td>\n",
       "      <td>0</td>\n",
       "      <td>0</td>\n",
       "      <td>1</td>\n",
       "      <td>0</td>\n",
       "      <td>0</td>\n",
       "      <td>0</td>\n",
       "      <td>0</td>\n",
       "      <td>0</td>\n",
       "      <td>0</td>\n",
       "      <td>0</td>\n",
       "      <td>0</td>\n",
       "      <td>0</td>\n",
       "      <td>14.0</td>\n",
       "      <td>0</td>\n",
       "      <td>0</td>\n",
       "      <td>1</td>\n",
       "      <td>0</td>\n",
       "      <td>12</td>\n",
       "      <td>0.0</td>\n",
       "      <td>0</td>\n",
       "      <td>0</td>\n",
       "      <td>1</td>\n",
       "      <td>0</td>\n",
       "      <td>0</td>\n",
       "      <td>0.0</td>\n",
       "      <td>2</td>\n",
       "      <td>0</td>\n",
       "      <td>0</td>\n",
       "      <td>1</td>\n",
       "      <td>0</td>\n",
       "      <td>0</td>\n",
       "      <td>0</td>\n",
       "      <td>0</td>\n",
       "      <td>7</td>\n",
       "      <td>3</td>\n",
       "      <td>2073600</td>\n",
       "    </tr>\n",
       "    <tr>\n",
       "      <th>2</th>\n",
       "      <td>0</td>\n",
       "      <td>0</td>\n",
       "      <td>0</td>\n",
       "      <td>1</td>\n",
       "      <td>0</td>\n",
       "      <td>8</td>\n",
       "      <td>3.3</td>\n",
       "      <td>11988</td>\n",
       "      <td>4</td>\n",
       "      <td>2</td>\n",
       "      <td>0</td>\n",
       "      <td>0</td>\n",
       "      <td>0</td>\n",
       "      <td>0</td>\n",
       "      <td>0</td>\n",
       "      <td>0</td>\n",
       "      <td>0</td>\n",
       "      <td>0</td>\n",
       "      <td>1</td>\n",
       "      <td>0</td>\n",
       "      <td>0</td>\n",
       "      <td>0</td>\n",
       "      <td>0</td>\n",
       "      <td>0</td>\n",
       "      <td>0</td>\n",
       "      <td>11.6</td>\n",
       "      <td>0</td>\n",
       "      <td>0</td>\n",
       "      <td>0</td>\n",
       "      <td>1</td>\n",
       "      <td>0</td>\n",
       "      <td>0.0</td>\n",
       "      <td>0</td>\n",
       "      <td>0</td>\n",
       "      <td>0</td>\n",
       "      <td>1</td>\n",
       "      <td>0</td>\n",
       "      <td>0.0</td>\n",
       "      <td>0</td>\n",
       "      <td>0</td>\n",
       "      <td>0</td>\n",
       "      <td>0</td>\n",
       "      <td>1</td>\n",
       "      <td>0</td>\n",
       "      <td>0</td>\n",
       "      <td>0</td>\n",
       "      <td>2</td>\n",
       "      <td>0</td>\n",
       "      <td>1049088</td>\n",
       "    </tr>\n",
       "    <tr>\n",
       "      <th>3</th>\n",
       "      <td>0</td>\n",
       "      <td>0</td>\n",
       "      <td>0</td>\n",
       "      <td>0</td>\n",
       "      <td>0</td>\n",
       "      <td>4</td>\n",
       "      <td>4.3</td>\n",
       "      <td>51990</td>\n",
       "      <td>16</td>\n",
       "      <td>0</td>\n",
       "      <td>0</td>\n",
       "      <td>512</td>\n",
       "      <td>0</td>\n",
       "      <td>0</td>\n",
       "      <td>0</td>\n",
       "      <td>0</td>\n",
       "      <td>0</td>\n",
       "      <td>0</td>\n",
       "      <td>0</td>\n",
       "      <td>0</td>\n",
       "      <td>0</td>\n",
       "      <td>0</td>\n",
       "      <td>1</td>\n",
       "      <td>0</td>\n",
       "      <td>0</td>\n",
       "      <td>15.6</td>\n",
       "      <td>0</td>\n",
       "      <td>0</td>\n",
       "      <td>1</td>\n",
       "      <td>0</td>\n",
       "      <td>12</td>\n",
       "      <td>4.0</td>\n",
       "      <td>0</td>\n",
       "      <td>0</td>\n",
       "      <td>1</td>\n",
       "      <td>0</td>\n",
       "      <td>0</td>\n",
       "      <td>0.0</td>\n",
       "      <td>3</td>\n",
       "      <td>0</td>\n",
       "      <td>0</td>\n",
       "      <td>0</td>\n",
       "      <td>0</td>\n",
       "      <td>0</td>\n",
       "      <td>1</td>\n",
       "      <td>0</td>\n",
       "      <td>7</td>\n",
       "      <td>7</td>\n",
       "      <td>2073600</td>\n",
       "    </tr>\n",
       "    <tr>\n",
       "      <th>4</th>\n",
       "      <td>0</td>\n",
       "      <td>1</td>\n",
       "      <td>0</td>\n",
       "      <td>0</td>\n",
       "      <td>0</td>\n",
       "      <td>4</td>\n",
       "      <td>4.2</td>\n",
       "      <td>37990</td>\n",
       "      <td>8</td>\n",
       "      <td>0</td>\n",
       "      <td>0</td>\n",
       "      <td>512</td>\n",
       "      <td>0</td>\n",
       "      <td>0</td>\n",
       "      <td>0</td>\n",
       "      <td>0</td>\n",
       "      <td>0</td>\n",
       "      <td>0</td>\n",
       "      <td>1</td>\n",
       "      <td>0</td>\n",
       "      <td>0</td>\n",
       "      <td>0</td>\n",
       "      <td>0</td>\n",
       "      <td>0</td>\n",
       "      <td>0</td>\n",
       "      <td>15.6</td>\n",
       "      <td>0</td>\n",
       "      <td>0</td>\n",
       "      <td>1</td>\n",
       "      <td>0</td>\n",
       "      <td>12</td>\n",
       "      <td>0.0</td>\n",
       "      <td>0</td>\n",
       "      <td>0</td>\n",
       "      <td>1</td>\n",
       "      <td>0</td>\n",
       "      <td>0</td>\n",
       "      <td>0.0</td>\n",
       "      <td>2</td>\n",
       "      <td>0</td>\n",
       "      <td>0</td>\n",
       "      <td>1</td>\n",
       "      <td>0</td>\n",
       "      <td>0</td>\n",
       "      <td>0</td>\n",
       "      <td>0</td>\n",
       "      <td>7</td>\n",
       "      <td>3</td>\n",
       "      <td>2073600</td>\n",
       "    </tr>\n",
       "    <tr>\n",
       "      <th>...</th>\n",
       "      <td>...</td>\n",
       "      <td>...</td>\n",
       "      <td>...</td>\n",
       "      <td>...</td>\n",
       "      <td>...</td>\n",
       "      <td>...</td>\n",
       "      <td>...</td>\n",
       "      <td>...</td>\n",
       "      <td>...</td>\n",
       "      <td>...</td>\n",
       "      <td>...</td>\n",
       "      <td>...</td>\n",
       "      <td>...</td>\n",
       "      <td>...</td>\n",
       "      <td>...</td>\n",
       "      <td>...</td>\n",
       "      <td>...</td>\n",
       "      <td>...</td>\n",
       "      <td>...</td>\n",
       "      <td>...</td>\n",
       "      <td>...</td>\n",
       "      <td>...</td>\n",
       "      <td>...</td>\n",
       "      <td>...</td>\n",
       "      <td>...</td>\n",
       "      <td>...</td>\n",
       "      <td>...</td>\n",
       "      <td>...</td>\n",
       "      <td>...</td>\n",
       "      <td>...</td>\n",
       "      <td>...</td>\n",
       "      <td>...</td>\n",
       "      <td>...</td>\n",
       "      <td>...</td>\n",
       "      <td>...</td>\n",
       "      <td>...</td>\n",
       "      <td>...</td>\n",
       "      <td>...</td>\n",
       "      <td>...</td>\n",
       "      <td>...</td>\n",
       "      <td>...</td>\n",
       "      <td>...</td>\n",
       "      <td>...</td>\n",
       "      <td>...</td>\n",
       "      <td>...</td>\n",
       "      <td>...</td>\n",
       "      <td>...</td>\n",
       "      <td>...</td>\n",
       "      <td>...</td>\n",
       "    </tr>\n",
       "    <tr>\n",
       "      <th>950</th>\n",
       "      <td>0</td>\n",
       "      <td>1</td>\n",
       "      <td>1</td>\n",
       "      <td>0</td>\n",
       "      <td>0</td>\n",
       "      <td>10</td>\n",
       "      <td>NaN</td>\n",
       "      <td>79099</td>\n",
       "      <td>8</td>\n",
       "      <td>0</td>\n",
       "      <td>0</td>\n",
       "      <td>512</td>\n",
       "      <td>0</td>\n",
       "      <td>0</td>\n",
       "      <td>0</td>\n",
       "      <td>0</td>\n",
       "      <td>0</td>\n",
       "      <td>0</td>\n",
       "      <td>1</td>\n",
       "      <td>0</td>\n",
       "      <td>0</td>\n",
       "      <td>0</td>\n",
       "      <td>0</td>\n",
       "      <td>0</td>\n",
       "      <td>0</td>\n",
       "      <td>15.6</td>\n",
       "      <td>0</td>\n",
       "      <td>0</td>\n",
       "      <td>1</td>\n",
       "      <td>0</td>\n",
       "      <td>12</td>\n",
       "      <td>4.0</td>\n",
       "      <td>0</td>\n",
       "      <td>0</td>\n",
       "      <td>1</td>\n",
       "      <td>0</td>\n",
       "      <td>0</td>\n",
       "      <td>0.0</td>\n",
       "      <td>0</td>\n",
       "      <td>0</td>\n",
       "      <td>0</td>\n",
       "      <td>0</td>\n",
       "      <td>0</td>\n",
       "      <td>0</td>\n",
       "      <td>1</td>\n",
       "      <td>0</td>\n",
       "      <td>7</td>\n",
       "      <td>7</td>\n",
       "      <td>2073600</td>\n",
       "    </tr>\n",
       "    <tr>\n",
       "      <th>951</th>\n",
       "      <td>0</td>\n",
       "      <td>1</td>\n",
       "      <td>1</td>\n",
       "      <td>0</td>\n",
       "      <td>0</td>\n",
       "      <td>4</td>\n",
       "      <td>4.2</td>\n",
       "      <td>69990</td>\n",
       "      <td>16</td>\n",
       "      <td>0</td>\n",
       "      <td>0</td>\n",
       "      <td>512</td>\n",
       "      <td>0</td>\n",
       "      <td>0</td>\n",
       "      <td>1</td>\n",
       "      <td>0</td>\n",
       "      <td>0</td>\n",
       "      <td>0</td>\n",
       "      <td>0</td>\n",
       "      <td>0</td>\n",
       "      <td>0</td>\n",
       "      <td>0</td>\n",
       "      <td>0</td>\n",
       "      <td>0</td>\n",
       "      <td>0</td>\n",
       "      <td>16.0</td>\n",
       "      <td>0</td>\n",
       "      <td>0</td>\n",
       "      <td>1</td>\n",
       "      <td>0</td>\n",
       "      <td>12</td>\n",
       "      <td>4.0</td>\n",
       "      <td>0</td>\n",
       "      <td>0</td>\n",
       "      <td>1</td>\n",
       "      <td>0</td>\n",
       "      <td>0</td>\n",
       "      <td>0.0</td>\n",
       "      <td>3</td>\n",
       "      <td>0</td>\n",
       "      <td>0</td>\n",
       "      <td>0</td>\n",
       "      <td>0</td>\n",
       "      <td>0</td>\n",
       "      <td>1</td>\n",
       "      <td>0</td>\n",
       "      <td>7</td>\n",
       "      <td>7</td>\n",
       "      <td>2304000</td>\n",
       "    </tr>\n",
       "    <tr>\n",
       "      <th>955</th>\n",
       "      <td>1</td>\n",
       "      <td>1</td>\n",
       "      <td>1</td>\n",
       "      <td>0</td>\n",
       "      <td>0</td>\n",
       "      <td>10</td>\n",
       "      <td>4.4</td>\n",
       "      <td>59990</td>\n",
       "      <td>16</td>\n",
       "      <td>2</td>\n",
       "      <td>1</td>\n",
       "      <td>512</td>\n",
       "      <td>0</td>\n",
       "      <td>0</td>\n",
       "      <td>0</td>\n",
       "      <td>0</td>\n",
       "      <td>0</td>\n",
       "      <td>0</td>\n",
       "      <td>0</td>\n",
       "      <td>0</td>\n",
       "      <td>0</td>\n",
       "      <td>0</td>\n",
       "      <td>0</td>\n",
       "      <td>1</td>\n",
       "      <td>0</td>\n",
       "      <td>15.6</td>\n",
       "      <td>0</td>\n",
       "      <td>0</td>\n",
       "      <td>1</td>\n",
       "      <td>0</td>\n",
       "      <td>12</td>\n",
       "      <td>0.0</td>\n",
       "      <td>0</td>\n",
       "      <td>0</td>\n",
       "      <td>1</td>\n",
       "      <td>0</td>\n",
       "      <td>0</td>\n",
       "      <td>0.0</td>\n",
       "      <td>2</td>\n",
       "      <td>0</td>\n",
       "      <td>0</td>\n",
       "      <td>1</td>\n",
       "      <td>0</td>\n",
       "      <td>0</td>\n",
       "      <td>0</td>\n",
       "      <td>0</td>\n",
       "      <td>7</td>\n",
       "      <td>3</td>\n",
       "      <td>2073600</td>\n",
       "    </tr>\n",
       "    <tr>\n",
       "      <th>958</th>\n",
       "      <td>0</td>\n",
       "      <td>1</td>\n",
       "      <td>0</td>\n",
       "      <td>0</td>\n",
       "      <td>0</td>\n",
       "      <td>2</td>\n",
       "      <td>4.3</td>\n",
       "      <td>36990</td>\n",
       "      <td>8</td>\n",
       "      <td>0</td>\n",
       "      <td>1</td>\n",
       "      <td>256</td>\n",
       "      <td>1000</td>\n",
       "      <td>16</td>\n",
       "      <td>0</td>\n",
       "      <td>0</td>\n",
       "      <td>0</td>\n",
       "      <td>0</td>\n",
       "      <td>1</td>\n",
       "      <td>0</td>\n",
       "      <td>0</td>\n",
       "      <td>0</td>\n",
       "      <td>0</td>\n",
       "      <td>0</td>\n",
       "      <td>0</td>\n",
       "      <td>15.6</td>\n",
       "      <td>0</td>\n",
       "      <td>1</td>\n",
       "      <td>0</td>\n",
       "      <td>0</td>\n",
       "      <td>0</td>\n",
       "      <td>0.0</td>\n",
       "      <td>1</td>\n",
       "      <td>0</td>\n",
       "      <td>0</td>\n",
       "      <td>0</td>\n",
       "      <td>0</td>\n",
       "      <td>0.0</td>\n",
       "      <td>2</td>\n",
       "      <td>0</td>\n",
       "      <td>1</td>\n",
       "      <td>0</td>\n",
       "      <td>0</td>\n",
       "      <td>0</td>\n",
       "      <td>0</td>\n",
       "      <td>0</td>\n",
       "      <td>4</td>\n",
       "      <td>2</td>\n",
       "      <td>2073600</td>\n",
       "    </tr>\n",
       "    <tr>\n",
       "      <th>959</th>\n",
       "      <td>1</td>\n",
       "      <td>1</td>\n",
       "      <td>0</td>\n",
       "      <td>0</td>\n",
       "      <td>0</td>\n",
       "      <td>4</td>\n",
       "      <td>3.9</td>\n",
       "      <td>47890</td>\n",
       "      <td>8</td>\n",
       "      <td>0</td>\n",
       "      <td>1</td>\n",
       "      <td>512</td>\n",
       "      <td>0</td>\n",
       "      <td>0</td>\n",
       "      <td>1</td>\n",
       "      <td>0</td>\n",
       "      <td>0</td>\n",
       "      <td>0</td>\n",
       "      <td>0</td>\n",
       "      <td>0</td>\n",
       "      <td>0</td>\n",
       "      <td>0</td>\n",
       "      <td>0</td>\n",
       "      <td>0</td>\n",
       "      <td>0</td>\n",
       "      <td>14.0</td>\n",
       "      <td>0</td>\n",
       "      <td>0</td>\n",
       "      <td>1</td>\n",
       "      <td>0</td>\n",
       "      <td>13</td>\n",
       "      <td>0.0</td>\n",
       "      <td>0</td>\n",
       "      <td>0</td>\n",
       "      <td>1</td>\n",
       "      <td>0</td>\n",
       "      <td>0</td>\n",
       "      <td>0.0</td>\n",
       "      <td>2</td>\n",
       "      <td>0</td>\n",
       "      <td>0</td>\n",
       "      <td>1</td>\n",
       "      <td>0</td>\n",
       "      <td>0</td>\n",
       "      <td>0</td>\n",
       "      <td>0</td>\n",
       "      <td>7</td>\n",
       "      <td>3</td>\n",
       "      <td>2073600</td>\n",
       "    </tr>\n",
       "  </tbody>\n",
       "</table>\n",
       "<p>548 rows × 49 columns</p>\n",
       "</div>"
      ],
      "text/plain": [
       "     Finger Print Sensor  MS Office Provided  Backlit Keyboard  Touchscreen  \\\n",
       "0                      0                   0                 0            0   \n",
       "1                      0                   0                 1            0   \n",
       "2                      0                   0                 0            1   \n",
       "3                      0                   0                 0            0   \n",
       "4                      0                   1                 0            0   \n",
       "..                   ...                 ...               ...          ...   \n",
       "950                    0                   1                 1            0   \n",
       "951                    0                   1                 1            0   \n",
       "955                    1                   1                 1            0   \n",
       "958                    0                   1                 0            0   \n",
       "959                    1                   1                 0            0   \n",
       "\n",
       "     Face Recognition  Number of Cores  Rating  Price  RAM (GB)  \\\n",
       "0                   0                4     3.8  19990         8   \n",
       "1                   0                4     4.1  44990        16   \n",
       "2                   0                8     3.3  11988         4   \n",
       "3                   0                4     4.3  51990        16   \n",
       "4                   0                4     4.2  37990         8   \n",
       "..                ...              ...     ...    ...       ...   \n",
       "950                 0               10     NaN  79099         8   \n",
       "951                 0                4     4.2  69990        16   \n",
       "955                 0               10     4.4  59990        16   \n",
       "958                 0                2     4.3  36990         8   \n",
       "959                 0                4     3.9  47890         8   \n",
       "\n",
       "     RAM Type Rank  Domestic Warranty_in_year  SSD (GB)  HDD (GB)  \\\n",
       "0                4                          0       256         0   \n",
       "1                0                          0       512         0   \n",
       "2                2                          0         0         0   \n",
       "3                0                          0       512         0   \n",
       "4                0                          0       512         0   \n",
       "..             ...                        ...       ...       ...   \n",
       "950              0                          0       512         0   \n",
       "951              0                          0       512         0   \n",
       "955              2                          1       512         0   \n",
       "958              0                          1       256      1000   \n",
       "959              0                          1       512         0   \n",
       "\n",
       "     Expandable Memory (GB)  ASUS  Acer  Apple  DELL  HP  Infinix  Lenovo  \\\n",
       "0                         0     0     1      0     0   0        0       0   \n",
       "1                         0     0     1      0     0   0        0       0   \n",
       "2                         0     0     0      0     0   1        0       0   \n",
       "3                         0     0     0      0     0   0        0       0   \n",
       "4                         0     0     0      0     0   1        0       0   \n",
       "..                      ...   ...   ...    ...   ...  ..      ...     ...   \n",
       "950                       0     0     0      0     0   1        0       0   \n",
       "951                       0     1     0      0     0   0        0       0   \n",
       "955                       0     0     0      0     0   0        0       0   \n",
       "958                      16     0     0      0     0   1        0       0   \n",
       "959                       0     1     0      0     0   0        0       0   \n",
       "\n",
       "     MICROSOFT  MSI  SAMSUNG  others  Screen Size (Inch)  drive_HDD  \\\n",
       "0            0    0        0       0                14.0          0   \n",
       "1            0    0        0       0                14.0          0   \n",
       "2            0    0        0       0                11.6          0   \n",
       "3            0    1        0       0                15.6          0   \n",
       "4            0    0        0       0                15.6          0   \n",
       "..         ...  ...      ...     ...                 ...        ...   \n",
       "950          0    0        0       0                15.6          0   \n",
       "951          0    0        0       0                16.0          0   \n",
       "955          0    0        1       0                15.6          0   \n",
       "958          0    0        0       0                15.6          0   \n",
       "959          0    0        0       0                14.0          0   \n",
       "\n",
       "     drive_Hybrid  drive_SSD  drive_eMMC  Processor Generation_intel  \\\n",
       "0               0          1           0                           0   \n",
       "1               0          1           0                          12   \n",
       "2               0          0           1                           0   \n",
       "3               0          1           0                          12   \n",
       "4               0          1           0                          12   \n",
       "..            ...        ...         ...                         ...   \n",
       "950             0          1           0                          12   \n",
       "951             0          1           0                          12   \n",
       "955             0          1           0                          12   \n",
       "958             1          0           0                           0   \n",
       "959             0          1           0                          13   \n",
       "\n",
       "     Dedicated Graphic Memory Capacity (GB)  Processor_AMD  Processor_Apple  \\\n",
       "0                                       0.0              0                0   \n",
       "1                                       0.0              0                0   \n",
       "2                                       0.0              0                0   \n",
       "3                                       4.0              0                0   \n",
       "4                                       0.0              0                0   \n",
       "..                                      ...            ...              ...   \n",
       "950                                     4.0              0                0   \n",
       "951                                     4.0              0                0   \n",
       "955                                     0.0              0                0   \n",
       "958                                     0.0              1                0   \n",
       "959                                     0.0              0                0   \n",
       "\n",
       "     Processor_Intel  Processor_MediaTek  Processor_Qualcomm  Apple_chips  \\\n",
       "0                  1                   0                   0          0.0   \n",
       "1                  1                   0                   0          0.0   \n",
       "2                  0                   1                   0          0.0   \n",
       "3                  1                   0                   0          0.0   \n",
       "4                  1                   0                   0          0.0   \n",
       "..               ...                 ...                 ...          ...   \n",
       "950                1                   0                   0          0.0   \n",
       "951                1                   0                   0          0.0   \n",
       "955                1                   0                   0          0.0   \n",
       "958                0                   0                   0          0.0   \n",
       "959                1                   0                   0          0.0   \n",
       "\n",
       "     Processor_variant_new  Expandable SSD Capacity (GB)  GPU_AMD  GPU_Intel  \\\n",
       "0                        1                             0        0          1   \n",
       "1                        2                             0        0          1   \n",
       "2                        0                             0        0          0   \n",
       "3                        3                             0        0          0   \n",
       "4                        2                             0        0          1   \n",
       "..                     ...                           ...      ...        ...   \n",
       "950                      0                             0        0          0   \n",
       "951                      3                             0        0          0   \n",
       "955                      2                             0        0          1   \n",
       "958                      2                             0        1          0   \n",
       "959                      2                             0        0          1   \n",
       "\n",
       "     GPU_MediaTek  GPU_NA  GPU_NVIDIA  GPU_Qualcomm  Os_Rank  Laptop_type  \\\n",
       "0               0       0           0             0        2            0   \n",
       "1               0       0           0             0        7            3   \n",
       "2               1       0           0             0        2            0   \n",
       "3               0       0           1             0        7            7   \n",
       "4               0       0           0             0        7            3   \n",
       "..            ...     ...         ...           ...      ...          ...   \n",
       "950             0       0           1             0        7            7   \n",
       "951             0       0           1             0        7            7   \n",
       "955             0       0           0             0        7            3   \n",
       "958             0       0           0             0        4            2   \n",
       "959             0       0           0             0        7            3   \n",
       "\n",
       "     Screen_res (pixel)  \n",
       "0               2073600  \n",
       "1               2073600  \n",
       "2               1049088  \n",
       "3               2073600  \n",
       "4               2073600  \n",
       "..                  ...  \n",
       "950             2073600  \n",
       "951             2304000  \n",
       "955             2073600  \n",
       "958             2073600  \n",
       "959             2073600  \n",
       "\n",
       "[548 rows x 49 columns]"
      ]
     },
     "execution_count": 191,
     "metadata": {},
     "output_type": "execute_result"
    }
   ],
   "source": [
    "df.select_dtypes(include=['number'])"
   ]
  },
  {
   "cell_type": "markdown",
   "id": "c5adf1ac-13d2-4dbb-94f1-a3a0bfb86b9c",
   "metadata": {},
   "source": [
    "### _DATA_"
   ]
  },
  {
   "cell_type": "code",
   "execution_count": 193,
   "id": "716902be-d4fc-4e2d-844b-4aeac80942ba",
   "metadata": {},
   "outputs": [],
   "source": [
    "df2=df.select_dtypes(include=['number'])#As we are applying Linear REgression only Numberic columns are included"
   ]
  },
  {
   "cell_type": "code",
   "execution_count": 194,
   "id": "5bce9468-d18d-4dc6-afae-7e2fd2dffa3b",
   "metadata": {},
   "outputs": [],
   "source": [
    "df2['Rating'].fillna(value=df2.Rating.mean(),inplace=True)#Imputing NULL ratings with mean ratings\n"
   ]
  },
  {
   "cell_type": "code",
   "execution_count": 195,
   "id": "1cf102e5-3896-43c3-88d5-efb781d589e1",
   "metadata": {},
   "outputs": [],
   "source": [
    "#(WIth the Domain Knowledge we can eliminate the Fetures which can negatively impact our model )"
   ]
  },
  {
   "cell_type": "code",
   "execution_count": 196,
   "id": "19ad7edb-ba04-4817-943f-d0435fc11444",
   "metadata": {},
   "outputs": [
    {
     "data": {
      "text/plain": [
       "Finger Print Sensor                       0.015237\n",
       "MS Office Provided                        0.113146\n",
       "Backlit Keyboard                          0.297286\n",
       "Touchscreen                               0.197142\n",
       "Face Recognition                          0.017621\n",
       "Number of Cores                           0.464083\n",
       "Rating                                    0.237274\n",
       "Price                                     1.000000\n",
       "RAM (GB)                                  0.766697\n",
       "RAM Type Rank                             0.566023\n",
       "Domestic Warranty_in_year                 0.044794\n",
       "SSD (GB)                                  0.583948\n",
       "HDD (GB)                                 -0.057306\n",
       "Expandable Memory (GB)                   -0.022308\n",
       "ASUS                                      0.018461\n",
       "Acer                                     -0.108780\n",
       "Apple                                     0.504877\n",
       "DELL                                     -0.068857\n",
       "HP                                       -0.126486\n",
       "Infinix                                  -0.044831\n",
       "Lenovo                                   -0.108656\n",
       "MICROSOFT                                 0.197851\n",
       "MSI                                       0.122633\n",
       "SAMSUNG                                   0.089990\n",
       "others                                   -0.123365\n",
       "Screen Size (Inch)                       -0.012899\n",
       "drive_HDD                                -0.055057\n",
       "drive_Hybrid                             -0.038043\n",
       "drive_SSD                                 0.120951\n",
       "drive_eMMC                               -0.109776\n",
       "Processor Generation_intel               -0.080597\n",
       "Dedicated Graphic Memory Capacity (GB)    0.365869\n",
       "Processor_AMD                            -0.191014\n",
       "Processor_Apple                           0.504877\n",
       "Processor_Intel                          -0.085611\n",
       "Processor_MediaTek                       -0.064444\n",
       "Processor_Qualcomm                        0.207040\n",
       "Apple_chips                               0.536844\n",
       "Processor_variant_new                     0.057682\n",
       "Expandable SSD Capacity (GB)              0.234964\n",
       "GPU_AMD                                  -0.236549\n",
       "GPU_Intel                                -0.270394\n",
       "GPU_MediaTek                             -0.064444\n",
       "GPU_NA                                    0.390725\n",
       "GPU_NVIDIA                                0.271376\n",
       "GPU_Qualcomm                              0.211381\n",
       "Os_Rank                                   0.385102\n",
       "Laptop_type                               0.286978\n",
       "Screen_res (pixel)                        0.751716\n",
       "Name: Price, dtype: float64"
      ]
     },
     "execution_count": 196,
     "metadata": {},
     "output_type": "execute_result"
    }
   ],
   "source": [
    "df2.corr()['Price'] # Checking the Co orealtion between the Target Variable and Features"
   ]
  },
  {
   "cell_type": "code",
   "execution_count": 197,
   "id": "82a055ab-a402-4f55-bd34-8d29e8406d2f",
   "metadata": {},
   "outputs": [],
   "source": [
    "df2.drop(columns=['Domestic Warranty_in_year','Expandable Memory (GB)','Processor Generation_intel','Screen Size (Inch)'],axis=1,inplace=True)\n",
    "#were affecting are model😅"
   ]
  },
  {
   "cell_type": "markdown",
   "id": "c96b29df-5ad6-4b8f-b2b6-d4dc21eee518",
   "metadata": {},
   "source": [
    "#### _Spilliting_"
   ]
  },
  {
   "cell_type": "markdown",
   "id": "227de02f-abc1-45a5-b265-a54090947f0a",
   "metadata": {},
   "source": [
    "##### _Label / Response_ (Y)"
   ]
  },
  {
   "cell_type": "code",
   "execution_count": 200,
   "id": "a3fde44f-f082-48b8-bc7b-28e0cacb2b7f",
   "metadata": {},
   "outputs": [],
   "source": [
    "y=df2.loc[:,['Price']] "
   ]
  },
  {
   "cell_type": "markdown",
   "id": "8ba8ff0a-efdf-4795-abe5-b15d67580c0d",
   "metadata": {},
   "source": [
    "##### _Features_ (X)"
   ]
  },
  {
   "cell_type": "code",
   "execution_count": 202,
   "id": "a1669101-2122-4bec-963f-cd0de1e54bb4",
   "metadata": {},
   "outputs": [],
   "source": [
    "x=df2.drop(columns=['Price','Rating'],axis=1)\n"
   ]
  },
  {
   "cell_type": "code",
   "execution_count": 203,
   "id": "d4ea12cc-4e1f-43de-98e7-db70fe64b56e",
   "metadata": {},
   "outputs": [
    {
     "data": {
      "text/html": [
       "<div>\n",
       "<style scoped>\n",
       "    .dataframe tbody tr th:only-of-type {\n",
       "        vertical-align: middle;\n",
       "    }\n",
       "\n",
       "    .dataframe tbody tr th {\n",
       "        vertical-align: top;\n",
       "    }\n",
       "\n",
       "    .dataframe thead th {\n",
       "        text-align: right;\n",
       "    }\n",
       "</style>\n",
       "<table border=\"1\" class=\"dataframe\">\n",
       "  <thead>\n",
       "    <tr style=\"text-align: right;\">\n",
       "      <th></th>\n",
       "      <th>Finger Print Sensor</th>\n",
       "      <th>MS Office Provided</th>\n",
       "      <th>Backlit Keyboard</th>\n",
       "      <th>Touchscreen</th>\n",
       "      <th>Face Recognition</th>\n",
       "      <th>Number of Cores</th>\n",
       "      <th>RAM (GB)</th>\n",
       "      <th>RAM Type Rank</th>\n",
       "      <th>SSD (GB)</th>\n",
       "      <th>HDD (GB)</th>\n",
       "      <th>ASUS</th>\n",
       "      <th>Acer</th>\n",
       "      <th>Apple</th>\n",
       "      <th>DELL</th>\n",
       "      <th>HP</th>\n",
       "      <th>Infinix</th>\n",
       "      <th>Lenovo</th>\n",
       "      <th>MICROSOFT</th>\n",
       "      <th>MSI</th>\n",
       "      <th>SAMSUNG</th>\n",
       "      <th>others</th>\n",
       "      <th>drive_HDD</th>\n",
       "      <th>drive_Hybrid</th>\n",
       "      <th>drive_SSD</th>\n",
       "      <th>drive_eMMC</th>\n",
       "      <th>Dedicated Graphic Memory Capacity (GB)</th>\n",
       "      <th>Processor_AMD</th>\n",
       "      <th>Processor_Apple</th>\n",
       "      <th>Processor_Intel</th>\n",
       "      <th>Processor_MediaTek</th>\n",
       "      <th>Processor_Qualcomm</th>\n",
       "      <th>Apple_chips</th>\n",
       "      <th>Processor_variant_new</th>\n",
       "      <th>Expandable SSD Capacity (GB)</th>\n",
       "      <th>GPU_AMD</th>\n",
       "      <th>GPU_Intel</th>\n",
       "      <th>GPU_MediaTek</th>\n",
       "      <th>GPU_NA</th>\n",
       "      <th>GPU_NVIDIA</th>\n",
       "      <th>GPU_Qualcomm</th>\n",
       "      <th>Os_Rank</th>\n",
       "      <th>Laptop_type</th>\n",
       "      <th>Screen_res (pixel)</th>\n",
       "    </tr>\n",
       "  </thead>\n",
       "  <tbody>\n",
       "    <tr>\n",
       "      <th>0</th>\n",
       "      <td>0</td>\n",
       "      <td>0</td>\n",
       "      <td>0</td>\n",
       "      <td>0</td>\n",
       "      <td>0</td>\n",
       "      <td>4</td>\n",
       "      <td>8</td>\n",
       "      <td>4</td>\n",
       "      <td>256</td>\n",
       "      <td>0</td>\n",
       "      <td>0</td>\n",
       "      <td>1</td>\n",
       "      <td>0</td>\n",
       "      <td>0</td>\n",
       "      <td>0</td>\n",
       "      <td>0</td>\n",
       "      <td>0</td>\n",
       "      <td>0</td>\n",
       "      <td>0</td>\n",
       "      <td>0</td>\n",
       "      <td>0</td>\n",
       "      <td>0</td>\n",
       "      <td>0</td>\n",
       "      <td>1</td>\n",
       "      <td>0</td>\n",
       "      <td>0.0</td>\n",
       "      <td>0</td>\n",
       "      <td>0</td>\n",
       "      <td>1</td>\n",
       "      <td>0</td>\n",
       "      <td>0</td>\n",
       "      <td>0.0</td>\n",
       "      <td>1</td>\n",
       "      <td>0</td>\n",
       "      <td>0</td>\n",
       "      <td>1</td>\n",
       "      <td>0</td>\n",
       "      <td>0</td>\n",
       "      <td>0</td>\n",
       "      <td>0</td>\n",
       "      <td>2</td>\n",
       "      <td>0</td>\n",
       "      <td>2073600</td>\n",
       "    </tr>\n",
       "    <tr>\n",
       "      <th>1</th>\n",
       "      <td>0</td>\n",
       "      <td>0</td>\n",
       "      <td>1</td>\n",
       "      <td>0</td>\n",
       "      <td>0</td>\n",
       "      <td>4</td>\n",
       "      <td>16</td>\n",
       "      <td>0</td>\n",
       "      <td>512</td>\n",
       "      <td>0</td>\n",
       "      <td>0</td>\n",
       "      <td>1</td>\n",
       "      <td>0</td>\n",
       "      <td>0</td>\n",
       "      <td>0</td>\n",
       "      <td>0</td>\n",
       "      <td>0</td>\n",
       "      <td>0</td>\n",
       "      <td>0</td>\n",
       "      <td>0</td>\n",
       "      <td>0</td>\n",
       "      <td>0</td>\n",
       "      <td>0</td>\n",
       "      <td>1</td>\n",
       "      <td>0</td>\n",
       "      <td>0.0</td>\n",
       "      <td>0</td>\n",
       "      <td>0</td>\n",
       "      <td>1</td>\n",
       "      <td>0</td>\n",
       "      <td>0</td>\n",
       "      <td>0.0</td>\n",
       "      <td>2</td>\n",
       "      <td>0</td>\n",
       "      <td>0</td>\n",
       "      <td>1</td>\n",
       "      <td>0</td>\n",
       "      <td>0</td>\n",
       "      <td>0</td>\n",
       "      <td>0</td>\n",
       "      <td>7</td>\n",
       "      <td>3</td>\n",
       "      <td>2073600</td>\n",
       "    </tr>\n",
       "    <tr>\n",
       "      <th>2</th>\n",
       "      <td>0</td>\n",
       "      <td>0</td>\n",
       "      <td>0</td>\n",
       "      <td>1</td>\n",
       "      <td>0</td>\n",
       "      <td>8</td>\n",
       "      <td>4</td>\n",
       "      <td>2</td>\n",
       "      <td>0</td>\n",
       "      <td>0</td>\n",
       "      <td>0</td>\n",
       "      <td>0</td>\n",
       "      <td>0</td>\n",
       "      <td>0</td>\n",
       "      <td>1</td>\n",
       "      <td>0</td>\n",
       "      <td>0</td>\n",
       "      <td>0</td>\n",
       "      <td>0</td>\n",
       "      <td>0</td>\n",
       "      <td>0</td>\n",
       "      <td>0</td>\n",
       "      <td>0</td>\n",
       "      <td>0</td>\n",
       "      <td>1</td>\n",
       "      <td>0.0</td>\n",
       "      <td>0</td>\n",
       "      <td>0</td>\n",
       "      <td>0</td>\n",
       "      <td>1</td>\n",
       "      <td>0</td>\n",
       "      <td>0.0</td>\n",
       "      <td>0</td>\n",
       "      <td>0</td>\n",
       "      <td>0</td>\n",
       "      <td>0</td>\n",
       "      <td>1</td>\n",
       "      <td>0</td>\n",
       "      <td>0</td>\n",
       "      <td>0</td>\n",
       "      <td>2</td>\n",
       "      <td>0</td>\n",
       "      <td>1049088</td>\n",
       "    </tr>\n",
       "    <tr>\n",
       "      <th>3</th>\n",
       "      <td>0</td>\n",
       "      <td>0</td>\n",
       "      <td>0</td>\n",
       "      <td>0</td>\n",
       "      <td>0</td>\n",
       "      <td>4</td>\n",
       "      <td>16</td>\n",
       "      <td>0</td>\n",
       "      <td>512</td>\n",
       "      <td>0</td>\n",
       "      <td>0</td>\n",
       "      <td>0</td>\n",
       "      <td>0</td>\n",
       "      <td>0</td>\n",
       "      <td>0</td>\n",
       "      <td>0</td>\n",
       "      <td>0</td>\n",
       "      <td>0</td>\n",
       "      <td>1</td>\n",
       "      <td>0</td>\n",
       "      <td>0</td>\n",
       "      <td>0</td>\n",
       "      <td>0</td>\n",
       "      <td>1</td>\n",
       "      <td>0</td>\n",
       "      <td>4.0</td>\n",
       "      <td>0</td>\n",
       "      <td>0</td>\n",
       "      <td>1</td>\n",
       "      <td>0</td>\n",
       "      <td>0</td>\n",
       "      <td>0.0</td>\n",
       "      <td>3</td>\n",
       "      <td>0</td>\n",
       "      <td>0</td>\n",
       "      <td>0</td>\n",
       "      <td>0</td>\n",
       "      <td>0</td>\n",
       "      <td>1</td>\n",
       "      <td>0</td>\n",
       "      <td>7</td>\n",
       "      <td>7</td>\n",
       "      <td>2073600</td>\n",
       "    </tr>\n",
       "    <tr>\n",
       "      <th>4</th>\n",
       "      <td>0</td>\n",
       "      <td>1</td>\n",
       "      <td>0</td>\n",
       "      <td>0</td>\n",
       "      <td>0</td>\n",
       "      <td>4</td>\n",
       "      <td>8</td>\n",
       "      <td>0</td>\n",
       "      <td>512</td>\n",
       "      <td>0</td>\n",
       "      <td>0</td>\n",
       "      <td>0</td>\n",
       "      <td>0</td>\n",
       "      <td>0</td>\n",
       "      <td>1</td>\n",
       "      <td>0</td>\n",
       "      <td>0</td>\n",
       "      <td>0</td>\n",
       "      <td>0</td>\n",
       "      <td>0</td>\n",
       "      <td>0</td>\n",
       "      <td>0</td>\n",
       "      <td>0</td>\n",
       "      <td>1</td>\n",
       "      <td>0</td>\n",
       "      <td>0.0</td>\n",
       "      <td>0</td>\n",
       "      <td>0</td>\n",
       "      <td>1</td>\n",
       "      <td>0</td>\n",
       "      <td>0</td>\n",
       "      <td>0.0</td>\n",
       "      <td>2</td>\n",
       "      <td>0</td>\n",
       "      <td>0</td>\n",
       "      <td>1</td>\n",
       "      <td>0</td>\n",
       "      <td>0</td>\n",
       "      <td>0</td>\n",
       "      <td>0</td>\n",
       "      <td>7</td>\n",
       "      <td>3</td>\n",
       "      <td>2073600</td>\n",
       "    </tr>\n",
       "    <tr>\n",
       "      <th>...</th>\n",
       "      <td>...</td>\n",
       "      <td>...</td>\n",
       "      <td>...</td>\n",
       "      <td>...</td>\n",
       "      <td>...</td>\n",
       "      <td>...</td>\n",
       "      <td>...</td>\n",
       "      <td>...</td>\n",
       "      <td>...</td>\n",
       "      <td>...</td>\n",
       "      <td>...</td>\n",
       "      <td>...</td>\n",
       "      <td>...</td>\n",
       "      <td>...</td>\n",
       "      <td>...</td>\n",
       "      <td>...</td>\n",
       "      <td>...</td>\n",
       "      <td>...</td>\n",
       "      <td>...</td>\n",
       "      <td>...</td>\n",
       "      <td>...</td>\n",
       "      <td>...</td>\n",
       "      <td>...</td>\n",
       "      <td>...</td>\n",
       "      <td>...</td>\n",
       "      <td>...</td>\n",
       "      <td>...</td>\n",
       "      <td>...</td>\n",
       "      <td>...</td>\n",
       "      <td>...</td>\n",
       "      <td>...</td>\n",
       "      <td>...</td>\n",
       "      <td>...</td>\n",
       "      <td>...</td>\n",
       "      <td>...</td>\n",
       "      <td>...</td>\n",
       "      <td>...</td>\n",
       "      <td>...</td>\n",
       "      <td>...</td>\n",
       "      <td>...</td>\n",
       "      <td>...</td>\n",
       "      <td>...</td>\n",
       "      <td>...</td>\n",
       "    </tr>\n",
       "    <tr>\n",
       "      <th>950</th>\n",
       "      <td>0</td>\n",
       "      <td>1</td>\n",
       "      <td>1</td>\n",
       "      <td>0</td>\n",
       "      <td>0</td>\n",
       "      <td>10</td>\n",
       "      <td>8</td>\n",
       "      <td>0</td>\n",
       "      <td>512</td>\n",
       "      <td>0</td>\n",
       "      <td>0</td>\n",
       "      <td>0</td>\n",
       "      <td>0</td>\n",
       "      <td>0</td>\n",
       "      <td>1</td>\n",
       "      <td>0</td>\n",
       "      <td>0</td>\n",
       "      <td>0</td>\n",
       "      <td>0</td>\n",
       "      <td>0</td>\n",
       "      <td>0</td>\n",
       "      <td>0</td>\n",
       "      <td>0</td>\n",
       "      <td>1</td>\n",
       "      <td>0</td>\n",
       "      <td>4.0</td>\n",
       "      <td>0</td>\n",
       "      <td>0</td>\n",
       "      <td>1</td>\n",
       "      <td>0</td>\n",
       "      <td>0</td>\n",
       "      <td>0.0</td>\n",
       "      <td>0</td>\n",
       "      <td>0</td>\n",
       "      <td>0</td>\n",
       "      <td>0</td>\n",
       "      <td>0</td>\n",
       "      <td>0</td>\n",
       "      <td>1</td>\n",
       "      <td>0</td>\n",
       "      <td>7</td>\n",
       "      <td>7</td>\n",
       "      <td>2073600</td>\n",
       "    </tr>\n",
       "    <tr>\n",
       "      <th>951</th>\n",
       "      <td>0</td>\n",
       "      <td>1</td>\n",
       "      <td>1</td>\n",
       "      <td>0</td>\n",
       "      <td>0</td>\n",
       "      <td>4</td>\n",
       "      <td>16</td>\n",
       "      <td>0</td>\n",
       "      <td>512</td>\n",
       "      <td>0</td>\n",
       "      <td>1</td>\n",
       "      <td>0</td>\n",
       "      <td>0</td>\n",
       "      <td>0</td>\n",
       "      <td>0</td>\n",
       "      <td>0</td>\n",
       "      <td>0</td>\n",
       "      <td>0</td>\n",
       "      <td>0</td>\n",
       "      <td>0</td>\n",
       "      <td>0</td>\n",
       "      <td>0</td>\n",
       "      <td>0</td>\n",
       "      <td>1</td>\n",
       "      <td>0</td>\n",
       "      <td>4.0</td>\n",
       "      <td>0</td>\n",
       "      <td>0</td>\n",
       "      <td>1</td>\n",
       "      <td>0</td>\n",
       "      <td>0</td>\n",
       "      <td>0.0</td>\n",
       "      <td>3</td>\n",
       "      <td>0</td>\n",
       "      <td>0</td>\n",
       "      <td>0</td>\n",
       "      <td>0</td>\n",
       "      <td>0</td>\n",
       "      <td>1</td>\n",
       "      <td>0</td>\n",
       "      <td>7</td>\n",
       "      <td>7</td>\n",
       "      <td>2304000</td>\n",
       "    </tr>\n",
       "    <tr>\n",
       "      <th>955</th>\n",
       "      <td>1</td>\n",
       "      <td>1</td>\n",
       "      <td>1</td>\n",
       "      <td>0</td>\n",
       "      <td>0</td>\n",
       "      <td>10</td>\n",
       "      <td>16</td>\n",
       "      <td>2</td>\n",
       "      <td>512</td>\n",
       "      <td>0</td>\n",
       "      <td>0</td>\n",
       "      <td>0</td>\n",
       "      <td>0</td>\n",
       "      <td>0</td>\n",
       "      <td>0</td>\n",
       "      <td>0</td>\n",
       "      <td>0</td>\n",
       "      <td>0</td>\n",
       "      <td>0</td>\n",
       "      <td>1</td>\n",
       "      <td>0</td>\n",
       "      <td>0</td>\n",
       "      <td>0</td>\n",
       "      <td>1</td>\n",
       "      <td>0</td>\n",
       "      <td>0.0</td>\n",
       "      <td>0</td>\n",
       "      <td>0</td>\n",
       "      <td>1</td>\n",
       "      <td>0</td>\n",
       "      <td>0</td>\n",
       "      <td>0.0</td>\n",
       "      <td>2</td>\n",
       "      <td>0</td>\n",
       "      <td>0</td>\n",
       "      <td>1</td>\n",
       "      <td>0</td>\n",
       "      <td>0</td>\n",
       "      <td>0</td>\n",
       "      <td>0</td>\n",
       "      <td>7</td>\n",
       "      <td>3</td>\n",
       "      <td>2073600</td>\n",
       "    </tr>\n",
       "    <tr>\n",
       "      <th>958</th>\n",
       "      <td>0</td>\n",
       "      <td>1</td>\n",
       "      <td>0</td>\n",
       "      <td>0</td>\n",
       "      <td>0</td>\n",
       "      <td>2</td>\n",
       "      <td>8</td>\n",
       "      <td>0</td>\n",
       "      <td>256</td>\n",
       "      <td>1000</td>\n",
       "      <td>0</td>\n",
       "      <td>0</td>\n",
       "      <td>0</td>\n",
       "      <td>0</td>\n",
       "      <td>1</td>\n",
       "      <td>0</td>\n",
       "      <td>0</td>\n",
       "      <td>0</td>\n",
       "      <td>0</td>\n",
       "      <td>0</td>\n",
       "      <td>0</td>\n",
       "      <td>0</td>\n",
       "      <td>1</td>\n",
       "      <td>0</td>\n",
       "      <td>0</td>\n",
       "      <td>0.0</td>\n",
       "      <td>1</td>\n",
       "      <td>0</td>\n",
       "      <td>0</td>\n",
       "      <td>0</td>\n",
       "      <td>0</td>\n",
       "      <td>0.0</td>\n",
       "      <td>2</td>\n",
       "      <td>0</td>\n",
       "      <td>1</td>\n",
       "      <td>0</td>\n",
       "      <td>0</td>\n",
       "      <td>0</td>\n",
       "      <td>0</td>\n",
       "      <td>0</td>\n",
       "      <td>4</td>\n",
       "      <td>2</td>\n",
       "      <td>2073600</td>\n",
       "    </tr>\n",
       "    <tr>\n",
       "      <th>959</th>\n",
       "      <td>1</td>\n",
       "      <td>1</td>\n",
       "      <td>0</td>\n",
       "      <td>0</td>\n",
       "      <td>0</td>\n",
       "      <td>4</td>\n",
       "      <td>8</td>\n",
       "      <td>0</td>\n",
       "      <td>512</td>\n",
       "      <td>0</td>\n",
       "      <td>1</td>\n",
       "      <td>0</td>\n",
       "      <td>0</td>\n",
       "      <td>0</td>\n",
       "      <td>0</td>\n",
       "      <td>0</td>\n",
       "      <td>0</td>\n",
       "      <td>0</td>\n",
       "      <td>0</td>\n",
       "      <td>0</td>\n",
       "      <td>0</td>\n",
       "      <td>0</td>\n",
       "      <td>0</td>\n",
       "      <td>1</td>\n",
       "      <td>0</td>\n",
       "      <td>0.0</td>\n",
       "      <td>0</td>\n",
       "      <td>0</td>\n",
       "      <td>1</td>\n",
       "      <td>0</td>\n",
       "      <td>0</td>\n",
       "      <td>0.0</td>\n",
       "      <td>2</td>\n",
       "      <td>0</td>\n",
       "      <td>0</td>\n",
       "      <td>1</td>\n",
       "      <td>0</td>\n",
       "      <td>0</td>\n",
       "      <td>0</td>\n",
       "      <td>0</td>\n",
       "      <td>7</td>\n",
       "      <td>3</td>\n",
       "      <td>2073600</td>\n",
       "    </tr>\n",
       "  </tbody>\n",
       "</table>\n",
       "<p>548 rows × 43 columns</p>\n",
       "</div>"
      ],
      "text/plain": [
       "     Finger Print Sensor  MS Office Provided  Backlit Keyboard  Touchscreen  \\\n",
       "0                      0                   0                 0            0   \n",
       "1                      0                   0                 1            0   \n",
       "2                      0                   0                 0            1   \n",
       "3                      0                   0                 0            0   \n",
       "4                      0                   1                 0            0   \n",
       "..                   ...                 ...               ...          ...   \n",
       "950                    0                   1                 1            0   \n",
       "951                    0                   1                 1            0   \n",
       "955                    1                   1                 1            0   \n",
       "958                    0                   1                 0            0   \n",
       "959                    1                   1                 0            0   \n",
       "\n",
       "     Face Recognition  Number of Cores  RAM (GB)  RAM Type Rank  SSD (GB)  \\\n",
       "0                   0                4         8              4       256   \n",
       "1                   0                4        16              0       512   \n",
       "2                   0                8         4              2         0   \n",
       "3                   0                4        16              0       512   \n",
       "4                   0                4         8              0       512   \n",
       "..                ...              ...       ...            ...       ...   \n",
       "950                 0               10         8              0       512   \n",
       "951                 0                4        16              0       512   \n",
       "955                 0               10        16              2       512   \n",
       "958                 0                2         8              0       256   \n",
       "959                 0                4         8              0       512   \n",
       "\n",
       "     HDD (GB)  ASUS  Acer  Apple  DELL  HP  Infinix  Lenovo  MICROSOFT  MSI  \\\n",
       "0           0     0     1      0     0   0        0       0          0    0   \n",
       "1           0     0     1      0     0   0        0       0          0    0   \n",
       "2           0     0     0      0     0   1        0       0          0    0   \n",
       "3           0     0     0      0     0   0        0       0          0    1   \n",
       "4           0     0     0      0     0   1        0       0          0    0   \n",
       "..        ...   ...   ...    ...   ...  ..      ...     ...        ...  ...   \n",
       "950         0     0     0      0     0   1        0       0          0    0   \n",
       "951         0     1     0      0     0   0        0       0          0    0   \n",
       "955         0     0     0      0     0   0        0       0          0    0   \n",
       "958      1000     0     0      0     0   1        0       0          0    0   \n",
       "959         0     1     0      0     0   0        0       0          0    0   \n",
       "\n",
       "     SAMSUNG  others  drive_HDD  drive_Hybrid  drive_SSD  drive_eMMC  \\\n",
       "0          0       0          0             0          1           0   \n",
       "1          0       0          0             0          1           0   \n",
       "2          0       0          0             0          0           1   \n",
       "3          0       0          0             0          1           0   \n",
       "4          0       0          0             0          1           0   \n",
       "..       ...     ...        ...           ...        ...         ...   \n",
       "950        0       0          0             0          1           0   \n",
       "951        0       0          0             0          1           0   \n",
       "955        1       0          0             0          1           0   \n",
       "958        0       0          0             1          0           0   \n",
       "959        0       0          0             0          1           0   \n",
       "\n",
       "     Dedicated Graphic Memory Capacity (GB)  Processor_AMD  Processor_Apple  \\\n",
       "0                                       0.0              0                0   \n",
       "1                                       0.0              0                0   \n",
       "2                                       0.0              0                0   \n",
       "3                                       4.0              0                0   \n",
       "4                                       0.0              0                0   \n",
       "..                                      ...            ...              ...   \n",
       "950                                     4.0              0                0   \n",
       "951                                     4.0              0                0   \n",
       "955                                     0.0              0                0   \n",
       "958                                     0.0              1                0   \n",
       "959                                     0.0              0                0   \n",
       "\n",
       "     Processor_Intel  Processor_MediaTek  Processor_Qualcomm  Apple_chips  \\\n",
       "0                  1                   0                   0          0.0   \n",
       "1                  1                   0                   0          0.0   \n",
       "2                  0                   1                   0          0.0   \n",
       "3                  1                   0                   0          0.0   \n",
       "4                  1                   0                   0          0.0   \n",
       "..               ...                 ...                 ...          ...   \n",
       "950                1                   0                   0          0.0   \n",
       "951                1                   0                   0          0.0   \n",
       "955                1                   0                   0          0.0   \n",
       "958                0                   0                   0          0.0   \n",
       "959                1                   0                   0          0.0   \n",
       "\n",
       "     Processor_variant_new  Expandable SSD Capacity (GB)  GPU_AMD  GPU_Intel  \\\n",
       "0                        1                             0        0          1   \n",
       "1                        2                             0        0          1   \n",
       "2                        0                             0        0          0   \n",
       "3                        3                             0        0          0   \n",
       "4                        2                             0        0          1   \n",
       "..                     ...                           ...      ...        ...   \n",
       "950                      0                             0        0          0   \n",
       "951                      3                             0        0          0   \n",
       "955                      2                             0        0          1   \n",
       "958                      2                             0        1          0   \n",
       "959                      2                             0        0          1   \n",
       "\n",
       "     GPU_MediaTek  GPU_NA  GPU_NVIDIA  GPU_Qualcomm  Os_Rank  Laptop_type  \\\n",
       "0               0       0           0             0        2            0   \n",
       "1               0       0           0             0        7            3   \n",
       "2               1       0           0             0        2            0   \n",
       "3               0       0           1             0        7            7   \n",
       "4               0       0           0             0        7            3   \n",
       "..            ...     ...         ...           ...      ...          ...   \n",
       "950             0       0           1             0        7            7   \n",
       "951             0       0           1             0        7            7   \n",
       "955             0       0           0             0        7            3   \n",
       "958             0       0           0             0        4            2   \n",
       "959             0       0           0             0        7            3   \n",
       "\n",
       "     Screen_res (pixel)  \n",
       "0               2073600  \n",
       "1               2073600  \n",
       "2               1049088  \n",
       "3               2073600  \n",
       "4               2073600  \n",
       "..                  ...  \n",
       "950             2073600  \n",
       "951             2304000  \n",
       "955             2073600  \n",
       "958             2073600  \n",
       "959             2073600  \n",
       "\n",
       "[548 rows x 43 columns]"
      ]
     },
     "execution_count": 203,
     "metadata": {},
     "output_type": "execute_result"
    }
   ],
   "source": [
    "x"
   ]
  },
  {
   "cell_type": "code",
   "execution_count": 204,
   "id": "c4fd4ed9-fbd5-4ba4-9083-3507bb3deb50",
   "metadata": {},
   "outputs": [
    {
     "data": {
      "text/plain": [
       "43"
      ]
     },
     "execution_count": 204,
     "metadata": {},
     "output_type": "execute_result"
    }
   ],
   "source": [
    "len(x.columns)"
   ]
  },
  {
   "cell_type": "markdown",
   "id": "b782fe49-dba5-4f65-881a-e441e90a0637",
   "metadata": {},
   "source": [
    "#### _Train Test split_"
   ]
  },
  {
   "cell_type": "code",
   "execution_count": 206,
   "id": "9a098193",
   "metadata": {},
   "outputs": [],
   "source": [
    "x_train, x_test, y_train, y_test = train_test_split(x, y, test_size=0.2, random_state=123)\n"
   ]
  },
  {
   "cell_type": "markdown",
   "id": "e4af62ac-7659-4414-87e9-23c510c2d27b",
   "metadata": {},
   "source": [
    "#### _Scalling_"
   ]
  },
  {
   "cell_type": "code",
   "execution_count": 208,
   "id": "776119b0-10cf-489e-8483-a57ec1c4badc",
   "metadata": {},
   "outputs": [],
   "source": [
    "scaler=RobustScaler()\n",
    "x_train=scaler.fit_transform(x_train)\n",
    "x_test=scaler.transform(x_test)\n"
   ]
  },
  {
   "cell_type": "markdown",
   "id": "7fa81ab7-14d2-4f21-ac07-0cdcec86c6f4",
   "metadata": {},
   "source": [
    "#### _LInear_"
   ]
  },
  {
   "cell_type": "code",
   "execution_count": 210,
   "id": "09720070-93f4-42d8-90b7-2a987e1d84f3",
   "metadata": {},
   "outputs": [],
   "source": [
    "model = LinearRegression()"
   ]
  },
  {
   "cell_type": "markdown",
   "id": "0f5000e1-23a5-46c2-9468-95ea8cfd20de",
   "metadata": {},
   "source": [
    "#### _Cross-Validation (10-Fold CV)_"
   ]
  },
  {
   "cell_type": "code",
   "execution_count": 212,
   "id": "d6d4c511-2e5b-485a-9eaf-3eb0d7334b2c",
   "metadata": {},
   "outputs": [
    {
     "name": "stdout",
     "output_type": "stream",
     "text": [
      "Cross-Validation R² Scores: [0.86908024 0.88636003 0.66172715 0.82165846 0.86898372 0.61976546\n",
      " 0.88375075 0.68391521 0.75297088 0.68686913]\n",
      "Mean CV R²: 0.7735 ± 0.0988\n"
     ]
    }
   ],
   "source": [
    "cv_scores = cross_val_score(model, x_train, y_train, cv=10, scoring='r2')\n",
    "\n",
    "print(f\"Cross-Validation R² Scores: {cv_scores}\")\n",
    "print(f\"Mean CV R²: {np.mean(cv_scores):.4f} ± {np.std(cv_scores):.4f}\")"
   ]
  },
  {
   "cell_type": "code",
   "execution_count": 213,
   "id": "1a2b054d-15c5-4c9d-b898-2932c872502c",
   "metadata": {},
   "outputs": [],
   "source": [
    "pred_model=model.fit(x_train, y_train)"
   ]
  },
  {
   "cell_type": "code",
   "execution_count": 214,
   "id": "89b45a0b-5ef2-40ab-8a83-16044e54f14b",
   "metadata": {},
   "outputs": [],
   "source": [
    "y_pred=model.predict(x_test)"
   ]
  },
  {
   "cell_type": "markdown",
   "id": "2c46aabf-401d-46fd-af1f-e45ee2d1e0f1",
   "metadata": {},
   "source": [
    "#### _Visualizing Model Performance_ 📊"
   ]
  },
  {
   "cell_type": "code",
   "execution_count": 216,
   "id": "2c015773-60f0-43e9-948d-f65e85cff61d",
   "metadata": {},
   "outputs": [
    {
     "data": {
      "text/plain": [
       "Text(0.5, 1.0, 'Prediction Performance')"
      ]
     },
     "execution_count": 216,
     "metadata": {},
     "output_type": "execute_result"
    },
    {
     "data": {
      "image/png": "[encoded data removed]",
      "text/plain": [
       "<Figure size 640x480 with 1 Axes>"
      ]
     },
     "metadata": {},
     "output_type": "display_data"
    }
   ],
   "source": [
    "plt.plot(y_test,y_pred,'o',alpha=0.7)\n",
    "plt.plot([(y_test.min()),(y_test.max())],[(y_test.min()),(y_test.max())],color='black')\n",
    "plt.title('Prediction Performance')"
   ]
  },
  {
   "cell_type": "markdown",
   "id": "cf5c03a1-0d32-4f35-9ef1-c1bd2ac893af",
   "metadata": {},
   "source": [
    "#### _Evaluate Model Performance_"
   ]
  },
  {
   "cell_type": "code",
   "execution_count": 218,
   "id": "f4581e96-86c8-45d4-9c67-4e3461e8fbe3",
   "metadata": {},
   "outputs": [],
   "source": [
    "mae = mean_absolute_error(y_test, y_pred)\n",
    "mse = mean_squared_error(y_test, y_pred)\n",
    "rmse = np.sqrt(mse)\n",
    "r2 = r2_score(y_test, y_pred)"
   ]
  },
  {
   "cell_type": "markdown",
   "id": "862bac22-841f-4569-ac04-594a44865db2",
   "metadata": {},
   "source": [
    "## Accuracy 🎯"
   ]
  },
  {
   "cell_type": "code",
   "execution_count": 220,
   "id": "fe5e74f9-f5c7-42a7-a85b-ee5e4e2f958f",
   "metadata": {},
   "outputs": [
    {
     "name": "stdout",
     "output_type": "stream",
     "text": [
      " Mean_squared_error >> 0.8622081449748344\n",
      "\n",
      " R2_score >> 0.8622081449748344 \n",
      "\n",
      " Adjusted_R2_score >> 0.85\n",
      "\n",
      " MAE  >>  11970.353942968712,\n",
      "\n",
      " RMSE  >> 16686.821392033362\n"
     ]
    }
   ],
   "source": [
    "print(f' Mean_squared_error >> {r2}\\n\\n R2_score >> {r2} \\n\\n Adjusted_R2_score >> {round(1-((1-r2_score(y_test,y_pred))*len(x_train)-1)/(len(x_train)-len(x.columns)-1),2)}')\n",
    "print(f'\\n MAE  >>  {mae},\\n\\n RMSE  >> {rmse}')"
   ]
  },
  {
   "cell_type": "code",
   "execution_count": 221,
   "id": "84157a5a-4de3-49ca-a125-768e80bae4b8",
   "metadata": {},
   "outputs": [],
   "source": [
    "#Strong Predictive Power , Effective Feature Engineering"
   ]
  },
  {
   "cell_type": "markdown",
   "id": "767d0f6d-c587-4ae3-8881-38a574c0a669",
   "metadata": {},
   "source": [
    "###### An R² of 0.86 indicates that our model explains 86% of the variance in the target variable.\n",
    "###### This suggests that the model has strong predictive power and is capturing the underlying patterns in the data effectively."
   ]
  },
  {
   "cell_type": "markdown",
   "id": "2d111afc-1b82-43a2-972c-449a6560b65f",
   "metadata": {},
   "source": [
    "### RESIDUAL PLOT"
   ]
  },
  {
   "cell_type": "code",
   "execution_count": 224,
   "id": "72a9b23c-4720-4df4-810e-96dbb6726a1c",
   "metadata": {},
   "outputs": [
    {
     "data": {
      "text/plain": [
       "Text(0.5, 1.0, 'distribution of Residuals')"
      ]
     },
     "execution_count": 224,
     "metadata": {},
     "output_type": "execute_result"
    },
    {
     "data": {
      "image/png": "[encoded data removed]",
      "text/plain": [
       "<Figure size 1200x400 with 2 Axes>"
      ]
     },
     "metadata": {},
     "output_type": "display_data"
    }
   ],
   "source": [
    "fig,ax=plt.subplots(1,2,figsize=(12,4))\n",
    "ax=ax.flatten()\n",
    "ax[1].plot(y_pred-y_test,y_pred,'o')\n",
    "ax[1].axhline(y=0,color='black')\n",
    "ax[1].set_title(\"Residual Plot\")\n",
    "sns.kdeplot(y_pred-y_test,ax=ax[0])\n",
    "ax[0].set_title('distribution of Residuals')\n"
   ]
  },
  {
   "cell_type": "code",
   "execution_count": 225,
   "id": "35f63dcf-8b4b-4dfb-9059-2c9046d6eb93",
   "metadata": {},
   "outputs": [
    {
     "data": {
      "image/png": "[encoded data removed]",
      "text/plain": [
       "<Figure size 640x480 with 1 Axes>"
      ]
     },
     "metadata": {},
     "output_type": "display_data"
    }
   ],
   "source": [
    "res=(y_pred-y_test)\n",
    "stats.probplot(np.asarray(res).reshape(110),dist='norm',plot=plt);\n"
   ]
  },
  {
   "cell_type": "markdown",
   "id": "4b3e8e64-654f-4b24-8d54-c9fc7e5bf897",
   "metadata": {},
   "source": [
    "## Bringing Predictions to Life: Loading the Trained Model for Action! 🚀📊"
   ]
  },
  {
   "cell_type": "code",
   "execution_count": 227,
   "id": "aba60bf6",
   "metadata": {},
   "outputs": [],
   "source": [
    "import pickle\n",
    "with open('laptop_pred_new.pkl','wb') as file:\n",
    "    pickle.dump(pred_model,file)"
   ]
  },
  {
   "cell_type": "code",
   "execution_count": null,
   "id": "4dbbf37a-92d4-4c37-acdd-c10d90583ce5",
   "metadata": {},
   "outputs": [],
   "source": []
  },
  {
   "cell_type": "markdown",
   "id": "5001fb61-4eb3-4757-a3c9-9c3de26fc3b3",
   "metadata": {},
   "source": [
    "### Coefficent values of Features 🔽"
   ]
  },
  {
   "cell_type": "code",
   "execution_count": 229,
   "id": "e56f82f6-fd3b-427e-b0a5-b8f99cf4f1fd",
   "metadata": {},
   "outputs": [
    {
     "name": "stdout",
     "output_type": "stream",
     "text": [
      "Finger Print Sensor: -1471.396751533703\n",
      "\n",
      "MS Office Provided: 934.2133445713442\n",
      "\n",
      "Backlit Keyboard: 1902.060094687498\n",
      "\n",
      "Touchscreen: 18687.066070664496\n",
      "\n",
      "Face Recognition: -17758.414456802657\n",
      "\n",
      "Number of Cores: 366.0705835618772\n",
      "\n",
      "RAM (GB): 21594.96983371331\n",
      "\n",
      "RAM Type Rank: 1834.7063356821195\n",
      "\n",
      "SSD (GB): 37.47113367876666\n",
      "\n",
      "HDD (GB): 4.3042720956604255\n",
      "\n",
      "ASUS: -4284.602502328417\n",
      "\n",
      "Acer: -9358.515336591357\n",
      "\n",
      "Apple: -1256.7784913086566\n",
      "\n",
      "DELL: 2261.6642531121865\n",
      "\n",
      "HP: 1355.4111677662725\n",
      "\n",
      "Infinix: -6986.071363488311\n",
      "\n",
      "Lenovo: -4104.937676826726\n",
      "\n",
      "MICROSOFT: 21929.264078268152\n",
      "\n",
      "MSI: -3560.592240957504\n",
      "\n",
      "SAMSUNG: 10410.048484952882\n",
      "\n",
      "others: -6404.890319231915\n",
      "\n",
      "drive_HDD: 16147.65427810586\n",
      "\n",
      "drive_Hybrid: -1364.9120793818438\n",
      "\n",
      "drive_SSD: -11654.084873605752\n",
      "\n",
      "drive_eMMC: -3128.6573251182376\n",
      "\n",
      "Dedicated Graphic Memory Capacity (GB): 5810.624844018219\n",
      "\n",
      "Processor_AMD: -2172.788172541744\n",
      "\n",
      "Processor_Apple: -1256.7785115734157\n",
      "\n",
      "Processor_Intel: 5801.248352021172\n",
      "\n",
      "Processor_MediaTek: -1912.8820099188035\n",
      "\n",
      "Processor_Qualcomm: -458.7996579871763\n",
      "\n",
      "Apple_chips: 19372.537602806802\n",
      "\n",
      "Processor_variant_new: -2257.722577050613\n",
      "\n",
      "Expandable SSD Capacity (GB): 11.37775838488649\n",
      "\n",
      "GPU_AMD: 1585.4203314025124\n",
      "\n",
      "GPU_Intel: -1533.7573031529516\n",
      "\n",
      "GPU_MediaTek: -1912.8820099187944\n",
      "\n",
      "GPU_NA: 1419.2853850480972\n",
      "\n",
      "GPU_NVIDIA: -13744.536733668247\n",
      "\n",
      "GPU_Qualcomm: 14186.470330289701\n",
      "\n",
      "Os_Rank: -1930.5933548857793\n",
      "\n",
      "Laptop_type: 3998.592974199581\n",
      "\n",
      "Screen_res (pixel): 0.012800208339172059\n",
      "\n"
     ]
    }
   ],
   "source": [
    "for i in range(0,len(model.coef_[0])):\n",
    "    print(f\"{x.columns[i]}: {model.coef_[0][i]}\")\n",
    "    print()"
   ]
  },
  {
   "cell_type": "code",
   "execution_count": null,
   "id": "226cb9de-45f7-4aa4-8d96-e4d24fe23593",
   "metadata": {},
   "outputs": [],
   "source": []
  },
  {
   "cell_type": "code",
   "execution_count": null,
   "id": "e4010efc-32da-471e-a664-7aa5056ff9c1",
   "metadata": {},
   "outputs": [],
   "source": []
  },
  {
   "cell_type": "code",
   "execution_count": null,
   "id": "35f7a039-07e3-4bfa-9bf0-7c6a6c09ff15",
   "metadata": {},
   "outputs": [],
   "source": []
  },
  {
   "cell_type": "code",
   "execution_count": null,
   "id": "32a75403-47bc-4802-b78d-dd2888820457",
   "metadata": {},
   "outputs": [],
   "source": []
  },
  {
   "cell_type": "code",
   "execution_count": null,
   "id": "596e74ca-7d54-4540-a0b6-7472694a0281",
   "metadata": {},
   "outputs": [],
   "source": []
  },
  {
   "cell_type": "code",
   "execution_count": null,
   "id": "8dd71e57-97d1-49e0-9de0-d94c6604c55c",
   "metadata": {},
   "outputs": [],
   "source": []
  },
  {
   "cell_type": "code",
   "execution_count": null,
   "id": "62adf2c5-c19f-4803-abdc-a8400a28c22a",
   "metadata": {},
   "outputs": [],
   "source": []
  },
  {
   "cell_type": "code",
   "execution_count": null,
   "id": "0b169849-9f56-4803-b5e5-14fdfef422b9",
   "metadata": {},
   "outputs": [],
   "source": []
  },
  {
   "cell_type": "code",
   "execution_count": null,
   "id": "fcafeecf-028a-4afd-a48e-fcea6b0b3e52",
   "metadata": {},
   "outputs": [],
   "source": []
  },
  {
   "cell_type": "code",
   "execution_count": null,
   "id": "5748f574-a557-4d5c-8444-9a4749da68f5",
   "metadata": {},
   "outputs": [],
   "source": []
  },
  {
   "cell_type": "code",
   "execution_count": null,
   "id": "8f669665-1c26-43d8-bae8-ae152a178e0c",
   "metadata": {},
   "outputs": [],
   "source": []
  },
  {
   "cell_type": "code",
   "execution_count": null,
   "id": "23f8ffc6-4d5a-47a1-9488-15165a5658a1",
   "metadata": {},
   "outputs": [],
   "source": []
  },
  {
   "cell_type": "code",
   "execution_count": null,
   "id": "c7e53c21-8693-44a2-89b3-1f64cbcb179f",
   "metadata": {},
   "outputs": [],
   "source": []
  },
  {
   "cell_type": "code",
   "execution_count": null,
   "id": "c6c4b510-99ac-47b2-a783-cdd18cc74e91",
   "metadata": {},
   "outputs": [],
   "source": []
  },
  {
   "cell_type": "code",
   "execution_count": null,
   "id": "a463234b-8acd-4483-a659-de77d71e507a",
   "metadata": {},
   "outputs": [],
   "source": []
  },
  {
   "cell_type": "code",
   "execution_count": null,
   "id": "580a7373-17ca-4055-a0e3-05d8da7ecb21",
   "metadata": {},
   "outputs": [],
   "source": []
  },
  {
   "cell_type": "code",
   "execution_count": null,
   "id": "9014f17d-4470-4241-83d4-bbc162353884",
   "metadata": {},
   "outputs": [],
   "source": []
  },
  {
   "cell_type": "code",
   "execution_count": null,
   "id": "36a2e961-2565-4604-8523-d169aa0e5c37",
   "metadata": {},
   "outputs": [],
   "source": []
  },
  {
   "cell_type": "code",
   "execution_count": null,
   "id": "dadef328-2722-44f3-a531-bb7616afd2a2",
   "metadata": {},
   "outputs": [],
   "source": []
  },
  {
   "cell_type": "code",
   "execution_count": null,
   "id": "9af9664b-5c0e-4b4e-98e4-3dc236fd35df",
   "metadata": {},
   "outputs": [],
   "source": []
  },
  {
   "cell_type": "code",
   "execution_count": null,
   "id": "635a2ab6-e912-447b-b2bb-d86f64ef7626",
   "metadata": {},
   "outputs": [],
   "source": []
  },
  {
   "cell_type": "code",
   "execution_count": null,
   "id": "b4654806-49b0-4c81-b8c8-ee4bd443f6d7",
   "metadata": {},
   "outputs": [],
   "source": []
  },
  {
   "cell_type": "code",
   "execution_count": null,
   "id": "b3ded428-71b6-4497-95c4-db4effc5ded3",
   "metadata": {},
   "outputs": [],
   "source": []
  }
 ],
 "metadata": {
  "kernelspec": {
   "display_name": "Python 3 (ipykernel)",
   "language": "python",
   "name": "python3"
  },
  "language_info": {
   "codemirror_mode": {
    "name": "ipython",
    "version": 3
   },
   "file_extension": ".py",
   "mimetype": "text/x-python",
   "name": "python",
   "nbconvert_exporter": "python",
   "pygments_lexer": "ipython3",
   "version": "3.12.5"
  }
 },
 "nbformat": 4,
 "nbformat_minor": 5
}
